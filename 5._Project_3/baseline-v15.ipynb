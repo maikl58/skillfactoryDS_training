{
 "cells": [
  {
   "cell_type": "code",
   "execution_count": 1,
   "metadata": {
    "_cell_guid": "b1076dfc-b9ad-4769-8c92-a6c4dae69d19",
    "_uuid": "8f2839f25d086af736a60e9eeb907d3b93b6e0e5",
    "execution": {
     "iopub.execute_input": "2023-08-28T17:19:52.726483Z",
     "iopub.status.busy": "2023-08-28T17:19:52.726084Z",
     "iopub.status.idle": "2023-08-28T17:19:52.752291Z",
     "shell.execute_reply": "2023-08-28T17:19:52.750964Z",
     "shell.execute_reply.started": "2023-08-28T17:19:52.726436Z"
    }
   },
   "outputs": [],
   "source": [
    "# This Python 3 environment comes with many helpful analytics libraries installed\n",
    "# It is defined by the kaggle/python Docker image: https://github.com/kaggle/docker-python\n",
    "# For example, here's several helpful packages to load\n",
    "\n",
    "import os\n",
    "from sklearn.model_selection import train_test_split\n",
    "import numpy as np  # linear algebra\n",
    "import pandas as pd  # data processing, CSV file I/O (e.g. pd.read_csv)\n",
    "import category_encoders as ce\n",
    "import requests\n",
    "\n",
    "# импортируем библиотеки для визуализации\n",
    "import matplotlib.pyplot as plt\n",
    "import seaborn as sns\n",
    "%matplotlib inline\n",
    "\n",
    "# Загружаем специальный удобный инструмент для разделения датасета:\n",
    "\n",
    "\n",
    "# Input data files are available in the read-only \"../input/\" directory\n",
    "# For example, running this (by clicking run or pressing Shift+Enter) will list all files under the input directory\n",
    "\n",
    "for dirname, _, filenames in os.walk('/kaggle/input'):\n",
    "    for filename in filenames:\n",
    "        print(os.path.join(dirname, filename))\n",
    "\n",
    "# You can write up to 20GB to the current directory (/kaggle/working/) that gets preserved as output when you create a version using \"Save & Run All\"\n",
    "# You can also write temporary files to /kaggle/temp/, but they won't be saved outside of the current session\n"
   ]
  },
  {
   "cell_type": "code",
   "execution_count": 2,
   "metadata": {
    "execution": {
     "iopub.execute_input": "2023-08-28T17:19:52.793414Z",
     "iopub.status.busy": "2023-08-28T17:19:52.793090Z",
     "iopub.status.idle": "2023-08-28T17:19:52.799056Z",
     "shell.execute_reply": "2023-08-28T17:19:52.797692Z",
     "shell.execute_reply.started": "2023-08-28T17:19:52.793380Z"
    }
   },
   "outputs": [],
   "source": [
    "# всегда фиксируйте RANDOM_SEED, чтобы ваши эксперименты были воспроизводимы!\n",
    "RANDOM_SEED = 42\n"
   ]
  },
  {
   "cell_type": "code",
   "execution_count": 3,
   "metadata": {
    "execution": {
     "iopub.execute_input": "2023-08-28T17:19:52.802034Z",
     "iopub.status.busy": "2023-08-28T17:19:52.801587Z",
     "iopub.status.idle": "2023-08-28T17:19:56.612372Z",
     "shell.execute_reply": "2023-08-28T17:19:56.611254Z",
     "shell.execute_reply.started": "2023-08-28T17:19:52.801981Z"
    }
   },
   "outputs": [],
   "source": [
    "# зафиксируем версию пакетов, чтобы эксперименты были воспроизводимы:\n",
    "!pip freeze > requirements.txt\n"
   ]
  },
  {
   "cell_type": "code",
   "execution_count": 4,
   "metadata": {
    "execution": {
     "iopub.execute_input": "2023-08-28T17:19:56.615444Z",
     "iopub.status.busy": "2023-08-28T17:19:56.615108Z",
     "iopub.status.idle": "2023-08-28T17:20:00.413379Z",
     "shell.execute_reply": "2023-08-28T17:20:00.411963Z",
     "shell.execute_reply.started": "2023-08-28T17:19:56.615404Z"
    }
   },
   "outputs": [],
   "source": [
    "# Подгрузим наши данные из соревнования\n",
    "# DATA_DIR = '/kaggle/input/sf-booking/' # kaggle\n",
    "DATA_DIR = 'kaggle/input/sf-booking/'  # windows\n",
    "df_train = pd.read_csv(DATA_DIR+'hotels_train.csv')  # датасет для обучения\n",
    "df_test = pd.read_csv(DATA_DIR+'hotels_test.csv')  # датасет для предсказания\n",
    "sample_submission = pd.read_csv(DATA_DIR+'/submission.csv')  # самбмишн"
   ]
  },
  {
   "cell_type": "code",
   "execution_count": 5,
   "metadata": {
    "execution": {
     "iopub.execute_input": "2023-08-28T17:20:00.417399Z",
     "iopub.status.busy": "2023-08-28T17:20:00.416973Z",
     "iopub.status.idle": "2023-08-28T17:20:02.589445Z",
     "shell.execute_reply": "2023-08-28T17:20:02.587973Z",
     "shell.execute_reply.started": "2023-08-28T17:20:00.417346Z"
    }
   },
   "outputs": [
    {
     "name": "stdout",
     "output_type": "stream",
     "text": [
      "Количество дубликатов: 307\n",
      "Размер таблицы после удаления дубликатов: (386496, 17)\n"
     ]
    }
   ],
   "source": [
    "print('Количество дубликатов: {}'.format(\n",
    "    df_train[df_train.duplicated()].shape[0]))\n",
    "# Удаляем дубликаты:\n",
    "df_train = df_train.drop_duplicates()\n",
    "print('Размер таблицы после удаления дубликатов: {}'.format(df_train.shape))"
   ]
  },
  {
   "cell_type": "code",
   "execution_count": 6,
   "metadata": {
    "execution": {
     "iopub.execute_input": "2023-08-28T17:20:02.593660Z",
     "iopub.status.busy": "2023-08-28T17:20:02.592859Z",
     "iopub.status.idle": "2023-08-28T17:20:03.012569Z",
     "shell.execute_reply": "2023-08-28T17:20:03.010750Z",
     "shell.execute_reply.started": "2023-08-28T17:20:02.593600Z"
    }
   },
   "outputs": [
    {
     "name": "stdout",
     "output_type": "stream",
     "text": [
      "<class 'pandas.core.frame.DataFrame'>\n",
      "Int64Index: 386496 entries, 0 to 386802\n",
      "Data columns (total 17 columns):\n",
      " #   Column                                      Non-Null Count   Dtype  \n",
      "---  ------                                      --------------   -----  \n",
      " 0   hotel_address                               386496 non-null  object \n",
      " 1   additional_number_of_scoring                386496 non-null  int64  \n",
      " 2   review_date                                 386496 non-null  object \n",
      " 3   average_score                               386496 non-null  float64\n",
      " 4   hotel_name                                  386496 non-null  object \n",
      " 5   reviewer_nationality                        386496 non-null  object \n",
      " 6   negative_review                             386496 non-null  object \n",
      " 7   review_total_negative_word_counts           386496 non-null  int64  \n",
      " 8   total_number_of_reviews                     386496 non-null  int64  \n",
      " 9   positive_review                             386496 non-null  object \n",
      " 10  review_total_positive_word_counts           386496 non-null  int64  \n",
      " 11  total_number_of_reviews_reviewer_has_given  386496 non-null  int64  \n",
      " 12  reviewer_score                              386496 non-null  float64\n",
      " 13  tags                                        386496 non-null  object \n",
      " 14  days_since_review                           386496 non-null  object \n",
      " 15  lat                                         384048 non-null  float64\n",
      " 16  lng                                         384048 non-null  float64\n",
      "dtypes: float64(4), int64(5), object(8)\n",
      "memory usage: 53.1+ MB\n"
     ]
    }
   ],
   "source": [
    "df_train.info()\n"
   ]
  },
  {
   "cell_type": "code",
   "execution_count": 7,
   "metadata": {
    "execution": {
     "iopub.execute_input": "2023-08-28T17:20:03.015714Z",
     "iopub.status.busy": "2023-08-28T17:20:03.015302Z",
     "iopub.status.idle": "2023-08-28T17:20:03.043349Z",
     "shell.execute_reply": "2023-08-28T17:20:03.041580Z",
     "shell.execute_reply.started": "2023-08-28T17:20:03.015657Z"
    }
   },
   "outputs": [
    {
     "data": {
      "text/html": [
       "<div>\n",
       "<style scoped>\n",
       "    .dataframe tbody tr th:only-of-type {\n",
       "        vertical-align: middle;\n",
       "    }\n",
       "\n",
       "    .dataframe tbody tr th {\n",
       "        vertical-align: top;\n",
       "    }\n",
       "\n",
       "    .dataframe thead th {\n",
       "        text-align: right;\n",
       "    }\n",
       "</style>\n",
       "<table border=\"1\" class=\"dataframe\">\n",
       "  <thead>\n",
       "    <tr style=\"text-align: right;\">\n",
       "      <th></th>\n",
       "      <th>hotel_address</th>\n",
       "      <th>additional_number_of_scoring</th>\n",
       "      <th>review_date</th>\n",
       "      <th>average_score</th>\n",
       "      <th>hotel_name</th>\n",
       "      <th>reviewer_nationality</th>\n",
       "      <th>negative_review</th>\n",
       "      <th>review_total_negative_word_counts</th>\n",
       "      <th>total_number_of_reviews</th>\n",
       "      <th>positive_review</th>\n",
       "      <th>review_total_positive_word_counts</th>\n",
       "      <th>total_number_of_reviews_reviewer_has_given</th>\n",
       "      <th>reviewer_score</th>\n",
       "      <th>tags</th>\n",
       "      <th>days_since_review</th>\n",
       "      <th>lat</th>\n",
       "      <th>lng</th>\n",
       "    </tr>\n",
       "  </thead>\n",
       "  <tbody>\n",
       "    <tr>\n",
       "      <th>0</th>\n",
       "      <td>Stratton Street Mayfair Westminster Borough Lo...</td>\n",
       "      <td>581</td>\n",
       "      <td>2/19/2016</td>\n",
       "      <td>8.4</td>\n",
       "      <td>The May Fair Hotel</td>\n",
       "      <td>United Kingdom</td>\n",
       "      <td>Leaving</td>\n",
       "      <td>3</td>\n",
       "      <td>1994</td>\n",
       "      <td>Staff were amazing</td>\n",
       "      <td>4</td>\n",
       "      <td>7</td>\n",
       "      <td>10.0</td>\n",
       "      <td>[' Leisure trip ', ' Couple ', ' Studio Suite ...</td>\n",
       "      <td>531 day</td>\n",
       "      <td>51.507894</td>\n",
       "      <td>-0.143671</td>\n",
       "    </tr>\n",
       "    <tr>\n",
       "      <th>1</th>\n",
       "      <td>130 134 Southampton Row Camden London WC1B 5AF...</td>\n",
       "      <td>299</td>\n",
       "      <td>1/12/2017</td>\n",
       "      <td>8.3</td>\n",
       "      <td>Mercure London Bloomsbury Hotel</td>\n",
       "      <td>United Kingdom</td>\n",
       "      <td>poor breakfast</td>\n",
       "      <td>3</td>\n",
       "      <td>1361</td>\n",
       "      <td>location</td>\n",
       "      <td>2</td>\n",
       "      <td>14</td>\n",
       "      <td>6.3</td>\n",
       "      <td>[' Business trip ', ' Couple ', ' Standard Dou...</td>\n",
       "      <td>203 day</td>\n",
       "      <td>51.521009</td>\n",
       "      <td>-0.123097</td>\n",
       "    </tr>\n",
       "  </tbody>\n",
       "</table>\n",
       "</div>"
      ],
      "text/plain": [
       "                                       hotel_address  \\\n",
       "0  Stratton Street Mayfair Westminster Borough Lo...   \n",
       "1  130 134 Southampton Row Camden London WC1B 5AF...   \n",
       "\n",
       "   additional_number_of_scoring review_date  average_score  \\\n",
       "0                           581   2/19/2016            8.4   \n",
       "1                           299   1/12/2017            8.3   \n",
       "\n",
       "                        hotel_name reviewer_nationality  negative_review  \\\n",
       "0               The May Fair Hotel      United Kingdom          Leaving    \n",
       "1  Mercure London Bloomsbury Hotel      United Kingdom    poor breakfast   \n",
       "\n",
       "   review_total_negative_word_counts  total_number_of_reviews  \\\n",
       "0                                  3                     1994   \n",
       "1                                  3                     1361   \n",
       "\n",
       "       positive_review  review_total_positive_word_counts  \\\n",
       "0   Staff were amazing                                  4   \n",
       "1             location                                  2   \n",
       "\n",
       "   total_number_of_reviews_reviewer_has_given  reviewer_score  \\\n",
       "0                                           7            10.0   \n",
       "1                                          14             6.3   \n",
       "\n",
       "                                                tags days_since_review  \\\n",
       "0  [' Leisure trip ', ' Couple ', ' Studio Suite ...           531 day   \n",
       "1  [' Business trip ', ' Couple ', ' Standard Dou...           203 day   \n",
       "\n",
       "         lat       lng  \n",
       "0  51.507894 -0.143671  \n",
       "1  51.521009 -0.123097  "
      ]
     },
     "execution_count": 7,
     "metadata": {},
     "output_type": "execute_result"
    }
   ],
   "source": [
    "df_train.head(2)\n"
   ]
  },
  {
   "cell_type": "code",
   "execution_count": 10,
   "metadata": {
    "execution": {
     "iopub.execute_input": "2023-08-28T17:20:03.224254Z",
     "iopub.status.busy": "2023-08-28T17:20:03.223800Z",
     "iopub.status.idle": "2023-08-28T17:20:03.238847Z",
     "shell.execute_reply": "2023-08-28T17:20:03.237793Z",
     "shell.execute_reply.started": "2023-08-28T17:20:03.224212Z"
    }
   },
   "outputs": [
    {
     "data": {
      "text/html": [
       "<div>\n",
       "<style scoped>\n",
       "    .dataframe tbody tr th:only-of-type {\n",
       "        vertical-align: middle;\n",
       "    }\n",
       "\n",
       "    .dataframe tbody tr th {\n",
       "        vertical-align: top;\n",
       "    }\n",
       "\n",
       "    .dataframe thead th {\n",
       "        text-align: right;\n",
       "    }\n",
       "</style>\n",
       "<table border=\"1\" class=\"dataframe\">\n",
       "  <thead>\n",
       "    <tr style=\"text-align: right;\">\n",
       "      <th></th>\n",
       "      <th>reviewer_score</th>\n",
       "      <th>id</th>\n",
       "    </tr>\n",
       "  </thead>\n",
       "  <tbody>\n",
       "    <tr>\n",
       "      <th>0</th>\n",
       "      <td>1</td>\n",
       "      <td>488440</td>\n",
       "    </tr>\n",
       "    <tr>\n",
       "      <th>1</th>\n",
       "      <td>10</td>\n",
       "      <td>274649</td>\n",
       "    </tr>\n",
       "  </tbody>\n",
       "</table>\n",
       "</div>"
      ],
      "text/plain": [
       "   reviewer_score      id\n",
       "0               1  488440\n",
       "1              10  274649"
      ]
     },
     "execution_count": 10,
     "metadata": {},
     "output_type": "execute_result"
    }
   ],
   "source": [
    "sample_submission.head(2)\n"
   ]
  },
  {
   "cell_type": "code",
   "execution_count": 11,
   "metadata": {
    "execution": {
     "iopub.execute_input": "2023-08-28T17:20:03.242162Z",
     "iopub.status.busy": "2023-08-28T17:20:03.240816Z",
     "iopub.status.idle": "2023-08-28T17:20:03.258514Z",
     "shell.execute_reply": "2023-08-28T17:20:03.257076Z",
     "shell.execute_reply.started": "2023-08-28T17:20:03.242083Z"
    }
   },
   "outputs": [
    {
     "name": "stdout",
     "output_type": "stream",
     "text": [
      "<class 'pandas.core.frame.DataFrame'>\n",
      "RangeIndex: 128935 entries, 0 to 128934\n",
      "Data columns (total 2 columns):\n",
      " #   Column          Non-Null Count   Dtype\n",
      "---  ------          --------------   -----\n",
      " 0   reviewer_score  128935 non-null  int64\n",
      " 1   id              128935 non-null  int64\n",
      "dtypes: int64(2)\n",
      "memory usage: 2.0 MB\n"
     ]
    }
   ],
   "source": [
    "sample_submission.info()\n"
   ]
  },
  {
   "cell_type": "code",
   "execution_count": 12,
   "metadata": {
    "execution": {
     "iopub.execute_input": "2023-08-28T17:20:03.262991Z",
     "iopub.status.busy": "2023-08-28T17:20:03.262634Z",
     "iopub.status.idle": "2023-08-28T17:20:03.980704Z",
     "shell.execute_reply": "2023-08-28T17:20:03.979325Z",
     "shell.execute_reply.started": "2023-08-28T17:20:03.262950Z"
    }
   },
   "outputs": [],
   "source": [
    "# ВАЖНО! дря корректной обработки признаков объединяем трейн и тест в один датасет\n",
    "df_train['sample'] = 1  # помечаем где у нас трейн\n",
    "df_test['sample'] = 0  # помечаем где у нас тест\n",
    "# в тесте у нас нет значения reviewer_score, мы его должны предсказать, по этому пока просто заполняем нулями\n",
    "df_test['reviewer_score'] = 0\n",
    "\n",
    "df = pd.concat([df_test, df_train], ignore_index=True)  # объединяем"
   ]
  },
  {
   "cell_type": "code",
   "execution_count": 13,
   "metadata": {
    "execution": {
     "iopub.execute_input": "2023-08-28T17:20:03.982539Z",
     "iopub.status.busy": "2023-08-28T17:20:03.982259Z",
     "iopub.status.idle": "2023-08-28T17:20:04.500773Z",
     "shell.execute_reply": "2023-08-28T17:20:04.498487Z",
     "shell.execute_reply.started": "2023-08-28T17:20:03.982504Z"
    }
   },
   "outputs": [
    {
     "name": "stdout",
     "output_type": "stream",
     "text": [
      "<class 'pandas.core.frame.DataFrame'>\n",
      "RangeIndex: 515431 entries, 0 to 515430\n",
      "Data columns (total 18 columns):\n",
      " #   Column                                      Non-Null Count   Dtype  \n",
      "---  ------                                      --------------   -----  \n",
      " 0   hotel_address                               515431 non-null  object \n",
      " 1   additional_number_of_scoring                515431 non-null  int64  \n",
      " 2   review_date                                 515431 non-null  object \n",
      " 3   average_score                               515431 non-null  float64\n",
      " 4   hotel_name                                  515431 non-null  object \n",
      " 5   reviewer_nationality                        515431 non-null  object \n",
      " 6   negative_review                             515431 non-null  object \n",
      " 7   review_total_negative_word_counts           515431 non-null  int64  \n",
      " 8   total_number_of_reviews                     515431 non-null  int64  \n",
      " 9   positive_review                             515431 non-null  object \n",
      " 10  review_total_positive_word_counts           515431 non-null  int64  \n",
      " 11  total_number_of_reviews_reviewer_has_given  515431 non-null  int64  \n",
      " 12  tags                                        515431 non-null  object \n",
      " 13  days_since_review                           515431 non-null  object \n",
      " 14  lat                                         512163 non-null  float64\n",
      " 15  lng                                         512163 non-null  float64\n",
      " 16  sample                                      515431 non-null  int64  \n",
      " 17  reviewer_score                              515431 non-null  float64\n",
      "dtypes: float64(4), int64(6), object(8)\n",
      "memory usage: 70.8+ MB\n"
     ]
    }
   ],
   "source": [
    "df.info()\n"
   ]
  },
  {
   "cell_type": "markdown",
   "metadata": {},
   "source": [
    "# 1 Изучение пропусков\n"
   ]
  },
  {
   "cell_type": "code",
   "execution_count": 14,
   "metadata": {
    "execution": {
     "iopub.execute_input": "2023-08-28T17:20:04.503078Z",
     "iopub.status.busy": "2023-08-28T17:20:04.502668Z",
     "iopub.status.idle": "2023-08-28T17:20:05.035994Z",
     "shell.execute_reply": "2023-08-28T17:20:05.035031Z",
     "shell.execute_reply.started": "2023-08-28T17:20:04.503023Z"
    }
   },
   "outputs": [
    {
     "data": {
      "text/plain": [
       "hotel_address                                 0.00\n",
       "additional_number_of_scoring                  0.00\n",
       "review_date                                   0.00\n",
       "average_score                                 0.00\n",
       "hotel_name                                    0.00\n",
       "reviewer_nationality                          0.00\n",
       "negative_review                               0.00\n",
       "review_total_negative_word_counts             0.00\n",
       "total_number_of_reviews                       0.00\n",
       "positive_review                               0.00\n",
       "review_total_positive_word_counts             0.00\n",
       "total_number_of_reviews_reviewer_has_given    0.00\n",
       "tags                                          0.00\n",
       "days_since_review                             0.00\n",
       "lat                                           0.63\n",
       "lng                                           0.63\n",
       "sample                                        0.00\n",
       "reviewer_score                                0.00\n",
       "dtype: float64"
      ]
     },
     "execution_count": 14,
     "metadata": {},
     "output_type": "execute_result"
    }
   ],
   "source": [
    "(df.isna().sum() / len(df)).round(4) * 100\n"
   ]
  },
  {
   "cell_type": "code",
   "execution_count": 15,
   "metadata": {
    "execution": {
     "iopub.execute_input": "2023-08-28T17:20:05.037515Z",
     "iopub.status.busy": "2023-08-28T17:20:05.037242Z",
     "iopub.status.idle": "2023-08-28T17:20:06.792757Z",
     "shell.execute_reply": "2023-08-28T17:20:06.791542Z",
     "shell.execute_reply.started": "2023-08-28T17:20:05.037481Z"
    }
   },
   "outputs": [
    {
     "data": {
      "text/plain": [
       "<Axes: >"
      ]
     },
     "execution_count": 15,
     "metadata": {},
     "output_type": "execute_result"
    },
    {
     "data": {
      "image/png": "[encoded data removed]",
      "text/plain": [
       "<Figure size 640x480 with 2 Axes>"
      ]
     },
     "metadata": {},
     "output_type": "display_data"
    }
   ],
   "source": [
    "sns.heatmap(df[['lat', 'lng']].isnull())"
   ]
  },
  {
   "cell_type": "markdown",
   "metadata": {},
   "source": [
    "Есть пропуски только в координатах, которые составляют менее 1%. Возможно удаление этих строк не повлечет ухудшение модели. Однако , попробуем восстановить данные на основе адреса\n"
   ]
  },
  {
   "cell_type": "markdown",
   "metadata": {},
   "source": [
    "# 2 Первоначальный анализ данных по столбцам\n"
   ]
  },
  {
   "cell_type": "markdown",
   "metadata": {},
   "source": [
    "-     hotel_address — адрес отеля;\n",
    "-     review_date — дата, когда рецензент разместил соответствующий отзыв;\n",
    "-     average_score — средний балл отеля, рассчитанный на основе последнего комментария за последний год;\n",
    "-     hotel_name — название отеля;\n",
    "-     reviewer_nationality — страна рецензента;\n",
    "-     negative_review — отрицательный отзыв, который рецензент дал отелю;\n",
    "-     review_total_negative_word_counts — общее количество слов в отрицательном отзыв;\n",
    "-     positive_review — положительный отзыв, который рецензент дал отелю;\n",
    "-     review_total_positive_word_counts — общее количество слов в положительном отзыве.\n",
    "-     reviewer_score — оценка, которую рецензент поставил отелю на основе своего опыта;\n",
    "-     total_number_of_reviews_reviewer_has_given — количество отзывов, которые рецензенты дали в прошлом;\n",
    "-     total_number_of_reviews — общее количество действительных отзывов об отеле;\n",
    "-     tags — теги, которые рецензент дал отелю;\n",
    "-     days_since_review — количество дней между датой проверки и датой очистки;\n",
    "-     additional_number_of_scoring — есть также некоторые гости, которые просто поставили оценку сервису, но не оставили отзыв. Это число указывает, сколько там действительных оценок без проверки.\n",
    "-     lat — географическая широта отеля;\n",
    "-     lng — географическая долгота отеля.\n"
   ]
  },
  {
   "cell_type": "code",
   "execution_count": 16,
   "metadata": {
    "execution": {
     "iopub.execute_input": "2023-08-28T17:20:06.794297Z",
     "iopub.status.busy": "2023-08-28T17:20:06.794063Z",
     "iopub.status.idle": "2023-08-28T17:20:08.997927Z",
     "shell.execute_reply": "2023-08-28T17:20:08.997170Z",
     "shell.execute_reply.started": "2023-08-28T17:20:06.794267Z"
    }
   },
   "outputs": [
    {
     "data": {
      "text/html": [
       "<div>\n",
       "<style scoped>\n",
       "    .dataframe tbody tr th:only-of-type {\n",
       "        vertical-align: middle;\n",
       "    }\n",
       "\n",
       "    .dataframe tbody tr th {\n",
       "        vertical-align: top;\n",
       "    }\n",
       "\n",
       "    .dataframe thead th {\n",
       "        text-align: right;\n",
       "    }\n",
       "</style>\n",
       "<table border=\"1\" class=\"dataframe\">\n",
       "  <thead>\n",
       "    <tr style=\"text-align: right;\">\n",
       "      <th></th>\n",
       "      <th>hotel_address</th>\n",
       "      <th>additional_number_of_scoring</th>\n",
       "      <th>review_date</th>\n",
       "      <th>average_score</th>\n",
       "      <th>hotel_name</th>\n",
       "      <th>reviewer_nationality</th>\n",
       "      <th>negative_review</th>\n",
       "      <th>review_total_negative_word_counts</th>\n",
       "      <th>total_number_of_reviews</th>\n",
       "      <th>positive_review</th>\n",
       "      <th>review_total_positive_word_counts</th>\n",
       "      <th>total_number_of_reviews_reviewer_has_given</th>\n",
       "      <th>tags</th>\n",
       "      <th>days_since_review</th>\n",
       "      <th>lat</th>\n",
       "      <th>lng</th>\n",
       "      <th>sample</th>\n",
       "      <th>reviewer_score</th>\n",
       "    </tr>\n",
       "  </thead>\n",
       "  <tbody>\n",
       "    <tr>\n",
       "      <th>count</th>\n",
       "      <td>515431</td>\n",
       "      <td>515431.000000</td>\n",
       "      <td>515431</td>\n",
       "      <td>515431.000000</td>\n",
       "      <td>515431</td>\n",
       "      <td>515431</td>\n",
       "      <td>515431</td>\n",
       "      <td>515431.000000</td>\n",
       "      <td>515431.000000</td>\n",
       "      <td>515431</td>\n",
       "      <td>515431.000000</td>\n",
       "      <td>515431.000000</td>\n",
       "      <td>515431</td>\n",
       "      <td>515431</td>\n",
       "      <td>512163.000000</td>\n",
       "      <td>512163.000000</td>\n",
       "      <td>515431.00000</td>\n",
       "      <td>515431.000000</td>\n",
       "    </tr>\n",
       "    <tr>\n",
       "      <th>unique</th>\n",
       "      <td>1493</td>\n",
       "      <td>NaN</td>\n",
       "      <td>731</td>\n",
       "      <td>NaN</td>\n",
       "      <td>1492</td>\n",
       "      <td>227</td>\n",
       "      <td>330011</td>\n",
       "      <td>NaN</td>\n",
       "      <td>NaN</td>\n",
       "      <td>412601</td>\n",
       "      <td>NaN</td>\n",
       "      <td>NaN</td>\n",
       "      <td>55242</td>\n",
       "      <td>731</td>\n",
       "      <td>NaN</td>\n",
       "      <td>NaN</td>\n",
       "      <td>NaN</td>\n",
       "      <td>NaN</td>\n",
       "    </tr>\n",
       "    <tr>\n",
       "      <th>top</th>\n",
       "      <td>163 Marsh Wall Docklands Tower Hamlets London ...</td>\n",
       "      <td>NaN</td>\n",
       "      <td>8/2/2017</td>\n",
       "      <td>NaN</td>\n",
       "      <td>Britannia International Hotel Canary Wharf</td>\n",
       "      <td>United Kingdom</td>\n",
       "      <td>No Negative</td>\n",
       "      <td>NaN</td>\n",
       "      <td>NaN</td>\n",
       "      <td>No Positive</td>\n",
       "      <td>NaN</td>\n",
       "      <td>NaN</td>\n",
       "      <td>[' Leisure trip ', ' Couple ', ' Double Room '...</td>\n",
       "      <td>1 days</td>\n",
       "      <td>NaN</td>\n",
       "      <td>NaN</td>\n",
       "      <td>NaN</td>\n",
       "      <td>NaN</td>\n",
       "    </tr>\n",
       "    <tr>\n",
       "      <th>freq</th>\n",
       "      <td>4789</td>\n",
       "      <td>NaN</td>\n",
       "      <td>2584</td>\n",
       "      <td>NaN</td>\n",
       "      <td>4789</td>\n",
       "      <td>245165</td>\n",
       "      <td>127816</td>\n",
       "      <td>NaN</td>\n",
       "      <td>NaN</td>\n",
       "      <td>35924</td>\n",
       "      <td>NaN</td>\n",
       "      <td>NaN</td>\n",
       "      <td>5101</td>\n",
       "      <td>2584</td>\n",
       "      <td>NaN</td>\n",
       "      <td>NaN</td>\n",
       "      <td>NaN</td>\n",
       "      <td>NaN</td>\n",
       "    </tr>\n",
       "    <tr>\n",
       "      <th>mean</th>\n",
       "      <td>NaN</td>\n",
       "      <td>498.275079</td>\n",
       "      <td>NaN</td>\n",
       "      <td>8.397630</td>\n",
       "      <td>NaN</td>\n",
       "      <td>NaN</td>\n",
       "      <td>NaN</td>\n",
       "      <td>18.539760</td>\n",
       "      <td>2744.259084</td>\n",
       "      <td>NaN</td>\n",
       "      <td>17.777342</td>\n",
       "      <td>7.165215</td>\n",
       "      <td>NaN</td>\n",
       "      <td>NaN</td>\n",
       "      <td>49.442788</td>\n",
       "      <td>2.824057</td>\n",
       "      <td>0.74985</td>\n",
       "      <td>6.296715</td>\n",
       "    </tr>\n",
       "    <tr>\n",
       "      <th>std</th>\n",
       "      <td>NaN</td>\n",
       "      <td>500.618961</td>\n",
       "      <td>NaN</td>\n",
       "      <td>0.548033</td>\n",
       "      <td>NaN</td>\n",
       "      <td>NaN</td>\n",
       "      <td>NaN</td>\n",
       "      <td>29.690973</td>\n",
       "      <td>2317.823718</td>\n",
       "      <td>NaN</td>\n",
       "      <td>21.803204</td>\n",
       "      <td>11.038742</td>\n",
       "      <td>NaN</td>\n",
       "      <td>NaN</td>\n",
       "      <td>3.467323</td>\n",
       "      <td>4.580730</td>\n",
       "      <td>0.43310</td>\n",
       "      <td>3.902967</td>\n",
       "    </tr>\n",
       "    <tr>\n",
       "      <th>min</th>\n",
       "      <td>NaN</td>\n",
       "      <td>1.000000</td>\n",
       "      <td>NaN</td>\n",
       "      <td>5.200000</td>\n",
       "      <td>NaN</td>\n",
       "      <td>NaN</td>\n",
       "      <td>NaN</td>\n",
       "      <td>0.000000</td>\n",
       "      <td>43.000000</td>\n",
       "      <td>NaN</td>\n",
       "      <td>0.000000</td>\n",
       "      <td>1.000000</td>\n",
       "      <td>NaN</td>\n",
       "      <td>NaN</td>\n",
       "      <td>41.328376</td>\n",
       "      <td>-0.369758</td>\n",
       "      <td>0.00000</td>\n",
       "      <td>0.000000</td>\n",
       "    </tr>\n",
       "    <tr>\n",
       "      <th>25%</th>\n",
       "      <td>NaN</td>\n",
       "      <td>169.000000</td>\n",
       "      <td>NaN</td>\n",
       "      <td>8.100000</td>\n",
       "      <td>NaN</td>\n",
       "      <td>NaN</td>\n",
       "      <td>NaN</td>\n",
       "      <td>2.000000</td>\n",
       "      <td>1161.000000</td>\n",
       "      <td>NaN</td>\n",
       "      <td>5.000000</td>\n",
       "      <td>1.000000</td>\n",
       "      <td>NaN</td>\n",
       "      <td>NaN</td>\n",
       "      <td>48.214277</td>\n",
       "      <td>-0.143372</td>\n",
       "      <td>0.00000</td>\n",
       "      <td>0.000000</td>\n",
       "    </tr>\n",
       "    <tr>\n",
       "      <th>50%</th>\n",
       "      <td>NaN</td>\n",
       "      <td>342.000000</td>\n",
       "      <td>NaN</td>\n",
       "      <td>8.400000</td>\n",
       "      <td>NaN</td>\n",
       "      <td>NaN</td>\n",
       "      <td>NaN</td>\n",
       "      <td>9.000000</td>\n",
       "      <td>2134.000000</td>\n",
       "      <td>NaN</td>\n",
       "      <td>11.000000</td>\n",
       "      <td>3.000000</td>\n",
       "      <td>NaN</td>\n",
       "      <td>NaN</td>\n",
       "      <td>51.499981</td>\n",
       "      <td>-0.000250</td>\n",
       "      <td>1.00000</td>\n",
       "      <td>7.900000</td>\n",
       "    </tr>\n",
       "    <tr>\n",
       "      <th>75%</th>\n",
       "      <td>NaN</td>\n",
       "      <td>660.000000</td>\n",
       "      <td>NaN</td>\n",
       "      <td>8.800000</td>\n",
       "      <td>NaN</td>\n",
       "      <td>NaN</td>\n",
       "      <td>NaN</td>\n",
       "      <td>23.000000</td>\n",
       "      <td>3633.000000</td>\n",
       "      <td>NaN</td>\n",
       "      <td>22.000000</td>\n",
       "      <td>8.000000</td>\n",
       "      <td>NaN</td>\n",
       "      <td>NaN</td>\n",
       "      <td>51.516288</td>\n",
       "      <td>4.834443</td>\n",
       "      <td>1.00000</td>\n",
       "      <td>9.600000</td>\n",
       "    </tr>\n",
       "    <tr>\n",
       "      <th>max</th>\n",
       "      <td>NaN</td>\n",
       "      <td>2682.000000</td>\n",
       "      <td>NaN</td>\n",
       "      <td>9.800000</td>\n",
       "      <td>NaN</td>\n",
       "      <td>NaN</td>\n",
       "      <td>NaN</td>\n",
       "      <td>408.000000</td>\n",
       "      <td>16670.000000</td>\n",
       "      <td>NaN</td>\n",
       "      <td>395.000000</td>\n",
       "      <td>355.000000</td>\n",
       "      <td>NaN</td>\n",
       "      <td>NaN</td>\n",
       "      <td>52.400181</td>\n",
       "      <td>16.429233</td>\n",
       "      <td>1.00000</td>\n",
       "      <td>10.000000</td>\n",
       "    </tr>\n",
       "  </tbody>\n",
       "</table>\n",
       "</div>"
      ],
      "text/plain": [
       "                                            hotel_address  \\\n",
       "count                                              515431   \n",
       "unique                                               1493   \n",
       "top     163 Marsh Wall Docklands Tower Hamlets London ...   \n",
       "freq                                                 4789   \n",
       "mean                                                  NaN   \n",
       "std                                                   NaN   \n",
       "min                                                   NaN   \n",
       "25%                                                   NaN   \n",
       "50%                                                   NaN   \n",
       "75%                                                   NaN   \n",
       "max                                                   NaN   \n",
       "\n",
       "        additional_number_of_scoring review_date  average_score  \\\n",
       "count                  515431.000000      515431  515431.000000   \n",
       "unique                           NaN         731            NaN   \n",
       "top                              NaN    8/2/2017            NaN   \n",
       "freq                             NaN        2584            NaN   \n",
       "mean                      498.275079         NaN       8.397630   \n",
       "std                       500.618961         NaN       0.548033   \n",
       "min                         1.000000         NaN       5.200000   \n",
       "25%                       169.000000         NaN       8.100000   \n",
       "50%                       342.000000         NaN       8.400000   \n",
       "75%                       660.000000         NaN       8.800000   \n",
       "max                      2682.000000         NaN       9.800000   \n",
       "\n",
       "                                        hotel_name reviewer_nationality  \\\n",
       "count                                       515431               515431   \n",
       "unique                                        1492                  227   \n",
       "top     Britannia International Hotel Canary Wharf      United Kingdom    \n",
       "freq                                          4789               245165   \n",
       "mean                                           NaN                  NaN   \n",
       "std                                            NaN                  NaN   \n",
       "min                                            NaN                  NaN   \n",
       "25%                                            NaN                  NaN   \n",
       "50%                                            NaN                  NaN   \n",
       "75%                                            NaN                  NaN   \n",
       "max                                            NaN                  NaN   \n",
       "\n",
       "       negative_review  review_total_negative_word_counts  \\\n",
       "count           515431                      515431.000000   \n",
       "unique          330011                                NaN   \n",
       "top        No Negative                                NaN   \n",
       "freq            127816                                NaN   \n",
       "mean               NaN                          18.539760   \n",
       "std                NaN                          29.690973   \n",
       "min                NaN                           0.000000   \n",
       "25%                NaN                           2.000000   \n",
       "50%                NaN                           9.000000   \n",
       "75%                NaN                          23.000000   \n",
       "max                NaN                         408.000000   \n",
       "\n",
       "        total_number_of_reviews positive_review  \\\n",
       "count             515431.000000          515431   \n",
       "unique                      NaN          412601   \n",
       "top                         NaN     No Positive   \n",
       "freq                        NaN           35924   \n",
       "mean                2744.259084             NaN   \n",
       "std                 2317.823718             NaN   \n",
       "min                   43.000000             NaN   \n",
       "25%                 1161.000000             NaN   \n",
       "50%                 2134.000000             NaN   \n",
       "75%                 3633.000000             NaN   \n",
       "max                16670.000000             NaN   \n",
       "\n",
       "        review_total_positive_word_counts  \\\n",
       "count                       515431.000000   \n",
       "unique                                NaN   \n",
       "top                                   NaN   \n",
       "freq                                  NaN   \n",
       "mean                            17.777342   \n",
       "std                             21.803204   \n",
       "min                              0.000000   \n",
       "25%                              5.000000   \n",
       "50%                             11.000000   \n",
       "75%                             22.000000   \n",
       "max                            395.000000   \n",
       "\n",
       "        total_number_of_reviews_reviewer_has_given  \\\n",
       "count                                515431.000000   \n",
       "unique                                         NaN   \n",
       "top                                            NaN   \n",
       "freq                                           NaN   \n",
       "mean                                      7.165215   \n",
       "std                                      11.038742   \n",
       "min                                       1.000000   \n",
       "25%                                       1.000000   \n",
       "50%                                       3.000000   \n",
       "75%                                       8.000000   \n",
       "max                                     355.000000   \n",
       "\n",
       "                                                     tags days_since_review  \\\n",
       "count                                              515431            515431   \n",
       "unique                                              55242               731   \n",
       "top     [' Leisure trip ', ' Couple ', ' Double Room '...            1 days   \n",
       "freq                                                 5101              2584   \n",
       "mean                                                  NaN               NaN   \n",
       "std                                                   NaN               NaN   \n",
       "min                                                   NaN               NaN   \n",
       "25%                                                   NaN               NaN   \n",
       "50%                                                   NaN               NaN   \n",
       "75%                                                   NaN               NaN   \n",
       "max                                                   NaN               NaN   \n",
       "\n",
       "                  lat            lng        sample  reviewer_score  \n",
       "count   512163.000000  512163.000000  515431.00000   515431.000000  \n",
       "unique            NaN            NaN           NaN             NaN  \n",
       "top               NaN            NaN           NaN             NaN  \n",
       "freq              NaN            NaN           NaN             NaN  \n",
       "mean        49.442788       2.824057       0.74985        6.296715  \n",
       "std          3.467323       4.580730       0.43310        3.902967  \n",
       "min         41.328376      -0.369758       0.00000        0.000000  \n",
       "25%         48.214277      -0.143372       0.00000        0.000000  \n",
       "50%         51.499981      -0.000250       1.00000        7.900000  \n",
       "75%         51.516288       4.834443       1.00000        9.600000  \n",
       "max         52.400181      16.429233       1.00000       10.000000  "
      ]
     },
     "execution_count": 16,
     "metadata": {},
     "output_type": "execute_result"
    }
   ],
   "source": [
    "df.describe(include='all')"
   ]
  },
  {
   "cell_type": "markdown",
   "metadata": {},
   "source": [
    "## 2.1 Столбцы hotel_address и hotel_name\n"
   ]
  },
  {
   "cell_type": "code",
   "execution_count": 17,
   "metadata": {
    "execution": {
     "iopub.execute_input": "2023-08-28T17:20:08.999851Z",
     "iopub.status.busy": "2023-08-28T17:20:08.999397Z",
     "iopub.status.idle": "2023-08-28T17:20:09.110872Z",
     "shell.execute_reply": "2023-08-28T17:20:09.110185Z",
     "shell.execute_reply.started": "2023-08-28T17:20:08.999796Z"
    }
   },
   "outputs": [
    {
     "data": {
      "text/plain": [
       "Hotel Regina                            3\n",
       "Hotel Da Vinci                          1\n",
       "Sunotel Club Central                    1\n",
       "Austria Trend Hotel Doppio Wien         1\n",
       "Camperio House Suites Apartments        1\n",
       "                                       ..\n",
       "Cordial Theaterhotel Wien               1\n",
       "Hotel Cavendish                         1\n",
       "WestCord Fashion Hotel Amsterdam        1\n",
       "K K Hotel George                        1\n",
       "Mercure Paris Bastille Saint Antoine    1\n",
       "Name: hotel_name, Length: 1491, dtype: int64"
      ]
     },
     "execution_count": 17,
     "metadata": {},
     "output_type": "execute_result"
    }
   ],
   "source": [
    "# уникальный адрес с названием\n",
    "df.drop_duplicates(subset=\"hotel_address\")['hotel_name'].value_counts()"
   ]
  },
  {
   "cell_type": "code",
   "execution_count": 18,
   "metadata": {
    "execution": {
     "iopub.execute_input": "2023-08-28T17:20:09.112613Z",
     "iopub.status.busy": "2023-08-28T17:20:09.112181Z",
     "iopub.status.idle": "2023-08-28T17:20:09.206253Z",
     "shell.execute_reply": "2023-08-28T17:20:09.205456Z",
     "shell.execute_reply.started": "2023-08-28T17:20:09.112559Z"
    }
   },
   "outputs": [
    {
     "data": {
      "text/plain": [
       "Bergara 2 4 Eixample 08002 Barcelona Spain                    590\n",
       "Rooseveltplatz 15 09 Alsergrund 1090 Vienna Austria           284\n",
       "Via Cesare Correnti 13 Milan City Center 20123 Milan Italy     60\n",
       "Name: hotel_address, dtype: int64"
      ]
     },
     "execution_count": 18,
     "metadata": {},
     "output_type": "execute_result"
    }
   ],
   "source": [
    "# Просмотр адреса отеля с одинаковым названием\n",
    "df[df['hotel_name'] == 'Hotel Regina']['hotel_address'].value_counts()"
   ]
  },
  {
   "cell_type": "code",
   "execution_count": 19,
   "metadata": {
    "execution": {
     "iopub.execute_input": "2023-08-28T17:20:09.208167Z",
     "iopub.status.busy": "2023-08-28T17:20:09.207852Z",
     "iopub.status.idle": "2023-08-28T17:20:09.309253Z",
     "shell.execute_reply": "2023-08-28T17:20:09.308089Z",
     "shell.execute_reply.started": "2023-08-28T17:20:09.208107Z"
    }
   },
   "outputs": [
    {
     "data": {
      "text/plain": [
       "8 Northumberland Avenue Westminster Borough London WC2N 5BY United Kingdom                2\n",
       "Via Senigallia 6 20161 Milan Italy                                                        1\n",
       "Stephansplatz 9 01 Innere Stadt 1010 Vienna Austria                                       1\n",
       "Rennweg 99 Rinnboeckstrasse 1 03 Landstra e 1030 Vienna Austria                           1\n",
       "Via Camperio 9 Milan City Center 20123 Milan Italy                                        1\n",
       "                                                                                         ..\n",
       "Josefst dter Stra e 22 08 Josefstadt 1080 Vienna Austria                                  1\n",
       "75 Gower Street Camden London WC1E 6HJ United Kingdom                                     1\n",
       "Hendrikje Stoffelstraat 1 Slotervaart 1058 GC Amsterdam Netherlands                       1\n",
       "1 15 Templeton Place Earl s Court Kensington and Chelsea London SW5 9NB United Kingdom    1\n",
       "64 Rue Crozatier 12th arr 75012 Paris France                                              1\n",
       "Name: hotel_address, Length: 1491, dtype: int64"
      ]
     },
     "execution_count": 19,
     "metadata": {},
     "output_type": "execute_result"
    }
   ],
   "source": [
    "# уникальное название с адресом\n",
    "df.drop_duplicates(subset=\"hotel_name\")['hotel_address'].value_counts()"
   ]
  },
  {
   "cell_type": "code",
   "execution_count": 20,
   "metadata": {
    "execution": {
     "iopub.execute_input": "2023-08-28T17:20:09.315002Z",
     "iopub.status.busy": "2023-08-28T17:20:09.311011Z",
     "iopub.status.idle": "2023-08-28T17:20:09.412403Z",
     "shell.execute_reply": "2023-08-28T17:20:09.411391Z",
     "shell.execute_reply.started": "2023-08-28T17:20:09.314936Z"
    }
   },
   "outputs": [
    {
     "data": {
      "text/plain": [
       "Club Quarters Hotel Trafalgar Square    945\n",
       "The Grand at Trafalgar Square           733\n",
       "Name: hotel_name, dtype: int64"
      ]
     },
     "execution_count": 20,
     "metadata": {},
     "output_type": "execute_result"
    }
   ],
   "source": [
    "# Просмотр названия отеля с одинаковым адресом\n",
    "df[df['hotel_address'] == '8 Northumberland Avenue Westminster Borough London WC2N 5BY United Kingdom']['hotel_name'].value_counts()"
   ]
  },
  {
   "cell_type": "code",
   "execution_count": 21,
   "metadata": {
    "execution": {
     "iopub.execute_input": "2023-08-28T17:20:09.414844Z",
     "iopub.status.busy": "2023-08-28T17:20:09.414286Z",
     "iopub.status.idle": "2023-08-28T17:20:09.611973Z",
     "shell.execute_reply": "2023-08-28T17:20:09.610819Z",
     "shell.execute_reply.started": "2023-08-28T17:20:09.414797Z"
    }
   },
   "outputs": [],
   "source": [
    "# Исправление не оригинального названия добавлением страны\n",
    "df.loc[df['hotel_address'] == 'Rooseveltplatz 15 09 Alsergrund 1090 Vienna Austria', ['hotel_name']] = (\n",
    "    df.loc[df['hotel_address'] == 'Rooseveltplatz 15 09 Alsergrund 1090 Vienna Austria', ['hotel_name']].apply(lambda x: \"Hotel Regina Austria\", axis=1)\n",
    ")\n"
   ]
  },
  {
   "cell_type": "code",
   "execution_count": 22,
   "metadata": {
    "execution": {
     "iopub.execute_input": "2023-08-28T17:20:09.614245Z",
     "iopub.status.busy": "2023-08-28T17:20:09.613531Z",
     "iopub.status.idle": "2023-08-28T17:20:09.813979Z",
     "shell.execute_reply": "2023-08-28T17:20:09.812574Z",
     "shell.execute_reply.started": "2023-08-28T17:20:09.614189Z"
    }
   },
   "outputs": [],
   "source": [
    "# Исправление не оригинального названия добавлением страны\n",
    "df.loc[df['hotel_address'] == 'Bergara 2 4 Eixample 08002 Barcelona Spain', ['hotel_name']] = (\n",
    "    df.loc[df['hotel_address'] == 'Bergara 2 4 Eixample 08002 Barcelona Spain', ['hotel_name']].apply(lambda x: 'Hotel Regina Spain', axis=1)\n",
    ")\n"
   ]
  },
  {
   "cell_type": "markdown",
   "metadata": {},
   "source": [
    "Вывод по столбцам адрес и название отеля: 3 отеля имеют одинаковое название, но разный адрес(страну), значит всего представлено 1494 отеля. Из них два имеют одинаковый адрес в Лондоне(поиск в гугле подсказал, что это разные отели)"
   ]
  },
  {
   "cell_type": "markdown",
   "metadata": {},
   "source": [
    "## 2.2 Столбец 'average_score'\n"
   ]
  },
  {
   "cell_type": "code",
   "execution_count": 23,
   "metadata": {
    "execution": {
     "iopub.execute_input": "2023-08-28T17:20:09.816162Z",
     "iopub.status.busy": "2023-08-28T17:20:09.815830Z",
     "iopub.status.idle": "2023-08-28T17:20:09.836343Z",
     "shell.execute_reply": "2023-08-28T17:20:09.835303Z",
     "shell.execute_reply.started": "2023-08-28T17:20:09.816117Z"
    }
   },
   "outputs": [
    {
     "data": {
      "text/plain": [
       "8.4    41222\n",
       "8.1    38120\n",
       "8.5    38066\n",
       "8.7    37798\n",
       "8.6    36945\n",
       "8.2    34847\n",
       "8.3    32880\n",
       "8.8    30836\n",
       "8.9    28487\n",
       "8.0    22341\n",
       "9.1    21379\n",
       "9.0    21001\n",
       "7.8    19894\n",
       "7.9    14983\n",
       "7.5    13719\n",
       "9.2    12935\n",
       "9.3    12659\n",
       "7.7    11829\n",
       "9.4     9339\n",
       "7.1     6780\n",
       "7.6     6684\n",
       "7.4     6300\n",
       "7.3     3997\n",
       "7.0     3899\n",
       "6.9     1737\n",
       "6.8     1327\n",
       "9.5     1207\n",
       "6.4     1163\n",
       "6.7      965\n",
       "9.6      915\n",
       "7.2      684\n",
       "6.6      400\n",
       "5.2       65\n",
       "9.8       28\n",
       "Name: average_score, dtype: int64"
      ]
     },
     "execution_count": 23,
     "metadata": {},
     "output_type": "execute_result"
    }
   ],
   "source": [
    "df['average_score'].value_counts()\n"
   ]
  },
  {
   "cell_type": "code",
   "execution_count": 24,
   "metadata": {
    "execution": {
     "iopub.execute_input": "2023-08-28T17:20:09.839063Z",
     "iopub.status.busy": "2023-08-28T17:20:09.837666Z",
     "iopub.status.idle": "2023-08-28T17:20:10.111579Z",
     "shell.execute_reply": "2023-08-28T17:20:10.110421Z",
     "shell.execute_reply.started": "2023-08-28T17:20:09.839011Z"
    }
   },
   "outputs": [],
   "source": [
    "# Дату переводим в формат даты (вспомогательные вычисления)\n",
    "df['review_date'] = pd.to_datetime(df['review_date'], format='%m/%d/%Y')\n",
    "df['year'] = df['review_date'].dt.year"
   ]
  },
  {
   "cell_type": "code",
   "execution_count": 25,
   "metadata": {
    "execution": {
     "iopub.execute_input": "2023-08-28T17:20:10.113972Z",
     "iopub.status.busy": "2023-08-28T17:20:10.113714Z",
     "iopub.status.idle": "2023-08-28T17:20:10.817810Z",
     "shell.execute_reply": "2023-08-28T17:20:10.816551Z",
     "shell.execute_reply.started": "2023-08-28T17:20:10.113941Z"
    }
   },
   "outputs": [
    {
     "data": {
      "text/html": [
       "<div>\n",
       "<style scoped>\n",
       "    .dataframe tbody tr th:only-of-type {\n",
       "        vertical-align: middle;\n",
       "    }\n",
       "\n",
       "    .dataframe tbody tr th {\n",
       "        vertical-align: top;\n",
       "    }\n",
       "\n",
       "    .dataframe thead th {\n",
       "        text-align: right;\n",
       "    }\n",
       "</style>\n",
       "<table border=\"1\" class=\"dataframe\">\n",
       "  <thead>\n",
       "    <tr style=\"text-align: right;\">\n",
       "      <th></th>\n",
       "      <th></th>\n",
       "      <th></th>\n",
       "      <th>additional_number_of_scoring</th>\n",
       "      <th>review_date</th>\n",
       "      <th>hotel_name</th>\n",
       "      <th>reviewer_nationality</th>\n",
       "      <th>negative_review</th>\n",
       "      <th>review_total_negative_word_counts</th>\n",
       "      <th>total_number_of_reviews</th>\n",
       "      <th>positive_review</th>\n",
       "      <th>review_total_positive_word_counts</th>\n",
       "      <th>total_number_of_reviews_reviewer_has_given</th>\n",
       "      <th>tags</th>\n",
       "      <th>days_since_review</th>\n",
       "      <th>lat</th>\n",
       "      <th>lng</th>\n",
       "      <th>sample</th>\n",
       "      <th>reviewer_score</th>\n",
       "    </tr>\n",
       "    <tr>\n",
       "      <th>hotel_address</th>\n",
       "      <th>average_score</th>\n",
       "      <th>year</th>\n",
       "      <th></th>\n",
       "      <th></th>\n",
       "      <th></th>\n",
       "      <th></th>\n",
       "      <th></th>\n",
       "      <th></th>\n",
       "      <th></th>\n",
       "      <th></th>\n",
       "      <th></th>\n",
       "      <th></th>\n",
       "      <th></th>\n",
       "      <th></th>\n",
       "      <th></th>\n",
       "      <th></th>\n",
       "      <th></th>\n",
       "      <th></th>\n",
       "    </tr>\n",
       "  </thead>\n",
       "  <tbody>\n",
       "    <tr>\n",
       "      <th rowspan=\"3\" valign=\"top\">s Gravesandestraat 55 Oost 1092 AA Amsterdam Netherlands</th>\n",
       "      <th rowspan=\"3\" valign=\"top\">7.7</th>\n",
       "      <th>2015</th>\n",
       "      <td>104</td>\n",
       "      <td>104</td>\n",
       "      <td>104</td>\n",
       "      <td>104</td>\n",
       "      <td>104</td>\n",
       "      <td>104</td>\n",
       "      <td>104</td>\n",
       "      <td>104</td>\n",
       "      <td>104</td>\n",
       "      <td>104</td>\n",
       "      <td>104</td>\n",
       "      <td>104</td>\n",
       "      <td>104</td>\n",
       "      <td>104</td>\n",
       "      <td>104</td>\n",
       "      <td>104</td>\n",
       "    </tr>\n",
       "    <tr>\n",
       "      <th>2016</th>\n",
       "      <td>189</td>\n",
       "      <td>189</td>\n",
       "      <td>189</td>\n",
       "      <td>189</td>\n",
       "      <td>189</td>\n",
       "      <td>189</td>\n",
       "      <td>189</td>\n",
       "      <td>189</td>\n",
       "      <td>189</td>\n",
       "      <td>189</td>\n",
       "      <td>189</td>\n",
       "      <td>189</td>\n",
       "      <td>189</td>\n",
       "      <td>189</td>\n",
       "      <td>189</td>\n",
       "      <td>189</td>\n",
       "    </tr>\n",
       "    <tr>\n",
       "      <th>2017</th>\n",
       "      <td>112</td>\n",
       "      <td>112</td>\n",
       "      <td>112</td>\n",
       "      <td>112</td>\n",
       "      <td>112</td>\n",
       "      <td>112</td>\n",
       "      <td>112</td>\n",
       "      <td>112</td>\n",
       "      <td>112</td>\n",
       "      <td>112</td>\n",
       "      <td>112</td>\n",
       "      <td>112</td>\n",
       "      <td>112</td>\n",
       "      <td>112</td>\n",
       "      <td>112</td>\n",
       "      <td>112</td>\n",
       "    </tr>\n",
       "    <tr>\n",
       "      <th rowspan=\"3\" valign=\"top\">1 15 Templeton Place Earl s Court Kensington and Chelsea London SW5 9NB United Kingdom</th>\n",
       "      <th rowspan=\"3\" valign=\"top\">8.5</th>\n",
       "      <th>2015</th>\n",
       "      <td>75</td>\n",
       "      <td>75</td>\n",
       "      <td>75</td>\n",
       "      <td>75</td>\n",
       "      <td>75</td>\n",
       "      <td>75</td>\n",
       "      <td>75</td>\n",
       "      <td>75</td>\n",
       "      <td>75</td>\n",
       "      <td>75</td>\n",
       "      <td>75</td>\n",
       "      <td>75</td>\n",
       "      <td>75</td>\n",
       "      <td>75</td>\n",
       "      <td>75</td>\n",
       "      <td>75</td>\n",
       "    </tr>\n",
       "    <tr>\n",
       "      <th>2016</th>\n",
       "      <td>386</td>\n",
       "      <td>386</td>\n",
       "      <td>386</td>\n",
       "      <td>386</td>\n",
       "      <td>386</td>\n",
       "      <td>386</td>\n",
       "      <td>386</td>\n",
       "      <td>386</td>\n",
       "      <td>386</td>\n",
       "      <td>386</td>\n",
       "      <td>386</td>\n",
       "      <td>386</td>\n",
       "      <td>386</td>\n",
       "      <td>386</td>\n",
       "      <td>386</td>\n",
       "      <td>386</td>\n",
       "    </tr>\n",
       "    <tr>\n",
       "      <th>2017</th>\n",
       "      <td>105</td>\n",
       "      <td>105</td>\n",
       "      <td>105</td>\n",
       "      <td>105</td>\n",
       "      <td>105</td>\n",
       "      <td>105</td>\n",
       "      <td>105</td>\n",
       "      <td>105</td>\n",
       "      <td>105</td>\n",
       "      <td>105</td>\n",
       "      <td>105</td>\n",
       "      <td>105</td>\n",
       "      <td>105</td>\n",
       "      <td>105</td>\n",
       "      <td>105</td>\n",
       "      <td>105</td>\n",
       "    </tr>\n",
       "    <tr>\n",
       "      <th rowspan=\"3\" valign=\"top\">1 2 Serjeant s Inn Fleet Street City of London London EC4Y 1LL United Kingdom</th>\n",
       "      <th rowspan=\"3\" valign=\"top\">9.2</th>\n",
       "      <th>2015</th>\n",
       "      <td>230</td>\n",
       "      <td>230</td>\n",
       "      <td>230</td>\n",
       "      <td>230</td>\n",
       "      <td>230</td>\n",
       "      <td>230</td>\n",
       "      <td>230</td>\n",
       "      <td>230</td>\n",
       "      <td>230</td>\n",
       "      <td>230</td>\n",
       "      <td>230</td>\n",
       "      <td>230</td>\n",
       "      <td>230</td>\n",
       "      <td>230</td>\n",
       "      <td>230</td>\n",
       "      <td>230</td>\n",
       "    </tr>\n",
       "    <tr>\n",
       "      <th>2016</th>\n",
       "      <td>611</td>\n",
       "      <td>611</td>\n",
       "      <td>611</td>\n",
       "      <td>611</td>\n",
       "      <td>611</td>\n",
       "      <td>611</td>\n",
       "      <td>611</td>\n",
       "      <td>611</td>\n",
       "      <td>611</td>\n",
       "      <td>611</td>\n",
       "      <td>611</td>\n",
       "      <td>611</td>\n",
       "      <td>611</td>\n",
       "      <td>611</td>\n",
       "      <td>611</td>\n",
       "      <td>611</td>\n",
       "    </tr>\n",
       "    <tr>\n",
       "      <th>2017</th>\n",
       "      <td>196</td>\n",
       "      <td>196</td>\n",
       "      <td>196</td>\n",
       "      <td>196</td>\n",
       "      <td>196</td>\n",
       "      <td>196</td>\n",
       "      <td>196</td>\n",
       "      <td>196</td>\n",
       "      <td>196</td>\n",
       "      <td>196</td>\n",
       "      <td>196</td>\n",
       "      <td>196</td>\n",
       "      <td>196</td>\n",
       "      <td>196</td>\n",
       "      <td>196</td>\n",
       "      <td>196</td>\n",
       "    </tr>\n",
       "    <tr>\n",
       "      <th rowspan=\"3\" valign=\"top\">1 3 Queens Garden Westminster Borough London W2 3BA United Kingdom</th>\n",
       "      <th rowspan=\"3\" valign=\"top\">7.7</th>\n",
       "      <th>2015</th>\n",
       "      <td>287</td>\n",
       "      <td>287</td>\n",
       "      <td>287</td>\n",
       "      <td>287</td>\n",
       "      <td>287</td>\n",
       "      <td>287</td>\n",
       "      <td>287</td>\n",
       "      <td>287</td>\n",
       "      <td>287</td>\n",
       "      <td>287</td>\n",
       "      <td>287</td>\n",
       "      <td>287</td>\n",
       "      <td>287</td>\n",
       "      <td>287</td>\n",
       "      <td>287</td>\n",
       "      <td>287</td>\n",
       "    </tr>\n",
       "    <tr>\n",
       "      <th>2016</th>\n",
       "      <td>1036</td>\n",
       "      <td>1036</td>\n",
       "      <td>1036</td>\n",
       "      <td>1036</td>\n",
       "      <td>1036</td>\n",
       "      <td>1036</td>\n",
       "      <td>1036</td>\n",
       "      <td>1036</td>\n",
       "      <td>1036</td>\n",
       "      <td>1036</td>\n",
       "      <td>1036</td>\n",
       "      <td>1036</td>\n",
       "      <td>1036</td>\n",
       "      <td>1036</td>\n",
       "      <td>1036</td>\n",
       "      <td>1036</td>\n",
       "    </tr>\n",
       "    <tr>\n",
       "      <th>2017</th>\n",
       "      <td>447</td>\n",
       "      <td>447</td>\n",
       "      <td>447</td>\n",
       "      <td>447</td>\n",
       "      <td>447</td>\n",
       "      <td>447</td>\n",
       "      <td>447</td>\n",
       "      <td>447</td>\n",
       "      <td>447</td>\n",
       "      <td>447</td>\n",
       "      <td>447</td>\n",
       "      <td>447</td>\n",
       "      <td>447</td>\n",
       "      <td>447</td>\n",
       "      <td>447</td>\n",
       "      <td>447</td>\n",
       "    </tr>\n",
       "    <tr>\n",
       "      <th rowspan=\"3\" valign=\"top\">1 3 Rue d Argentine 16th arr 75116 Paris France</th>\n",
       "      <th rowspan=\"3\" valign=\"top\">8.4</th>\n",
       "      <th>2015</th>\n",
       "      <td>13</td>\n",
       "      <td>13</td>\n",
       "      <td>13</td>\n",
       "      <td>13</td>\n",
       "      <td>13</td>\n",
       "      <td>13</td>\n",
       "      <td>13</td>\n",
       "      <td>13</td>\n",
       "      <td>13</td>\n",
       "      <td>13</td>\n",
       "      <td>13</td>\n",
       "      <td>13</td>\n",
       "      <td>13</td>\n",
       "      <td>13</td>\n",
       "      <td>13</td>\n",
       "      <td>13</td>\n",
       "    </tr>\n",
       "    <tr>\n",
       "      <th>2016</th>\n",
       "      <td>15</td>\n",
       "      <td>15</td>\n",
       "      <td>15</td>\n",
       "      <td>15</td>\n",
       "      <td>15</td>\n",
       "      <td>15</td>\n",
       "      <td>15</td>\n",
       "      <td>15</td>\n",
       "      <td>15</td>\n",
       "      <td>15</td>\n",
       "      <td>15</td>\n",
       "      <td>15</td>\n",
       "      <td>15</td>\n",
       "      <td>15</td>\n",
       "      <td>15</td>\n",
       "      <td>15</td>\n",
       "    </tr>\n",
       "    <tr>\n",
       "      <th>2017</th>\n",
       "      <td>7</td>\n",
       "      <td>7</td>\n",
       "      <td>7</td>\n",
       "      <td>7</td>\n",
       "      <td>7</td>\n",
       "      <td>7</td>\n",
       "      <td>7</td>\n",
       "      <td>7</td>\n",
       "      <td>7</td>\n",
       "      <td>7</td>\n",
       "      <td>7</td>\n",
       "      <td>7</td>\n",
       "      <td>7</td>\n",
       "      <td>7</td>\n",
       "      <td>7</td>\n",
       "      <td>7</td>\n",
       "    </tr>\n",
       "  </tbody>\n",
       "</table>\n",
       "</div>"
      ],
      "text/plain": [
       "                                                                       additional_number_of_scoring  \\\n",
       "hotel_address                                      average_score year                                 \n",
       " s Gravesandestraat 55 Oost 1092 AA Amsterdam N... 7.7           2015                           104   \n",
       "                                                                 2016                           189   \n",
       "                                                                 2017                           112   \n",
       "1 15 Templeton Place Earl s Court Kensington an... 8.5           2015                            75   \n",
       "                                                                 2016                           386   \n",
       "                                                                 2017                           105   \n",
       "1 2 Serjeant s Inn Fleet Street City of London ... 9.2           2015                           230   \n",
       "                                                                 2016                           611   \n",
       "                                                                 2017                           196   \n",
       "1 3 Queens Garden Westminster Borough London W2... 7.7           2015                           287   \n",
       "                                                                 2016                          1036   \n",
       "                                                                 2017                           447   \n",
       "1 3 Rue d Argentine 16th arr 75116 Paris France    8.4           2015                            13   \n",
       "                                                                 2016                            15   \n",
       "                                                                 2017                             7   \n",
       "\n",
       "                                                                       review_date  \\\n",
       "hotel_address                                      average_score year                \n",
       " s Gravesandestraat 55 Oost 1092 AA Amsterdam N... 7.7           2015          104   \n",
       "                                                                 2016          189   \n",
       "                                                                 2017          112   \n",
       "1 15 Templeton Place Earl s Court Kensington an... 8.5           2015           75   \n",
       "                                                                 2016          386   \n",
       "                                                                 2017          105   \n",
       "1 2 Serjeant s Inn Fleet Street City of London ... 9.2           2015          230   \n",
       "                                                                 2016          611   \n",
       "                                                                 2017          196   \n",
       "1 3 Queens Garden Westminster Borough London W2... 7.7           2015          287   \n",
       "                                                                 2016         1036   \n",
       "                                                                 2017          447   \n",
       "1 3 Rue d Argentine 16th arr 75116 Paris France    8.4           2015           13   \n",
       "                                                                 2016           15   \n",
       "                                                                 2017            7   \n",
       "\n",
       "                                                                       hotel_name  \\\n",
       "hotel_address                                      average_score year               \n",
       " s Gravesandestraat 55 Oost 1092 AA Amsterdam N... 7.7           2015         104   \n",
       "                                                                 2016         189   \n",
       "                                                                 2017         112   \n",
       "1 15 Templeton Place Earl s Court Kensington an... 8.5           2015          75   \n",
       "                                                                 2016         386   \n",
       "                                                                 2017         105   \n",
       "1 2 Serjeant s Inn Fleet Street City of London ... 9.2           2015         230   \n",
       "                                                                 2016         611   \n",
       "                                                                 2017         196   \n",
       "1 3 Queens Garden Westminster Borough London W2... 7.7           2015         287   \n",
       "                                                                 2016        1036   \n",
       "                                                                 2017         447   \n",
       "1 3 Rue d Argentine 16th arr 75116 Paris France    8.4           2015          13   \n",
       "                                                                 2016          15   \n",
       "                                                                 2017           7   \n",
       "\n",
       "                                                                       reviewer_nationality  \\\n",
       "hotel_address                                      average_score year                         \n",
       " s Gravesandestraat 55 Oost 1092 AA Amsterdam N... 7.7           2015                   104   \n",
       "                                                                 2016                   189   \n",
       "                                                                 2017                   112   \n",
       "1 15 Templeton Place Earl s Court Kensington an... 8.5           2015                    75   \n",
       "                                                                 2016                   386   \n",
       "                                                                 2017                   105   \n",
       "1 2 Serjeant s Inn Fleet Street City of London ... 9.2           2015                   230   \n",
       "                                                                 2016                   611   \n",
       "                                                                 2017                   196   \n",
       "1 3 Queens Garden Westminster Borough London W2... 7.7           2015                   287   \n",
       "                                                                 2016                  1036   \n",
       "                                                                 2017                   447   \n",
       "1 3 Rue d Argentine 16th arr 75116 Paris France    8.4           2015                    13   \n",
       "                                                                 2016                    15   \n",
       "                                                                 2017                     7   \n",
       "\n",
       "                                                                       negative_review  \\\n",
       "hotel_address                                      average_score year                    \n",
       " s Gravesandestraat 55 Oost 1092 AA Amsterdam N... 7.7           2015              104   \n",
       "                                                                 2016              189   \n",
       "                                                                 2017              112   \n",
       "1 15 Templeton Place Earl s Court Kensington an... 8.5           2015               75   \n",
       "                                                                 2016              386   \n",
       "                                                                 2017              105   \n",
       "1 2 Serjeant s Inn Fleet Street City of London ... 9.2           2015              230   \n",
       "                                                                 2016              611   \n",
       "                                                                 2017              196   \n",
       "1 3 Queens Garden Westminster Borough London W2... 7.7           2015              287   \n",
       "                                                                 2016             1036   \n",
       "                                                                 2017              447   \n",
       "1 3 Rue d Argentine 16th arr 75116 Paris France    8.4           2015               13   \n",
       "                                                                 2016               15   \n",
       "                                                                 2017                7   \n",
       "\n",
       "                                                                       review_total_negative_word_counts  \\\n",
       "hotel_address                                      average_score year                                      \n",
       " s Gravesandestraat 55 Oost 1092 AA Amsterdam N... 7.7           2015                                104   \n",
       "                                                                 2016                                189   \n",
       "                                                                 2017                                112   \n",
       "1 15 Templeton Place Earl s Court Kensington an... 8.5           2015                                 75   \n",
       "                                                                 2016                                386   \n",
       "                                                                 2017                                105   \n",
       "1 2 Serjeant s Inn Fleet Street City of London ... 9.2           2015                                230   \n",
       "                                                                 2016                                611   \n",
       "                                                                 2017                                196   \n",
       "1 3 Queens Garden Westminster Borough London W2... 7.7           2015                                287   \n",
       "                                                                 2016                               1036   \n",
       "                                                                 2017                                447   \n",
       "1 3 Rue d Argentine 16th arr 75116 Paris France    8.4           2015                                 13   \n",
       "                                                                 2016                                 15   \n",
       "                                                                 2017                                  7   \n",
       "\n",
       "                                                                       total_number_of_reviews  \\\n",
       "hotel_address                                      average_score year                            \n",
       " s Gravesandestraat 55 Oost 1092 AA Amsterdam N... 7.7           2015                      104   \n",
       "                                                                 2016                      189   \n",
       "                                                                 2017                      112   \n",
       "1 15 Templeton Place Earl s Court Kensington an... 8.5           2015                       75   \n",
       "                                                                 2016                      386   \n",
       "                                                                 2017                      105   \n",
       "1 2 Serjeant s Inn Fleet Street City of London ... 9.2           2015                      230   \n",
       "                                                                 2016                      611   \n",
       "                                                                 2017                      196   \n",
       "1 3 Queens Garden Westminster Borough London W2... 7.7           2015                      287   \n",
       "                                                                 2016                     1036   \n",
       "                                                                 2017                      447   \n",
       "1 3 Rue d Argentine 16th arr 75116 Paris France    8.4           2015                       13   \n",
       "                                                                 2016                       15   \n",
       "                                                                 2017                        7   \n",
       "\n",
       "                                                                       positive_review  \\\n",
       "hotel_address                                      average_score year                    \n",
       " s Gravesandestraat 55 Oost 1092 AA Amsterdam N... 7.7           2015              104   \n",
       "                                                                 2016              189   \n",
       "                                                                 2017              112   \n",
       "1 15 Templeton Place Earl s Court Kensington an... 8.5           2015               75   \n",
       "                                                                 2016              386   \n",
       "                                                                 2017              105   \n",
       "1 2 Serjeant s Inn Fleet Street City of London ... 9.2           2015              230   \n",
       "                                                                 2016              611   \n",
       "                                                                 2017              196   \n",
       "1 3 Queens Garden Westminster Borough London W2... 7.7           2015              287   \n",
       "                                                                 2016             1036   \n",
       "                                                                 2017              447   \n",
       "1 3 Rue d Argentine 16th arr 75116 Paris France    8.4           2015               13   \n",
       "                                                                 2016               15   \n",
       "                                                                 2017                7   \n",
       "\n",
       "                                                                       review_total_positive_word_counts  \\\n",
       "hotel_address                                      average_score year                                      \n",
       " s Gravesandestraat 55 Oost 1092 AA Amsterdam N... 7.7           2015                                104   \n",
       "                                                                 2016                                189   \n",
       "                                                                 2017                                112   \n",
       "1 15 Templeton Place Earl s Court Kensington an... 8.5           2015                                 75   \n",
       "                                                                 2016                                386   \n",
       "                                                                 2017                                105   \n",
       "1 2 Serjeant s Inn Fleet Street City of London ... 9.2           2015                                230   \n",
       "                                                                 2016                                611   \n",
       "                                                                 2017                                196   \n",
       "1 3 Queens Garden Westminster Borough London W2... 7.7           2015                                287   \n",
       "                                                                 2016                               1036   \n",
       "                                                                 2017                                447   \n",
       "1 3 Rue d Argentine 16th arr 75116 Paris France    8.4           2015                                 13   \n",
       "                                                                 2016                                 15   \n",
       "                                                                 2017                                  7   \n",
       "\n",
       "                                                                       total_number_of_reviews_reviewer_has_given  \\\n",
       "hotel_address                                      average_score year                                               \n",
       " s Gravesandestraat 55 Oost 1092 AA Amsterdam N... 7.7           2015                                         104   \n",
       "                                                                 2016                                         189   \n",
       "                                                                 2017                                         112   \n",
       "1 15 Templeton Place Earl s Court Kensington an... 8.5           2015                                          75   \n",
       "                                                                 2016                                         386   \n",
       "                                                                 2017                                         105   \n",
       "1 2 Serjeant s Inn Fleet Street City of London ... 9.2           2015                                         230   \n",
       "                                                                 2016                                         611   \n",
       "                                                                 2017                                         196   \n",
       "1 3 Queens Garden Westminster Borough London W2... 7.7           2015                                         287   \n",
       "                                                                 2016                                        1036   \n",
       "                                                                 2017                                         447   \n",
       "1 3 Rue d Argentine 16th arr 75116 Paris France    8.4           2015                                          13   \n",
       "                                                                 2016                                          15   \n",
       "                                                                 2017                                           7   \n",
       "\n",
       "                                                                       tags  \\\n",
       "hotel_address                                      average_score year         \n",
       " s Gravesandestraat 55 Oost 1092 AA Amsterdam N... 7.7           2015   104   \n",
       "                                                                 2016   189   \n",
       "                                                                 2017   112   \n",
       "1 15 Templeton Place Earl s Court Kensington an... 8.5           2015    75   \n",
       "                                                                 2016   386   \n",
       "                                                                 2017   105   \n",
       "1 2 Serjeant s Inn Fleet Street City of London ... 9.2           2015   230   \n",
       "                                                                 2016   611   \n",
       "                                                                 2017   196   \n",
       "1 3 Queens Garden Westminster Borough London W2... 7.7           2015   287   \n",
       "                                                                 2016  1036   \n",
       "                                                                 2017   447   \n",
       "1 3 Rue d Argentine 16th arr 75116 Paris France    8.4           2015    13   \n",
       "                                                                 2016    15   \n",
       "                                                                 2017     7   \n",
       "\n",
       "                                                                       days_since_review  \\\n",
       "hotel_address                                      average_score year                      \n",
       " s Gravesandestraat 55 Oost 1092 AA Amsterdam N... 7.7           2015                104   \n",
       "                                                                 2016                189   \n",
       "                                                                 2017                112   \n",
       "1 15 Templeton Place Earl s Court Kensington an... 8.5           2015                 75   \n",
       "                                                                 2016                386   \n",
       "                                                                 2017                105   \n",
       "1 2 Serjeant s Inn Fleet Street City of London ... 9.2           2015                230   \n",
       "                                                                 2016                611   \n",
       "                                                                 2017                196   \n",
       "1 3 Queens Garden Westminster Borough London W2... 7.7           2015                287   \n",
       "                                                                 2016               1036   \n",
       "                                                                 2017                447   \n",
       "1 3 Rue d Argentine 16th arr 75116 Paris France    8.4           2015                 13   \n",
       "                                                                 2016                 15   \n",
       "                                                                 2017                  7   \n",
       "\n",
       "                                                                        lat  \\\n",
       "hotel_address                                      average_score year         \n",
       " s Gravesandestraat 55 Oost 1092 AA Amsterdam N... 7.7           2015   104   \n",
       "                                                                 2016   189   \n",
       "                                                                 2017   112   \n",
       "1 15 Templeton Place Earl s Court Kensington an... 8.5           2015    75   \n",
       "                                                                 2016   386   \n",
       "                                                                 2017   105   \n",
       "1 2 Serjeant s Inn Fleet Street City of London ... 9.2           2015   230   \n",
       "                                                                 2016   611   \n",
       "                                                                 2017   196   \n",
       "1 3 Queens Garden Westminster Borough London W2... 7.7           2015   287   \n",
       "                                                                 2016  1036   \n",
       "                                                                 2017   447   \n",
       "1 3 Rue d Argentine 16th arr 75116 Paris France    8.4           2015    13   \n",
       "                                                                 2016    15   \n",
       "                                                                 2017     7   \n",
       "\n",
       "                                                                        lng  \\\n",
       "hotel_address                                      average_score year         \n",
       " s Gravesandestraat 55 Oost 1092 AA Amsterdam N... 7.7           2015   104   \n",
       "                                                                 2016   189   \n",
       "                                                                 2017   112   \n",
       "1 15 Templeton Place Earl s Court Kensington an... 8.5           2015    75   \n",
       "                                                                 2016   386   \n",
       "                                                                 2017   105   \n",
       "1 2 Serjeant s Inn Fleet Street City of London ... 9.2           2015   230   \n",
       "                                                                 2016   611   \n",
       "                                                                 2017   196   \n",
       "1 3 Queens Garden Westminster Borough London W2... 7.7           2015   287   \n",
       "                                                                 2016  1036   \n",
       "                                                                 2017   447   \n",
       "1 3 Rue d Argentine 16th arr 75116 Paris France    8.4           2015    13   \n",
       "                                                                 2016    15   \n",
       "                                                                 2017     7   \n",
       "\n",
       "                                                                       sample  \\\n",
       "hotel_address                                      average_score year           \n",
       " s Gravesandestraat 55 Oost 1092 AA Amsterdam N... 7.7           2015     104   \n",
       "                                                                 2016     189   \n",
       "                                                                 2017     112   \n",
       "1 15 Templeton Place Earl s Court Kensington an... 8.5           2015      75   \n",
       "                                                                 2016     386   \n",
       "                                                                 2017     105   \n",
       "1 2 Serjeant s Inn Fleet Street City of London ... 9.2           2015     230   \n",
       "                                                                 2016     611   \n",
       "                                                                 2017     196   \n",
       "1 3 Queens Garden Westminster Borough London W2... 7.7           2015     287   \n",
       "                                                                 2016    1036   \n",
       "                                                                 2017     447   \n",
       "1 3 Rue d Argentine 16th arr 75116 Paris France    8.4           2015      13   \n",
       "                                                                 2016      15   \n",
       "                                                                 2017       7   \n",
       "\n",
       "                                                                       reviewer_score  \n",
       "hotel_address                                      average_score year                  \n",
       " s Gravesandestraat 55 Oost 1092 AA Amsterdam N... 7.7           2015             104  \n",
       "                                                                 2016             189  \n",
       "                                                                 2017             112  \n",
       "1 15 Templeton Place Earl s Court Kensington an... 8.5           2015              75  \n",
       "                                                                 2016             386  \n",
       "                                                                 2017             105  \n",
       "1 2 Serjeant s Inn Fleet Street City of London ... 9.2           2015             230  \n",
       "                                                                 2016             611  \n",
       "                                                                 2017             196  \n",
       "1 3 Queens Garden Westminster Borough London W2... 7.7           2015             287  \n",
       "                                                                 2016            1036  \n",
       "                                                                 2017             447  \n",
       "1 3 Rue d Argentine 16th arr 75116 Paris France    8.4           2015              13  \n",
       "                                                                 2016              15  \n",
       "                                                                 2017               7  "
      ]
     },
     "execution_count": 25,
     "metadata": {},
     "output_type": "execute_result"
    }
   ],
   "source": [
    "# Посмотрим на столбец 'average_score' в связке с названием и годом\n",
    "df.groupby(['hotel_address', 'average_score', 'year']).count().head(15)\n"
   ]
  },
  {
   "cell_type": "markdown",
   "metadata": {},
   "source": [
    "** Вывод: Каждому отелю соответствует средний балл , который не зависит от года **\n"
   ]
  },
  {
   "cell_type": "code",
   "execution_count": 26,
   "metadata": {
    "execution": {
     "iopub.execute_input": "2023-08-28T17:20:10.819493Z",
     "iopub.status.busy": "2023-08-28T17:20:10.819214Z",
     "iopub.status.idle": "2023-08-28T17:20:10.899449Z",
     "shell.execute_reply": "2023-08-28T17:20:10.898496Z",
     "shell.execute_reply.started": "2023-08-28T17:20:10.819458Z"
    }
   },
   "outputs": [],
   "source": [
    "#  Удаление столбца с годом (пока это лишняя информация)\n",
    "df = df.drop(['year'], axis=1)\n"
   ]
  },
  {
   "cell_type": "markdown",
   "metadata": {},
   "source": [
    "## 2.3 Исследование отзывов\n"
   ]
  },
  {
   "cell_type": "code",
   "execution_count": 27,
   "metadata": {
    "execution": {
     "iopub.execute_input": "2023-08-28T17:20:10.901272Z",
     "iopub.status.busy": "2023-08-28T17:20:10.900998Z",
     "iopub.status.idle": "2023-08-28T17:20:12.132759Z",
     "shell.execute_reply": "2023-08-28T17:20:12.132061Z",
     "shell.execute_reply.started": "2023-08-28T17:20:10.901230Z"
    }
   },
   "outputs": [
    {
     "data": {
      "text/html": [
       "<div>\n",
       "<style scoped>\n",
       "    .dataframe tbody tr th:only-of-type {\n",
       "        vertical-align: middle;\n",
       "    }\n",
       "\n",
       "    .dataframe tbody tr th {\n",
       "        vertical-align: top;\n",
       "    }\n",
       "\n",
       "    .dataframe thead th {\n",
       "        text-align: right;\n",
       "    }\n",
       "</style>\n",
       "<table border=\"1\" class=\"dataframe\">\n",
       "  <thead>\n",
       "    <tr style=\"text-align: right;\">\n",
       "      <th></th>\n",
       "      <th>positive_review</th>\n",
       "      <th>review_total_positive_word_counts_new</th>\n",
       "      <th>review_total_positive_word_counts</th>\n",
       "    </tr>\n",
       "  </thead>\n",
       "  <tbody>\n",
       "    <tr>\n",
       "      <th>0</th>\n",
       "      <td>Hotel was great clean friendly staff free brea...</td>\n",
       "      <td>60</td>\n",
       "      <td>62</td>\n",
       "    </tr>\n",
       "    <tr>\n",
       "      <th>1</th>\n",
       "      <td>No Positive</td>\n",
       "      <td>2</td>\n",
       "      <td>0</td>\n",
       "    </tr>\n",
       "    <tr>\n",
       "      <th>2</th>\n",
       "      <td>Nice welcoming and service</td>\n",
       "      <td>4</td>\n",
       "      <td>5</td>\n",
       "    </tr>\n",
       "    <tr>\n",
       "      <th>3</th>\n",
       "      <td>Everything including the nice upgrade The Hote...</td>\n",
       "      <td>26</td>\n",
       "      <td>27</td>\n",
       "    </tr>\n",
       "    <tr>\n",
       "      <th>4</th>\n",
       "      <td>Lovely hotel v welcoming staff</td>\n",
       "      <td>5</td>\n",
       "      <td>7</td>\n",
       "    </tr>\n",
       "    <tr>\n",
       "      <th>...</th>\n",
       "      <td>...</td>\n",
       "      <td>...</td>\n",
       "      <td>...</td>\n",
       "    </tr>\n",
       "    <tr>\n",
       "      <th>515426</th>\n",
       "      <td>Tr s proche du metro Earl s court</td>\n",
       "      <td>8</td>\n",
       "      <td>10</td>\n",
       "    </tr>\n",
       "    <tr>\n",
       "      <th>515427</th>\n",
       "      <td>The bed was so comfy I stayed with my boyfrien...</td>\n",
       "      <td>91</td>\n",
       "      <td>93</td>\n",
       "    </tr>\n",
       "    <tr>\n",
       "      <th>515428</th>\n",
       "      <td>great location simple check in out nice shower</td>\n",
       "      <td>8</td>\n",
       "      <td>9</td>\n",
       "    </tr>\n",
       "    <tr>\n",
       "      <th>515429</th>\n",
       "      <td>Location and very comfy bed</td>\n",
       "      <td>5</td>\n",
       "      <td>6</td>\n",
       "    </tr>\n",
       "    <tr>\n",
       "      <th>515430</th>\n",
       "      <td>Beds comfortable Pillows also good Homely feel...</td>\n",
       "      <td>18</td>\n",
       "      <td>20</td>\n",
       "    </tr>\n",
       "  </tbody>\n",
       "</table>\n",
       "<p>515431 rows × 3 columns</p>\n",
       "</div>"
      ],
      "text/plain": [
       "                                          positive_review  \\\n",
       "0       Hotel was great clean friendly staff free brea...   \n",
       "1                                             No Positive   \n",
       "2                              Nice welcoming and service   \n",
       "3       Everything including the nice upgrade The Hote...   \n",
       "4                          Lovely hotel v welcoming staff   \n",
       "...                                                   ...   \n",
       "515426                  Tr s proche du metro Earl s court   \n",
       "515427  The bed was so comfy I stayed with my boyfrien...   \n",
       "515428     great location simple check in out nice shower   \n",
       "515429                        Location and very comfy bed   \n",
       "515430  Beds comfortable Pillows also good Homely feel...   \n",
       "\n",
       "        review_total_positive_word_counts_new  \\\n",
       "0                                          60   \n",
       "1                                           2   \n",
       "2                                           4   \n",
       "3                                          26   \n",
       "4                                           5   \n",
       "...                                       ...   \n",
       "515426                                      8   \n",
       "515427                                     91   \n",
       "515428                                      8   \n",
       "515429                                      5   \n",
       "515430                                     18   \n",
       "\n",
       "        review_total_positive_word_counts  \n",
       "0                                      62  \n",
       "1                                       0  \n",
       "2                                       5  \n",
       "3                                      27  \n",
       "4                                       7  \n",
       "...                                   ...  \n",
       "515426                                 10  \n",
       "515427                                 93  \n",
       "515428                                  9  \n",
       "515429                                  6  \n",
       "515430                                 20  \n",
       "\n",
       "[515431 rows x 3 columns]"
      ]
     },
     "execution_count": 27,
     "metadata": {},
     "output_type": "execute_result"
    }
   ],
   "source": [
    "# Проверяем корректность количества слов в положительном отзыве\n",
    "df['positive_review'] = df['positive_review'].apply(lambda x: x.strip())  # удаляем лишние пробелы из строк\n",
    "df['review_total_positive_word_counts_new'] = df['positive_review'].apply(lambda x: len(x.split(' '))) # новый столбец\n",
    "# Проверка\n",
    "df[df['review_total_positive_word_counts_new'] != df['review_total_positive_word_counts']][[\n",
    "    'positive_review', 'review_total_positive_word_counts_new', 'review_total_positive_word_counts']]\n"
   ]
  },
  {
   "cell_type": "code",
   "execution_count": 28,
   "metadata": {},
   "outputs": [
    {
     "data": {
      "text/html": [
       "<div>\n",
       "<style scoped>\n",
       "    .dataframe tbody tr th:only-of-type {\n",
       "        vertical-align: middle;\n",
       "    }\n",
       "\n",
       "    .dataframe tbody tr th {\n",
       "        vertical-align: top;\n",
       "    }\n",
       "\n",
       "    .dataframe thead th {\n",
       "        text-align: right;\n",
       "    }\n",
       "</style>\n",
       "<table border=\"1\" class=\"dataframe\">\n",
       "  <thead>\n",
       "    <tr style=\"text-align: right;\">\n",
       "      <th></th>\n",
       "      <th>positive_review</th>\n",
       "      <th>review_total_positive_word_counts_new</th>\n",
       "      <th>review_total_positive_word_counts</th>\n",
       "    </tr>\n",
       "  </thead>\n",
       "  <tbody>\n",
       "  </tbody>\n",
       "</table>\n",
       "</div>"
      ],
      "text/plain": [
       "Empty DataFrame\n",
       "Columns: [positive_review, review_total_positive_word_counts_new, review_total_positive_word_counts]\n",
       "Index: []"
      ]
     },
     "execution_count": 28,
     "metadata": {},
     "output_type": "execute_result"
    }
   ],
   "source": [
    "# Посмотрим разницу по модулю больше 2\n",
    "mask = abs((df['review_total_positive_word_counts_new'] - df['review_total_positive_word_counts'])) > 2\n",
    "df[mask][['positive_review', 'review_total_positive_word_counts_new',\n",
    "          'review_total_positive_word_counts']]"
   ]
  },
  {
   "cell_type": "code",
   "execution_count": 29,
   "metadata": {
    "execution": {
     "iopub.execute_input": "2023-08-28T17:20:12.761110Z",
     "iopub.status.busy": "2023-08-28T17:20:12.760723Z",
     "iopub.status.idle": "2023-08-28T17:20:14.083986Z",
     "shell.execute_reply": "2023-08-28T17:20:14.082628Z",
     "shell.execute_reply.started": "2023-08-28T17:20:12.761048Z"
    }
   },
   "outputs": [
    {
     "data": {
      "text/html": [
       "<div>\n",
       "<style scoped>\n",
       "    .dataframe tbody tr th:only-of-type {\n",
       "        vertical-align: middle;\n",
       "    }\n",
       "\n",
       "    .dataframe tbody tr th {\n",
       "        vertical-align: top;\n",
       "    }\n",
       "\n",
       "    .dataframe thead th {\n",
       "        text-align: right;\n",
       "    }\n",
       "</style>\n",
       "<table border=\"1\" class=\"dataframe\">\n",
       "  <thead>\n",
       "    <tr style=\"text-align: right;\">\n",
       "      <th></th>\n",
       "      <th>negative_review</th>\n",
       "      <th>review_total_negative_word_counts_new</th>\n",
       "      <th>review_total_negative_word_counts</th>\n",
       "    </tr>\n",
       "  </thead>\n",
       "  <tbody>\n",
       "    <tr>\n",
       "      <th>0</th>\n",
       "      <td>Would have appreciated a shop in the hotel tha...</td>\n",
       "      <td>50</td>\n",
       "      <td>52</td>\n",
       "    </tr>\n",
       "    <tr>\n",
       "      <th>1</th>\n",
       "      <td>No tissue paper box was present at the room</td>\n",
       "      <td>9</td>\n",
       "      <td>10</td>\n",
       "    </tr>\n",
       "    <tr>\n",
       "      <th>2</th>\n",
       "      <td>Pillows</td>\n",
       "      <td>1</td>\n",
       "      <td>3</td>\n",
       "    </tr>\n",
       "    <tr>\n",
       "      <th>3</th>\n",
       "      <td>No Negative</td>\n",
       "      <td>2</td>\n",
       "      <td>0</td>\n",
       "    </tr>\n",
       "    <tr>\n",
       "      <th>4</th>\n",
       "      <td>No Negative</td>\n",
       "      <td>2</td>\n",
       "      <td>0</td>\n",
       "    </tr>\n",
       "    <tr>\n",
       "      <th>...</th>\n",
       "      <td>...</td>\n",
       "      <td>...</td>\n",
       "      <td>...</td>\n",
       "    </tr>\n",
       "    <tr>\n",
       "      <th>515426</th>\n",
       "      <td>No Negative</td>\n",
       "      <td>2</td>\n",
       "      <td>0</td>\n",
       "    </tr>\n",
       "    <tr>\n",
       "      <th>515427</th>\n",
       "      <td>No Negative</td>\n",
       "      <td>2</td>\n",
       "      <td>0</td>\n",
       "    </tr>\n",
       "    <tr>\n",
       "      <th>515428</th>\n",
       "      <td>room is really small but guess is normal in Lo...</td>\n",
       "      <td>10</td>\n",
       "      <td>12</td>\n",
       "    </tr>\n",
       "    <tr>\n",
       "      <th>515429</th>\n",
       "      <td>No Negative</td>\n",
       "      <td>2</td>\n",
       "      <td>0</td>\n",
       "    </tr>\n",
       "    <tr>\n",
       "      <th>515430</th>\n",
       "      <td>Patio outside could have been cleaned of algae...</td>\n",
       "      <td>18</td>\n",
       "      <td>20</td>\n",
       "    </tr>\n",
       "  </tbody>\n",
       "</table>\n",
       "<p>515431 rows × 3 columns</p>\n",
       "</div>"
      ],
      "text/plain": [
       "                                          negative_review  \\\n",
       "0       Would have appreciated a shop in the hotel tha...   \n",
       "1             No tissue paper box was present at the room   \n",
       "2                                                 Pillows   \n",
       "3                                             No Negative   \n",
       "4                                             No Negative   \n",
       "...                                                   ...   \n",
       "515426                                        No Negative   \n",
       "515427                                        No Negative   \n",
       "515428  room is really small but guess is normal in Lo...   \n",
       "515429                                        No Negative   \n",
       "515430  Patio outside could have been cleaned of algae...   \n",
       "\n",
       "        review_total_negative_word_counts_new  \\\n",
       "0                                          50   \n",
       "1                                           9   \n",
       "2                                           1   \n",
       "3                                           2   \n",
       "4                                           2   \n",
       "...                                       ...   \n",
       "515426                                      2   \n",
       "515427                                      2   \n",
       "515428                                     10   \n",
       "515429                                      2   \n",
       "515430                                     18   \n",
       "\n",
       "        review_total_negative_word_counts  \n",
       "0                                      52  \n",
       "1                                      10  \n",
       "2                                       3  \n",
       "3                                       0  \n",
       "4                                       0  \n",
       "...                                   ...  \n",
       "515426                                  0  \n",
       "515427                                  0  \n",
       "515428                                 12  \n",
       "515429                                  0  \n",
       "515430                                 20  \n",
       "\n",
       "[515431 rows x 3 columns]"
      ]
     },
     "execution_count": 29,
     "metadata": {},
     "output_type": "execute_result"
    }
   ],
   "source": [
    "# Проверяем корректность количества слов в отрицательном отзыве\n",
    "df['negative_review'] = df['negative_review'].apply(lambda x: x.strip())  # удаляем лишние пробелы из строк\n",
    "df['review_total_negative_word_counts_new'] = df['negative_review'].apply(lambda x: len(x.split(' ')))\n",
    "df[df['review_total_negative_word_counts_new'] != df['review_total_negative_word_counts']][[\n",
    "    'negative_review', 'review_total_negative_word_counts_new', 'review_total_negative_word_counts']]"
   ]
  },
  {
   "cell_type": "code",
   "execution_count": 30,
   "metadata": {},
   "outputs": [
    {
     "data": {
      "text/html": [
       "<div>\n",
       "<style scoped>\n",
       "    .dataframe tbody tr th:only-of-type {\n",
       "        vertical-align: middle;\n",
       "    }\n",
       "\n",
       "    .dataframe tbody tr th {\n",
       "        vertical-align: top;\n",
       "    }\n",
       "\n",
       "    .dataframe thead th {\n",
       "        text-align: right;\n",
       "    }\n",
       "</style>\n",
       "<table border=\"1\" class=\"dataframe\">\n",
       "  <thead>\n",
       "    <tr style=\"text-align: right;\">\n",
       "      <th></th>\n",
       "      <th>negative_review</th>\n",
       "      <th>review_total_negative_word_counts_new</th>\n",
       "      <th>review_total_negative_word_counts</th>\n",
       "    </tr>\n",
       "  </thead>\n",
       "  <tbody>\n",
       "  </tbody>\n",
       "</table>\n",
       "</div>"
      ],
      "text/plain": [
       "Empty DataFrame\n",
       "Columns: [negative_review, review_total_negative_word_counts_new, review_total_negative_word_counts]\n",
       "Index: []"
      ]
     },
     "execution_count": 30,
     "metadata": {},
     "output_type": "execute_result"
    }
   ],
   "source": [
    "# Посмотрим разницу по модулю больше 2\n",
    "mask = abs(df['review_total_negative_word_counts_new'] - df['review_total_negative_word_counts']) > 2\n",
    "df[mask][['negative_review', 'review_total_negative_word_counts_new', 'review_total_negative_word_counts']]"
   ]
  },
  {
   "cell_type": "code",
   "execution_count": 31,
   "metadata": {
    "execution": {
     "iopub.execute_input": "2023-08-28T17:20:14.143967Z",
     "iopub.status.busy": "2023-08-28T17:20:14.143644Z",
     "iopub.status.idle": "2023-08-28T17:20:15.456974Z",
     "shell.execute_reply": "2023-08-28T17:20:15.455916Z",
     "shell.execute_reply.started": "2023-08-28T17:20:14.143929Z"
    }
   },
   "outputs": [
    {
     "data": {
      "text/plain": [
       "166616"
      ]
     },
     "execution_count": 31,
     "metadata": {},
     "output_type": "execute_result"
    }
   ],
   "source": [
    "# Количетво ячеек содержащие слова 'Nothing','No Negative' для отрицательных отзывов\n",
    "lst = ['Nothing', 'No Negative']\n",
    "df[df['negative_review'].str.contains('|'.join(lst), case=False)]['negative_review'].count()"
   ]
  },
  {
   "cell_type": "code",
   "execution_count": 32,
   "metadata": {
    "execution": {
     "iopub.execute_input": "2023-08-28T17:20:15.459227Z",
     "iopub.status.busy": "2023-08-28T17:20:15.458389Z",
     "iopub.status.idle": "2023-08-28T17:20:15.557424Z",
     "shell.execute_reply": "2023-08-28T17:20:15.556226Z",
     "shell.execute_reply.started": "2023-08-28T17:20:15.459183Z"
    }
   },
   "outputs": [
    {
     "data": {
      "text/plain": [
       "849"
      ]
     },
     "execution_count": 32,
     "metadata": {},
     "output_type": "execute_result"
    }
   ],
   "source": [
    "# Количество пустых ячеек\n",
    "df[df['negative_review'] == '']['negative_review'].count()\n"
   ]
  },
  {
   "cell_type": "code",
   "execution_count": 33,
   "metadata": {},
   "outputs": [],
   "source": [
    "def has_negative_review(arg):\n",
    "    '''Функция определяет, есть ли в отзыве негатив'''\n",
    "    ''' Как реализовать с помощью регулярных выражений? И будет ли код более качественным?'''\n",
    "\n",
    "    list_fullmatch = [' ', 'nan', 'na', '0', 'null', 'none', 'n/a', 'n a']\n",
    "    list_contains = ['no negative', 'nothing']\n",
    "\n",
    "    for i in list_fullmatch:\n",
    "        if i == arg.lower():\n",
    "            return 0\n",
    "    for i in list_contains:\n",
    "        if i in arg.lower():\n",
    "            return 0\n",
    "    return 1"
   ]
  },
  {
   "cell_type": "code",
   "execution_count": 34,
   "metadata": {
    "execution": {
     "iopub.execute_input": "2023-08-28T17:20:15.568802Z",
     "iopub.status.busy": "2023-08-28T17:20:15.567918Z",
     "iopub.status.idle": "2023-08-28T17:20:16.443442Z",
     "shell.execute_reply": "2023-08-28T17:20:16.442799Z",
     "shell.execute_reply.started": "2023-08-28T17:20:15.568743Z"
    }
   },
   "outputs": [
    {
     "data": {
      "text/plain": [
       "1    345221\n",
       "0    170210\n",
       "Name: negative_boole, dtype: int64"
      ]
     },
     "execution_count": 34,
     "metadata": {},
     "output_type": "execute_result"
    }
   ],
   "source": [
    "# Формирование нового столбца с информацией о наличии положительной словесной обратной связи\n",
    "# и просмотр полученных значений\n",
    "df['negative_boole'] = df['negative_review'].apply(has_negative_review)\n",
    "df['negative_boole'].value_counts()\n"
   ]
  },
  {
   "cell_type": "code",
   "execution_count": 35,
   "metadata": {
    "execution": {
     "iopub.execute_input": "2023-08-28T17:20:16.445445Z",
     "iopub.status.busy": "2023-08-28T17:20:16.444606Z",
     "iopub.status.idle": "2023-08-28T17:20:17.644086Z",
     "shell.execute_reply": "2023-08-28T17:20:17.642931Z",
     "shell.execute_reply.started": "2023-08-28T17:20:16.445406Z"
    }
   },
   "outputs": [
    {
     "data": {
      "text/plain": [
       "42497"
      ]
     },
     "execution_count": 35,
     "metadata": {},
     "output_type": "execute_result"
    }
   ],
   "source": [
    "# Количетво ячеек содержащие слова 'Nothing','No Positive' для положительных отзывов\n",
    "lst = ['Nothing', 'No Positive']\n",
    "df[df['positive_review'].str.contains('|'.join(lst), case=False)]['positive_review'].count()"
   ]
  },
  {
   "cell_type": "code",
   "execution_count": 36,
   "metadata": {
    "execution": {
     "iopub.execute_input": "2023-08-28T17:20:17.645932Z",
     "iopub.status.busy": "2023-08-28T17:20:17.645620Z",
     "iopub.status.idle": "2023-08-28T17:20:17.745435Z",
     "shell.execute_reply": "2023-08-28T17:20:17.744012Z",
     "shell.execute_reply.started": "2023-08-28T17:20:17.645898Z"
    }
   },
   "outputs": [
    {
     "data": {
      "text/plain": [
       "183"
      ]
     },
     "execution_count": 36,
     "metadata": {},
     "output_type": "execute_result"
    }
   ],
   "source": [
    "# Количество пустых ячеек\n",
    "df[df['positive_review'] == '']['positive_review'].count()\n"
   ]
  },
  {
   "cell_type": "code",
   "execution_count": 37,
   "metadata": {
    "execution": {
     "iopub.execute_input": "2023-08-28T17:20:17.748163Z",
     "iopub.status.busy": "2023-08-28T17:20:17.747259Z",
     "iopub.status.idle": "2023-08-28T17:20:17.761960Z",
     "shell.execute_reply": "2023-08-28T17:20:17.760211Z",
     "shell.execute_reply.started": "2023-08-28T17:20:17.748092Z"
    }
   },
   "outputs": [],
   "source": [
    "def has_positive_review(arg):\n",
    "    '''Функция определяет, есть ли в отзыве позитив'''\n",
    "    ''' Как реализовать с помощью регулярных выражений? И будет ли код более качественным?'''\n",
    "\n",
    "    list_fullmatch = [' ', 'nan', 'na', '0', 'null', 'none', 'n/a', 'n a']\n",
    "    list_contains = ['no positive', 'nothing']\n",
    "\n",
    "    for i in list_fullmatch:\n",
    "        if i == arg.lower():\n",
    "            return 0\n",
    "    for i in list_contains:\n",
    "        if i in arg.lower():\n",
    "            return 0\n",
    "    return 1"
   ]
  },
  {
   "cell_type": "code",
   "execution_count": 38,
   "metadata": {},
   "outputs": [
    {
     "data": {
      "text/plain": [
       "1    472821\n",
       "0     42610\n",
       "Name: positive_boole, dtype: int64"
      ]
     },
     "execution_count": 38,
     "metadata": {},
     "output_type": "execute_result"
    }
   ],
   "source": [
    "# Формирование нового столбца с информацией о наличии отрицательной словесной обратной связи\n",
    "# и просмотр полученных значений\n",
    "df['positive_boole'] = df['positive_review'].apply(has_positive_review)\n",
    "df['positive_boole'].value_counts()\n"
   ]
  },
  {
   "cell_type": "code",
   "execution_count": 39,
   "metadata": {},
   "outputs": [],
   "source": [
    "# Заменим значение в новых столбцах с количеством слов на 0 с пустыми отзывами\n",
    "mask_pos = df['positive_boole'] == 0\n",
    "mask_neg = df['negative_boole'] == 0\n",
    "df.loc[mask_pos, ['review_total_positive_word_counts_new']] = df.loc[mask_pos,\n",
    "                                                                     ['review_total_positive_word_counts_new']].apply(lambda x: 0, axis=1)\n",
    "df.loc[mask_neg, ['review_total_negative_word_counts_new']] = df.loc[mask_neg,\n",
    "                                                                     ['review_total_negative_word_counts_new']].apply(lambda x: 0, axis=1)\n"
   ]
  },
  {
   "cell_type": "code",
   "execution_count": 40,
   "metadata": {
    "execution": {
     "iopub.execute_input": "2023-08-28T17:20:18.656129Z",
     "iopub.status.busy": "2023-08-28T17:20:18.655761Z",
     "iopub.status.idle": "2023-08-28T17:20:18.868647Z",
     "shell.execute_reply": "2023-08-28T17:20:18.867734Z",
     "shell.execute_reply.started": "2023-08-28T17:20:18.656096Z"
    }
   },
   "outputs": [
    {
     "data": {
      "text/plain": [
       "2984"
      ]
     },
     "execution_count": 40,
     "metadata": {},
     "output_type": "execute_result"
    }
   ],
   "source": [
    "# Количество отзывов, которые не имеют словесной обратной связи\n",
    "df[(df['positive_boole'] == 0) & (df['negative_boole'] == 0)].groupby('hotel_name')['average_score'].count().sum()"
   ]
  },
  {
   "cell_type": "code",
   "execution_count": 41,
   "metadata": {
    "execution": {
     "iopub.execute_input": "2023-08-28T17:20:18.870362Z",
     "iopub.status.busy": "2023-08-28T17:20:18.870087Z",
     "iopub.status.idle": "2023-08-28T17:20:19.073198Z",
     "shell.execute_reply": "2023-08-28T17:20:19.071971Z",
     "shell.execute_reply.started": "2023-08-28T17:20:18.870328Z"
    }
   },
   "outputs": [
    {
     "data": {
      "text/plain": [
       "10.0    973\n",
       "0.0     725\n",
       "9.6     284\n",
       "9.2     133\n",
       "8.8      89\n",
       "7.5      65\n",
       "5.0      65\n",
       "8.3      63\n",
       "3.8      62\n",
       "2.5      60\n",
       "4.2      57\n",
       "3.3      56\n",
       "5.4      50\n",
       "7.9      47\n",
       "4.6      43\n",
       "7.1      43\n",
       "2.9      42\n",
       "6.3      38\n",
       "5.8      37\n",
       "6.7      34\n",
       "9.5       4\n",
       "4.5       3\n",
       "6.0       1\n",
       "3.1       1\n",
       "7.0       1\n",
       "5.5       1\n",
       "9.0       1\n",
       "9.4       1\n",
       "8.5       1\n",
       "6.5       1\n",
       "4.0       1\n",
       "3.0       1\n",
       "6.9       1\n",
       "Name: reviewer_score, dtype: int64"
      ]
     },
     "execution_count": 41,
     "metadata": {},
     "output_type": "execute_result"
    }
   ],
   "source": [
    "# распределение оценок по отзывам не имеющих обратной связи\n",
    "df[(df['positive_boole'] == 0) & (df['negative_boole'] == 0)]['reviewer_score'].value_counts()"
   ]
  },
  {
   "cell_type": "markdown",
   "metadata": {},
   "source": [
    "Вывод: Количество отзывов, которые не имеют словесной обратной связи и низкие оценки общей массе не велико. Заполнить ее, какой либо информацией не представляется возможным.\n",
    "Создадим новый признак: количество слов в положительном отзыве минус количество слов в отрицательном отзыве. Старые признаки количества слов в отзывах удалять не будем, они будут служить маркерами наличия словесной обратной связи\n"
   ]
  },
  {
   "cell_type": "code",
   "execution_count": 42,
   "metadata": {},
   "outputs": [],
   "source": [
    "#  Удаление столбцов с новым количеством слов и столбцов содержащие отзывы\n",
    "df = df.drop(['review_total_negative_word_counts_new', 'review_total_positive_word_counts_new',\n",
    "             'negative_review', 'positive_review'], axis=1)"
   ]
  },
  {
   "cell_type": "code",
   "execution_count": 43,
   "metadata": {
    "execution": {
     "iopub.execute_input": "2023-08-28T17:20:19.075857Z",
     "iopub.status.busy": "2023-08-28T17:20:19.075398Z",
     "iopub.status.idle": "2023-08-28T17:20:19.087164Z",
     "shell.execute_reply": "2023-08-28T17:20:19.085756Z",
     "shell.execute_reply.started": "2023-08-28T17:20:19.075803Z"
    }
   },
   "outputs": [],
   "source": [
    "# Новый признак:\n",
    "df['count_word_positive'] = df['review_total_positive_word_counts'] - df['review_total_negative_word_counts']"
   ]
  },
  {
   "cell_type": "markdown",
   "metadata": {},
   "source": [
    "## 2.4 Столбцы 'additional_number_of_scoring' и 'total_number_of_reviews'\n"
   ]
  },
  {
   "cell_type": "code",
   "execution_count": 44,
   "metadata": {
    "execution": {
     "iopub.execute_input": "2023-08-28T17:20:19.089602Z",
     "iopub.status.busy": "2023-08-28T17:20:19.089172Z",
     "iopub.status.idle": "2023-08-28T17:20:19.223088Z",
     "shell.execute_reply": "2023-08-28T17:20:19.221761Z",
     "shell.execute_reply.started": "2023-08-28T17:20:19.089536Z"
    }
   },
   "outputs": [
    {
     "data": {
      "text/plain": [
       "hotel_name                          total_number_of_reviews  additional_number_of_scoring\n",
       "11 Cadogan Gardens                  393                      101                              159\n",
       "1K Hotel                            663                      69                               148\n",
       "25hours Hotel beim MuseumsQuartier  4324                     391                              689\n",
       "41                                  244                      66                               103\n",
       "45 Park Lane Dorchester Collection  68                       27                                28\n",
       "                                                                                             ... \n",
       "citizenM London Bankside            3802                     804                             1517\n",
       "citizenM London Shoreditch          2113                     500                              838\n",
       "citizenM Tower of London            4672                     832                             1683\n",
       "every hotel Piccadilly              1685                     326                              568\n",
       "pentahotel Vienna                   805                      63                               129\n",
       "Name: average_score, Length: 1494, dtype: int64"
      ]
     },
     "execution_count": 44,
     "metadata": {},
     "output_type": "execute_result"
    }
   ],
   "source": [
    "# Посмотрим на столбцы в связке с названием отеля\n",
    "df.groupby(['hotel_name', 'total_number_of_reviews', 'additional_number_of_scoring'])['average_score'].count()"
   ]
  },
  {
   "cell_type": "markdown",
   "metadata": {},
   "source": [
    "Вывод: количество отзывов и количество оценок без проверки - статичные параметры и уникальны для каждого отеля. \\*\\*\n"
   ]
  },
  {
   "cell_type": "markdown",
   "metadata": {},
   "source": [
    "## 2.5 Столбец days_since_review\n"
   ]
  },
  {
   "cell_type": "code",
   "execution_count": 45,
   "metadata": {
    "execution": {
     "iopub.execute_input": "2023-08-28T17:20:19.225341Z",
     "iopub.status.busy": "2023-08-28T17:20:19.224957Z",
     "iopub.status.idle": "2023-08-28T17:20:19.803350Z",
     "shell.execute_reply": "2023-08-28T17:20:19.802202Z",
     "shell.execute_reply.started": "2023-08-28T17:20:19.225298Z"
    }
   },
   "outputs": [],
   "source": [
    "# Перевод в числовой формат\n",
    "df['days_since_review'] = df['days_since_review'].apply(lambda x: int(x[:-4]))\n"
   ]
  },
  {
   "cell_type": "code",
   "execution_count": 46,
   "metadata": {
    "execution": {
     "iopub.execute_input": "2023-08-28T17:20:19.805486Z",
     "iopub.status.busy": "2023-08-28T17:20:19.805162Z",
     "iopub.status.idle": "2023-08-28T17:20:19.899047Z",
     "shell.execute_reply": "2023-08-28T17:20:19.897798Z",
     "shell.execute_reply.started": "2023-08-28T17:20:19.805447Z"
    }
   },
   "outputs": [
    {
     "data": {
      "text/html": [
       "<div>\n",
       "<style scoped>\n",
       "    .dataframe tbody tr th:only-of-type {\n",
       "        vertical-align: middle;\n",
       "    }\n",
       "\n",
       "    .dataframe tbody tr th {\n",
       "        vertical-align: top;\n",
       "    }\n",
       "\n",
       "    .dataframe thead th {\n",
       "        text-align: right;\n",
       "    }\n",
       "</style>\n",
       "<table border=\"1\" class=\"dataframe\">\n",
       "  <thead>\n",
       "    <tr style=\"text-align: right;\">\n",
       "      <th></th>\n",
       "      <th>days_since_review</th>\n",
       "      <th>review_date</th>\n",
       "    </tr>\n",
       "  </thead>\n",
       "  <tbody>\n",
       "    <tr>\n",
       "      <th>0</th>\n",
       "      <td>13</td>\n",
       "      <td>2017-07-21</td>\n",
       "    </tr>\n",
       "    <tr>\n",
       "      <th>1</th>\n",
       "      <td>234</td>\n",
       "      <td>2016-12-12</td>\n",
       "    </tr>\n",
       "    <tr>\n",
       "      <th>2</th>\n",
       "      <td>616</td>\n",
       "      <td>2015-11-26</td>\n",
       "    </tr>\n",
       "    <tr>\n",
       "      <th>3</th>\n",
       "      <td>656</td>\n",
       "      <td>2015-10-17</td>\n",
       "    </tr>\n",
       "    <tr>\n",
       "      <th>4</th>\n",
       "      <td>444</td>\n",
       "      <td>2016-05-16</td>\n",
       "    </tr>\n",
       "    <tr>\n",
       "      <th>...</th>\n",
       "      <td>...</td>\n",
       "      <td>...</td>\n",
       "    </tr>\n",
       "    <tr>\n",
       "      <th>515426</th>\n",
       "      <td>106</td>\n",
       "      <td>2017-04-19</td>\n",
       "    </tr>\n",
       "    <tr>\n",
       "      <th>515427</th>\n",
       "      <td>171</td>\n",
       "      <td>2017-02-13</td>\n",
       "    </tr>\n",
       "    <tr>\n",
       "      <th>515428</th>\n",
       "      <td>543</td>\n",
       "      <td>2016-02-07</td>\n",
       "    </tr>\n",
       "    <tr>\n",
       "      <th>515429</th>\n",
       "      <td>74</td>\n",
       "      <td>2017-05-21</td>\n",
       "    </tr>\n",
       "    <tr>\n",
       "      <th>515430</th>\n",
       "      <td>363</td>\n",
       "      <td>2016-08-05</td>\n",
       "    </tr>\n",
       "  </tbody>\n",
       "</table>\n",
       "<p>515431 rows × 2 columns</p>\n",
       "</div>"
      ],
      "text/plain": [
       "        days_since_review review_date\n",
       "0                      13  2017-07-21\n",
       "1                     234  2016-12-12\n",
       "2                     616  2015-11-26\n",
       "3                     656  2015-10-17\n",
       "4                     444  2016-05-16\n",
       "...                   ...         ...\n",
       "515426                106  2017-04-19\n",
       "515427                171  2017-02-13\n",
       "515428                543  2016-02-07\n",
       "515429                 74  2017-05-21\n",
       "515430                363  2016-08-05\n",
       "\n",
       "[515431 rows x 2 columns]"
      ]
     },
     "execution_count": 46,
     "metadata": {},
     "output_type": "execute_result"
    }
   ],
   "source": [
    "df[['days_since_review', 'review_date']]"
   ]
  },
  {
   "cell_type": "code",
   "execution_count": 47,
   "metadata": {
    "execution": {
     "iopub.execute_input": "2023-08-28T17:20:19.901007Z",
     "iopub.status.busy": "2023-08-28T17:20:19.900668Z",
     "iopub.status.idle": "2023-08-28T17:20:19.923209Z",
     "shell.execute_reply": "2023-08-28T17:20:19.921945Z",
     "shell.execute_reply.started": "2023-08-28T17:20:19.900969Z"
    }
   },
   "outputs": [
    {
     "data": {
      "text/plain": [
       "0         13 days\n",
       "1        234 days\n",
       "2        616 days\n",
       "3        656 days\n",
       "4        444 days\n",
       "           ...   \n",
       "515426   106 days\n",
       "515427   171 days\n",
       "515428   543 days\n",
       "515429    74 days\n",
       "515430   363 days\n",
       "Name: review_date, Length: 515431, dtype: timedelta64[ns]"
      ]
     },
     "execution_count": 47,
     "metadata": {},
     "output_type": "execute_result"
    }
   ],
   "source": [
    "max_data = df['review_date'].max()\n",
    "max_data - df['review_date']\n"
   ]
  },
  {
   "cell_type": "markdown",
   "metadata": {},
   "source": [
    "**Вывод: Столбец содержит информацию о днях вычесленных по формуле: max_data - df['review_date']**\n"
   ]
  },
  {
   "cell_type": "markdown",
   "metadata": {},
   "source": [
    "## 2.6 Изучение целевой переменной reviewer_score\n"
   ]
  },
  {
   "cell_type": "code",
   "execution_count": 48,
   "metadata": {
    "execution": {
     "iopub.execute_input": "2023-08-28T17:20:19.925180Z",
     "iopub.status.busy": "2023-08-28T17:20:19.924864Z",
     "iopub.status.idle": "2023-08-28T17:20:19.946547Z",
     "shell.execute_reply": "2023-08-28T17:20:19.945474Z",
     "shell.execute_reply.started": "2023-08-28T17:20:19.925140Z"
    }
   },
   "outputs": [
    {
     "data": {
      "text/plain": [
       "0.0     128935\n",
       "2.5       1628\n",
       "2.9       1207\n",
       "3.0         25\n",
       "3.1          6\n",
       "3.3       2058\n",
       "3.5         61\n",
       "3.8       3012\n",
       "4.0         66\n",
       "4.2       3822\n",
       "4.4          9\n",
       "4.5         97\n",
       "4.6       4651\n",
       "5.0       6268\n",
       "5.4       7079\n",
       "5.5        161\n",
       "5.6         13\n",
       "5.8       8953\n",
       "6.0        184\n",
       "6.3      11238\n",
       "6.5        274\n",
       "6.7      14098\n",
       "6.9         23\n",
       "7.0        292\n",
       "7.1      18518\n",
       "7.5      26136\n",
       "7.9      24881\n",
       "8.0        388\n",
       "8.1         28\n",
       "8.3      30881\n",
       "8.5        379\n",
       "8.8      34767\n",
       "9.0        483\n",
       "9.2      44020\n",
       "9.4         47\n",
       "9.5        523\n",
       "9.6      53471\n",
       "10.0     86749\n",
       "Name: reviewer_score, dtype: int64"
      ]
     },
     "execution_count": 48,
     "metadata": {},
     "output_type": "execute_result"
    }
   ],
   "source": [
    "df['reviewer_score'].value_counts().sort_index()\n"
   ]
  },
  {
   "cell_type": "markdown",
   "metadata": {},
   "source": [
    "**Вывод: итоговый прогноз необходимо округлить**\n"
   ]
  },
  {
   "cell_type": "markdown",
   "metadata": {},
   "source": [
    "# 3 Преобразование признаков и создание новых\n"
   ]
  },
  {
   "cell_type": "code",
   "execution_count": 49,
   "metadata": {
    "execution": {
     "iopub.execute_input": "2023-08-28T17:20:19.948480Z",
     "iopub.status.busy": "2023-08-28T17:20:19.948169Z",
     "iopub.status.idle": "2023-08-28T17:20:19.958832Z",
     "shell.execute_reply": "2023-08-28T17:20:19.957387Z",
     "shell.execute_reply.started": "2023-08-28T17:20:19.948442Z"
    }
   },
   "outputs": [],
   "source": [
    "# Новый призкнак total_number_of_scoring\n",
    "df['total_number_of_scoring'] = df['total_number_of_reviews'] - \\\n",
    "    df['additional_number_of_scoring']"
   ]
  },
  {
   "cell_type": "code",
   "execution_count": 50,
   "metadata": {
    "execution": {
     "iopub.execute_input": "2023-08-28T17:20:19.961837Z",
     "iopub.status.busy": "2023-08-28T17:20:19.960499Z",
     "iopub.status.idle": "2023-08-28T17:20:20.894911Z",
     "shell.execute_reply": "2023-08-28T17:20:20.893814Z",
     "shell.execute_reply.started": "2023-08-28T17:20:19.961769Z"
    }
   },
   "outputs": [],
   "source": [
    "# Кодирование имени отеля\n",
    "# указываем столбец для кодирования\n",
    "bin_encoder = ce.BinaryEncoder(cols=['hotel_name'])\n",
    "type_bin = bin_encoder.fit_transform(df['hotel_name'])\n",
    "df = pd.concat([df, type_bin], axis=1)\n",
    "df = df.drop(['hotel_name'], axis=1)  # удаление исходного столбца"
   ]
  },
  {
   "cell_type": "markdown",
   "metadata": {},
   "source": [
    "### 3.1 Кодирование даты. Выделим месяц отзыва, день недели\n"
   ]
  },
  {
   "cell_type": "code",
   "execution_count": 51,
   "metadata": {
    "execution": {
     "iopub.execute_input": "2023-08-28T17:20:20.897378Z",
     "iopub.status.busy": "2023-08-28T17:20:20.896990Z",
     "iopub.status.idle": "2023-08-28T17:20:21.261173Z",
     "shell.execute_reply": "2023-08-28T17:20:21.260164Z",
     "shell.execute_reply.started": "2023-08-28T17:20:20.897325Z"
    }
   },
   "outputs": [],
   "source": [
    "# Формирование новых признака - день недели отзыва\n",
    "review_date_week = pd.DataFrame(df['review_date'].dt.day_of_week)\n",
    "# указываем столбец для кодирования\n",
    "encoder = ce.OneHotEncoder(cols=['review_date'], use_cat_names=True)\n",
    "type_bin = encoder.fit_transform(review_date_week['review_date'])\n",
    "df = pd.concat([df, type_bin], axis=1)"
   ]
  },
  {
   "cell_type": "code",
   "execution_count": 52,
   "metadata": {
    "execution": {
     "iopub.execute_input": "2023-08-28T17:20:21.262731Z",
     "iopub.status.busy": "2023-08-28T17:20:21.262464Z",
     "iopub.status.idle": "2023-08-28T17:20:21.832093Z",
     "shell.execute_reply": "2023-08-28T17:20:21.830778Z",
     "shell.execute_reply.started": "2023-08-28T17:20:21.262699Z"
    }
   },
   "outputs": [],
   "source": [
    "# Формирование новых признака - месяц отзыва\n",
    "review_date_month = pd.DataFrame(df['review_date'].dt.month)\n",
    "review_date_month.columns = ['review_date_month']\n",
    "# указываем столбец для кодирования\n",
    "encoder = ce.OneHotEncoder(cols=['review_date_month'], use_cat_names=True)\n",
    "type_bin = encoder.fit_transform(review_date_month['review_date_month'])\n",
    "df = pd.concat([df, type_bin], axis=1)"
   ]
  },
  {
   "cell_type": "code",
   "execution_count": 53,
   "metadata": {
    "execution": {
     "iopub.execute_input": "2023-08-28T17:20:21.834549Z",
     "iopub.status.busy": "2023-08-28T17:20:21.834272Z",
     "iopub.status.idle": "2023-08-28T17:20:22.210842Z",
     "shell.execute_reply": "2023-08-28T17:20:22.209400Z",
     "shell.execute_reply.started": "2023-08-28T17:20:21.834518Z"
    }
   },
   "outputs": [],
   "source": [
    "df = df.drop(['review_date'], axis=1)"
   ]
  },
  {
   "cell_type": "markdown",
   "metadata": {},
   "source": [
    "### 3.2 Исследование стран рецензентов\n"
   ]
  },
  {
   "cell_type": "code",
   "execution_count": 54,
   "metadata": {
    "execution": {
     "iopub.execute_input": "2023-08-28T17:20:22.212704Z",
     "iopub.status.busy": "2023-08-28T17:20:22.212435Z",
     "iopub.status.idle": "2023-08-28T17:20:22.311892Z",
     "shell.execute_reply": "2023-08-28T17:20:22.310615Z",
     "shell.execute_reply.started": "2023-08-28T17:20:22.212649Z"
    }
   },
   "outputs": [
    {
     "data": {
      "text/plain": [
       " United Kingdom               245165\n",
       " United States of America      35390\n",
       " Australia                     21663\n",
       " Ireland                       14820\n",
       " United Arab Emirates          10230\n",
       "                               ...  \n",
       " Comoros                           1\n",
       " Anguilla                          1\n",
       " Tuvalu                            1\n",
       " Cape Verde                        1\n",
       " Palau                             1\n",
       "Name: reviewer_nationality, Length: 227, dtype: int64"
      ]
     },
     "execution_count": 54,
     "metadata": {},
     "output_type": "execute_result"
    }
   ],
   "source": [
    "df['reviewer_nationality'].value_counts()\n"
   ]
  },
  {
   "cell_type": "code",
   "execution_count": 55,
   "metadata": {
    "execution": {
     "iopub.execute_input": "2023-08-28T17:20:22.313677Z",
     "iopub.status.busy": "2023-08-28T17:20:22.313419Z",
     "iopub.status.idle": "2023-08-28T17:20:22.413589Z",
     "shell.execute_reply": "2023-08-28T17:20:22.412375Z",
     "shell.execute_reply.started": "2023-08-28T17:20:22.313646Z"
    }
   },
   "outputs": [
    {
     "data": {
      "text/plain": [
       "523"
      ]
     },
     "execution_count": 55,
     "metadata": {},
     "output_type": "execute_result"
    }
   ],
   "source": [
    "# Количество пустых значений\n",
    "df[df['reviewer_nationality'] == ' '].shape[0]"
   ]
  },
  {
   "cell_type": "code",
   "execution_count": 56,
   "metadata": {
    "execution": {
     "iopub.execute_input": "2023-08-28T17:20:22.415066Z",
     "iopub.status.busy": "2023-08-28T17:20:22.414835Z",
     "iopub.status.idle": "2023-08-28T17:20:22.677268Z",
     "shell.execute_reply": "2023-08-28T17:20:22.676086Z",
     "shell.execute_reply.started": "2023-08-28T17:20:22.415036Z"
    }
   },
   "outputs": [],
   "source": [
    "# Удаляем лишние пробелы и заполняем пропуски самой популярной страной\n",
    "df['reviewer_nationality'] = df['reviewer_nationality'].apply(\n",
    "    lambda x: 'United Kingdom' if x == ' ' else x[1:-1])"
   ]
  },
  {
   "cell_type": "code",
   "execution_count": 57,
   "metadata": {
    "execution": {
     "iopub.execute_input": "2023-08-28T17:20:22.679265Z",
     "iopub.status.busy": "2023-08-28T17:20:22.678914Z",
     "iopub.status.idle": "2023-08-28T17:20:22.754185Z",
     "shell.execute_reply": "2023-08-28T17:20:22.753181Z",
     "shell.execute_reply.started": "2023-08-28T17:20:22.679219Z"
    }
   },
   "outputs": [
    {
     "data": {
      "text/html": [
       "<div>\n",
       "<style scoped>\n",
       "    .dataframe tbody tr th:only-of-type {\n",
       "        vertical-align: middle;\n",
       "    }\n",
       "\n",
       "    .dataframe tbody tr th {\n",
       "        vertical-align: top;\n",
       "    }\n",
       "\n",
       "    .dataframe thead th {\n",
       "        text-align: right;\n",
       "    }\n",
       "</style>\n",
       "<table border=\"1\" class=\"dataframe\">\n",
       "  <thead>\n",
       "    <tr style=\"text-align: right;\">\n",
       "      <th></th>\n",
       "      <th>Countries</th>\n",
       "    </tr>\n",
       "  </thead>\n",
       "  <tbody>\n",
       "    <tr>\n",
       "      <th>0</th>\n",
       "      <td>United Kingdom</td>\n",
       "    </tr>\n",
       "    <tr>\n",
       "      <th>1</th>\n",
       "      <td>Belgium</td>\n",
       "    </tr>\n",
       "    <tr>\n",
       "      <th>2</th>\n",
       "      <td>Sweden</td>\n",
       "    </tr>\n",
       "    <tr>\n",
       "      <th>3</th>\n",
       "      <td>United States of America</td>\n",
       "    </tr>\n",
       "    <tr>\n",
       "      <th>4</th>\n",
       "      <td>Ecuador</td>\n",
       "    </tr>\n",
       "    <tr>\n",
       "      <th>...</th>\n",
       "      <td>...</td>\n",
       "    </tr>\n",
       "    <tr>\n",
       "      <th>221</th>\n",
       "      <td>East Timor</td>\n",
       "    </tr>\n",
       "    <tr>\n",
       "      <th>222</th>\n",
       "      <td>Svalbard Jan Mayen</td>\n",
       "    </tr>\n",
       "    <tr>\n",
       "      <th>223</th>\n",
       "      <td>Northern Mariana Islands</td>\n",
       "    </tr>\n",
       "    <tr>\n",
       "      <th>224</th>\n",
       "      <td>Central Africa Republic</td>\n",
       "    </tr>\n",
       "    <tr>\n",
       "      <th>225</th>\n",
       "      <td>Palau</td>\n",
       "    </tr>\n",
       "  </tbody>\n",
       "</table>\n",
       "<p>226 rows × 1 columns</p>\n",
       "</div>"
      ],
      "text/plain": [
       "                    Countries\n",
       "0              United Kingdom\n",
       "1                     Belgium\n",
       "2                      Sweden\n",
       "3    United States of America\n",
       "4                     Ecuador\n",
       "..                        ...\n",
       "221                East Timor\n",
       "222        Svalbard Jan Mayen\n",
       "223  Northern Mariana Islands\n",
       "224   Central Africa Republic\n",
       "225                     Palau\n",
       "\n",
       "[226 rows x 1 columns]"
      ]
     },
     "execution_count": 57,
     "metadata": {},
     "output_type": "execute_result"
    }
   ],
   "source": [
    "# Список уникальных стран рецензентов\n",
    "s1 = pd.DataFrame(df['reviewer_nationality'].unique())\n",
    "s1.columns = ['Countries']\n",
    "s1\n"
   ]
  },
  {
   "cell_type": "code",
   "execution_count": 58,
   "metadata": {
    "execution": {
     "iopub.execute_input": "2023-08-28T17:20:22.756516Z",
     "iopub.status.busy": "2023-08-28T17:20:22.756181Z",
     "iopub.status.idle": "2023-08-28T17:20:24.628031Z",
     "shell.execute_reply": "2023-08-28T17:20:24.626952Z",
     "shell.execute_reply.started": "2023-08-28T17:20:22.756478Z"
    }
   },
   "outputs": [],
   "source": [
    "# Таблица со стороннего ресурса стран с координатами\n",
    "url = 'https://alextyurin.ru/2016/04/страны-столицы-координаты/'\n",
    "response = requests.get(url)\n",
    "tables = pd.read_html(response.text)\n",
    "df_capital = tables[0][['Capital', 'Countries', 'LAT', 'LONG']]"
   ]
  },
  {
   "cell_type": "code",
   "execution_count": 59,
   "metadata": {
    "execution": {
     "iopub.execute_input": "2023-08-28T17:20:24.629775Z",
     "iopub.status.busy": "2023-08-28T17:20:24.629479Z",
     "iopub.status.idle": "2023-08-28T17:20:24.644355Z",
     "shell.execute_reply": "2023-08-28T17:20:24.643281Z",
     "shell.execute_reply.started": "2023-08-28T17:20:24.629740Z"
    }
   },
   "outputs": [
    {
     "data": {
      "text/html": [
       "<div>\n",
       "<style scoped>\n",
       "    .dataframe tbody tr th:only-of-type {\n",
       "        vertical-align: middle;\n",
       "    }\n",
       "\n",
       "    .dataframe tbody tr th {\n",
       "        vertical-align: top;\n",
       "    }\n",
       "\n",
       "    .dataframe thead th {\n",
       "        text-align: right;\n",
       "    }\n",
       "</style>\n",
       "<table border=\"1\" class=\"dataframe\">\n",
       "  <thead>\n",
       "    <tr style=\"text-align: right;\">\n",
       "      <th></th>\n",
       "      <th>Countries</th>\n",
       "    </tr>\n",
       "  </thead>\n",
       "  <tbody>\n",
       "    <tr>\n",
       "      <th>0</th>\n",
       "      <td>Afghanistan</td>\n",
       "    </tr>\n",
       "    <tr>\n",
       "      <th>1</th>\n",
       "      <td>Albania</td>\n",
       "    </tr>\n",
       "    <tr>\n",
       "      <th>2</th>\n",
       "      <td>Algeria</td>\n",
       "    </tr>\n",
       "    <tr>\n",
       "      <th>3</th>\n",
       "      <td>American Samoa</td>\n",
       "    </tr>\n",
       "    <tr>\n",
       "      <th>4</th>\n",
       "      <td>Andorra</td>\n",
       "    </tr>\n",
       "    <tr>\n",
       "      <th>...</th>\n",
       "      <td>...</td>\n",
       "    </tr>\n",
       "    <tr>\n",
       "      <th>232</th>\n",
       "      <td>Wallis and Futuna Islands</td>\n",
       "    </tr>\n",
       "    <tr>\n",
       "      <th>233</th>\n",
       "      <td>Western Sahara</td>\n",
       "    </tr>\n",
       "    <tr>\n",
       "      <th>234</th>\n",
       "      <td>Yemen</td>\n",
       "    </tr>\n",
       "    <tr>\n",
       "      <th>235</th>\n",
       "      <td>Zambia</td>\n",
       "    </tr>\n",
       "    <tr>\n",
       "      <th>236</th>\n",
       "      <td>Zimbabwe</td>\n",
       "    </tr>\n",
       "  </tbody>\n",
       "</table>\n",
       "<p>237 rows × 1 columns</p>\n",
       "</div>"
      ],
      "text/plain": [
       "                     Countries\n",
       "0                  Afghanistan\n",
       "1                      Albania\n",
       "2                      Algeria\n",
       "3               American Samoa\n",
       "4                      Andorra\n",
       "..                         ...\n",
       "232  Wallis and Futuna Islands\n",
       "233             Western Sahara\n",
       "234                      Yemen\n",
       "235                     Zambia\n",
       "236                   Zimbabwe\n",
       "\n",
       "[237 rows x 1 columns]"
      ]
     },
     "execution_count": 59,
     "metadata": {},
     "output_type": "execute_result"
    }
   ],
   "source": [
    "# Список уникальных стран с ресурса\n",
    "s2 = df_capital[['Countries']]\n",
    "s2\n"
   ]
  },
  {
   "cell_type": "code",
   "execution_count": 60,
   "metadata": {
    "execution": {
     "iopub.execute_input": "2023-08-28T17:20:24.646251Z",
     "iopub.status.busy": "2023-08-28T17:20:24.645872Z",
     "iopub.status.idle": "2023-08-28T17:20:24.655599Z",
     "shell.execute_reply": "2023-08-28T17:20:24.654256Z",
     "shell.execute_reply.started": "2023-08-28T17:20:24.646202Z"
    }
   },
   "outputs": [],
   "source": [
    "# set(s2['Countries'].unique()) - set(s1_s2[s1_s2['Capital'].isnull()==False]['Countries'].unique())"
   ]
  },
  {
   "cell_type": "code",
   "execution_count": 61,
   "metadata": {
    "execution": {
     "iopub.execute_input": "2023-08-28T17:20:24.659397Z",
     "iopub.status.busy": "2023-08-28T17:20:24.659034Z",
     "iopub.status.idle": "2023-08-28T17:20:24.671581Z",
     "shell.execute_reply": "2023-08-28T17:20:24.670322Z",
     "shell.execute_reply.started": "2023-08-28T17:20:24.659358Z"
    }
   },
   "outputs": [],
   "source": [
    "# Словарь для не совпадающих стран\n",
    "dict_cap = {'Abkhazia Georgia': 'Georgia',\n",
    "            'Antigua Barbuda': 'Antigua and Barbuda',\n",
    "            'Bonaire St Eustatius and Saba': 'Netherlands',\n",
    "            'British Virgin Islands': 'United Kingdom',\n",
    "            'Brunei': 'Brunei Darussalam',\n",
    "            'Central Africa Republic': 'Central African Republic',\n",
    "            'Cocos K I': 'Cocos (Keeling) Islands',\n",
    "            'Crimea': 'Russian Federation',\n",
    "            'Cura ao': 'France',\n",
    "            'East Timor': 'Timor-Leste (East Timor)',\n",
    "            'Falkland Islands Malvinas': 'Falkland Islands',\n",
    "            'Guernsey': 'United Kingdom',\n",
    "            'Isle of Man': 'United Kingdom',\n",
    "            'Jersey': 'United Kingdom',\n",
    "            'Laos': \"Lao, People's Democratic Republic\",\n",
    "            'Macau': 'Macao',\n",
    "            'Macedonia': 'Macedonia, Rep. of',\n",
    "            'Moldova': 'Moldova, Republic of',\n",
    "            'Myanmar': 'Myanmar, Burma',\n",
    "            'Palestinian Territory': 'Palestinian territories',\n",
    "            'Reunion': 'Reunion Island',\n",
    "            'Russia': 'Russian Federation',\n",
    "            'Saint Barts': 'France',\n",
    "            'Saint Martin': 'Netherlands',\n",
    "            'Saint Vincent Grenadines': 'Saint Vincent and the Grenadines',\n",
    "            'Slovakia': 'Slovakia (Slovak Republic)',\n",
    "            'St Maarten': 'Netherlands',\n",
    "            'St Pierre and Miquelon': 'France',\n",
    "            'Svalbard Jan Mayen': 'Norway',\n",
    "            'Syria': 'Syria, Syrian Arab Republic',\n",
    "            'Taiwan': 'Taiwan (Republic of China)',\n",
    "            'Turks Caicos Islands': 'Turks and Caicos Islands',\n",
    "            'U S Virgin Islands': 'United States',\n",
    "            'United States Minor Outlying Islands': 'United States',\n",
    "            'United States of America': 'United States',\n",
    "            'Wallis and Futuna': 'France',\n",
    "            'Vatican City': 'Vatican City State (Holy See)'\n",
    "            }"
   ]
  },
  {
   "cell_type": "code",
   "execution_count": 62,
   "metadata": {
    "execution": {
     "iopub.execute_input": "2023-08-28T17:20:24.673558Z",
     "iopub.status.busy": "2023-08-28T17:20:24.673203Z",
     "iopub.status.idle": "2023-08-28T17:20:26.033831Z",
     "shell.execute_reply": "2023-08-28T17:20:26.032491Z",
     "shell.execute_reply.started": "2023-08-28T17:20:24.673507Z"
    }
   },
   "outputs": [],
   "source": [
    "# замена имен несовпадающих стран с данными со стороннего ресурса\n",
    "s1 = s1.replace(dict_cap)\n",
    "df['reviewer_nationality'] = df['reviewer_nationality'].replace(dict_cap)\n"
   ]
  },
  {
   "cell_type": "code",
   "execution_count": 63,
   "metadata": {
    "execution": {
     "iopub.execute_input": "2023-08-28T17:20:26.036110Z",
     "iopub.status.busy": "2023-08-28T17:20:26.035834Z",
     "iopub.status.idle": "2023-08-28T17:20:26.044148Z",
     "shell.execute_reply": "2023-08-28T17:20:26.042782Z",
     "shell.execute_reply.started": "2023-08-28T17:20:26.036078Z"
    }
   },
   "outputs": [],
   "source": [
    "# Удаление дубликатов после применения словаря\n",
    "s1 = s1.drop_duplicates()\n"
   ]
  },
  {
   "cell_type": "code",
   "execution_count": 64,
   "metadata": {
    "execution": {
     "iopub.execute_input": "2023-08-28T17:20:26.046447Z",
     "iopub.status.busy": "2023-08-28T17:20:26.046108Z",
     "iopub.status.idle": "2023-08-28T17:20:26.061972Z",
     "shell.execute_reply": "2023-08-28T17:20:26.060963Z",
     "shell.execute_reply.started": "2023-08-28T17:20:26.046399Z"
    }
   },
   "outputs": [],
   "source": [
    "# Объедение таблиц\n",
    "s1_s2 = s1.merge(df_capital, how='left')\n"
   ]
  },
  {
   "cell_type": "code",
   "execution_count": 65,
   "metadata": {
    "execution": {
     "iopub.execute_input": "2023-08-28T17:20:26.063508Z",
     "iopub.status.busy": "2023-08-28T17:20:26.063247Z",
     "iopub.status.idle": "2023-08-28T17:20:26.077409Z",
     "shell.execute_reply": "2023-08-28T17:20:26.075908Z",
     "shell.execute_reply.started": "2023-08-28T17:20:26.063477Z"
    }
   },
   "outputs": [],
   "source": [
    "# s1_s2[s1_s2['Capital'].isnull() == True]"
   ]
  },
  {
   "cell_type": "code",
   "execution_count": 66,
   "metadata": {
    "execution": {
     "iopub.execute_input": "2023-08-28T17:20:26.079651Z",
     "iopub.status.busy": "2023-08-28T17:20:26.079311Z",
     "iopub.status.idle": "2023-08-28T17:20:27.321245Z",
     "shell.execute_reply": "2023-08-28T17:20:27.320072Z",
     "shell.execute_reply.started": "2023-08-28T17:20:26.079603Z"
    }
   },
   "outputs": [],
   "source": [
    "df = df.merge(right=s1_s2, how='left',\n",
    "              left_on='reviewer_nationality', right_on='Countries')"
   ]
  },
  {
   "cell_type": "code",
   "execution_count": 67,
   "metadata": {
    "execution": {
     "iopub.execute_input": "2023-08-28T17:20:27.323030Z",
     "iopub.status.busy": "2023-08-28T17:20:27.322767Z",
     "iopub.status.idle": "2023-08-28T17:20:27.922307Z",
     "shell.execute_reply": "2023-08-28T17:20:27.920987Z",
     "shell.execute_reply.started": "2023-08-28T17:20:27.323000Z"
    }
   },
   "outputs": [],
   "source": [
    "# Кодирование название страны рецензента\n",
    "# указываем столбец для кодирования\n",
    "bin_encoder = ce.BinaryEncoder(cols=['reviewer_nationality'])\n",
    "type_bin = bin_encoder.fit_transform(df['reviewer_nationality'])\n",
    "df = pd.concat([df, type_bin], axis=1)"
   ]
  },
  {
   "cell_type": "code",
   "execution_count": 68,
   "metadata": {},
   "outputs": [],
   "source": [
    "df = df.drop(['reviewer_nationality'], axis=1)  # удаление исходного столбца"
   ]
  },
  {
   "cell_type": "markdown",
   "metadata": {},
   "source": [
    "### 3.3 Столбец адрес отеля и координаты отеля\n"
   ]
  },
  {
   "cell_type": "code",
   "execution_count": 69,
   "metadata": {
    "execution": {
     "iopub.execute_input": "2023-08-28T17:20:27.923891Z",
     "iopub.status.busy": "2023-08-28T17:20:27.923609Z",
     "iopub.status.idle": "2023-08-28T17:20:31.065854Z",
     "shell.execute_reply": "2023-08-28T17:20:31.064753Z",
     "shell.execute_reply.started": "2023-08-28T17:20:27.923856Z"
    }
   },
   "outputs": [
    {
     "data": {
      "text/html": [
       "<div>\n",
       "<style scoped>\n",
       "    .dataframe tbody tr th:only-of-type {\n",
       "        vertical-align: middle;\n",
       "    }\n",
       "\n",
       "    .dataframe tbody tr th {\n",
       "        vertical-align: top;\n",
       "    }\n",
       "\n",
       "    .dataframe thead th {\n",
       "        text-align: right;\n",
       "    }\n",
       "</style>\n",
       "<table border=\"1\" class=\"dataframe\">\n",
       "  <thead>\n",
       "    <tr style=\"text-align: right;\">\n",
       "      <th></th>\n",
       "      <th>0</th>\n",
       "      <th>1</th>\n",
       "      <th>2</th>\n",
       "      <th>3</th>\n",
       "      <th>4</th>\n",
       "      <th>5</th>\n",
       "      <th>6</th>\n",
       "      <th>7</th>\n",
       "      <th>8</th>\n",
       "      <th>9</th>\n",
       "      <th>10</th>\n",
       "      <th>11</th>\n",
       "      <th>12</th>\n",
       "      <th>13</th>\n",
       "      <th>14</th>\n",
       "      <th>15</th>\n",
       "    </tr>\n",
       "  </thead>\n",
       "  <tbody>\n",
       "    <tr>\n",
       "      <th>0</th>\n",
       "      <td>Via</td>\n",
       "      <td>Senigallia</td>\n",
       "      <td>6</td>\n",
       "      <td>20161</td>\n",
       "      <td>Milan</td>\n",
       "      <td>Italy</td>\n",
       "      <td>None</td>\n",
       "      <td>None</td>\n",
       "      <td>None</td>\n",
       "      <td>None</td>\n",
       "      <td>None</td>\n",
       "      <td>None</td>\n",
       "      <td>None</td>\n",
       "      <td>None</td>\n",
       "      <td>None</td>\n",
       "      <td>None</td>\n",
       "    </tr>\n",
       "    <tr>\n",
       "      <th>1</th>\n",
       "      <td>Arlandaweg</td>\n",
       "      <td>10</td>\n",
       "      <td>Westpoort</td>\n",
       "      <td>1043</td>\n",
       "      <td>EW</td>\n",
       "      <td>Amsterdam</td>\n",
       "      <td>Netherlands</td>\n",
       "      <td>None</td>\n",
       "      <td>None</td>\n",
       "      <td>None</td>\n",
       "      <td>None</td>\n",
       "      <td>None</td>\n",
       "      <td>None</td>\n",
       "      <td>None</td>\n",
       "      <td>None</td>\n",
       "      <td>None</td>\n",
       "    </tr>\n",
       "    <tr>\n",
       "      <th>2</th>\n",
       "      <td>Mallorca</td>\n",
       "      <td>251</td>\n",
       "      <td>Eixample</td>\n",
       "      <td>08008</td>\n",
       "      <td>Barcelona</td>\n",
       "      <td>Spain</td>\n",
       "      <td>None</td>\n",
       "      <td>None</td>\n",
       "      <td>None</td>\n",
       "      <td>None</td>\n",
       "      <td>None</td>\n",
       "      <td>None</td>\n",
       "      <td>None</td>\n",
       "      <td>None</td>\n",
       "      <td>None</td>\n",
       "      <td>None</td>\n",
       "    </tr>\n",
       "    <tr>\n",
       "      <th>3</th>\n",
       "      <td>Piazza</td>\n",
       "      <td>Della</td>\n",
       "      <td>Repubblica</td>\n",
       "      <td>17</td>\n",
       "      <td>Central</td>\n",
       "      <td>Station</td>\n",
       "      <td>20124</td>\n",
       "      <td>Milan</td>\n",
       "      <td>Italy</td>\n",
       "      <td>None</td>\n",
       "      <td>None</td>\n",
       "      <td>None</td>\n",
       "      <td>None</td>\n",
       "      <td>None</td>\n",
       "      <td>None</td>\n",
       "      <td>None</td>\n",
       "    </tr>\n",
       "    <tr>\n",
       "      <th>4</th>\n",
       "      <td>Singel</td>\n",
       "      <td>303</td>\n",
       "      <td>309</td>\n",
       "      <td>Amsterdam</td>\n",
       "      <td>City</td>\n",
       "      <td>Center</td>\n",
       "      <td>1012</td>\n",
       "      <td>WJ</td>\n",
       "      <td>Amsterdam</td>\n",
       "      <td>Netherlands</td>\n",
       "      <td>None</td>\n",
       "      <td>None</td>\n",
       "      <td>None</td>\n",
       "      <td>None</td>\n",
       "      <td>None</td>\n",
       "      <td>None</td>\n",
       "    </tr>\n",
       "    <tr>\n",
       "      <th>...</th>\n",
       "      <td>...</td>\n",
       "      <td>...</td>\n",
       "      <td>...</td>\n",
       "      <td>...</td>\n",
       "      <td>...</td>\n",
       "      <td>...</td>\n",
       "      <td>...</td>\n",
       "      <td>...</td>\n",
       "      <td>...</td>\n",
       "      <td>...</td>\n",
       "      <td>...</td>\n",
       "      <td>...</td>\n",
       "      <td>...</td>\n",
       "      <td>...</td>\n",
       "      <td>...</td>\n",
       "      <td>...</td>\n",
       "    </tr>\n",
       "    <tr>\n",
       "      <th>515426</th>\n",
       "      <td>9</td>\n",
       "      <td>Knaresborough</td>\n",
       "      <td>Place</td>\n",
       "      <td>Kensington</td>\n",
       "      <td>and</td>\n",
       "      <td>Chelsea</td>\n",
       "      <td>London</td>\n",
       "      <td>SW5</td>\n",
       "      <td>0TP</td>\n",
       "      <td>United</td>\n",
       "      <td>Kingdom</td>\n",
       "      <td>None</td>\n",
       "      <td>None</td>\n",
       "      <td>None</td>\n",
       "      <td>None</td>\n",
       "      <td>None</td>\n",
       "    </tr>\n",
       "    <tr>\n",
       "      <th>515427</th>\n",
       "      <td>Landstra</td>\n",
       "      <td>er</td>\n",
       "      <td>Hauptstra</td>\n",
       "      <td>e</td>\n",
       "      <td>155</td>\n",
       "      <td>03</td>\n",
       "      <td>Landstra</td>\n",
       "      <td>e</td>\n",
       "      <td>1030</td>\n",
       "      <td>Vienna</td>\n",
       "      <td>Austria</td>\n",
       "      <td>None</td>\n",
       "      <td>None</td>\n",
       "      <td>None</td>\n",
       "      <td>None</td>\n",
       "      <td>None</td>\n",
       "    </tr>\n",
       "    <tr>\n",
       "      <th>515428</th>\n",
       "      <td>29</td>\n",
       "      <td>31</td>\n",
       "      <td>Gower</td>\n",
       "      <td>Street</td>\n",
       "      <td>Camden</td>\n",
       "      <td>London</td>\n",
       "      <td>WC1E</td>\n",
       "      <td>6HG</td>\n",
       "      <td>United</td>\n",
       "      <td>Kingdom</td>\n",
       "      <td>None</td>\n",
       "      <td>None</td>\n",
       "      <td>None</td>\n",
       "      <td>None</td>\n",
       "      <td>None</td>\n",
       "      <td>None</td>\n",
       "    </tr>\n",
       "    <tr>\n",
       "      <th>515429</th>\n",
       "      <td>31</td>\n",
       "      <td>Great</td>\n",
       "      <td>Cumberland</td>\n",
       "      <td>Place</td>\n",
       "      <td>Westminster</td>\n",
       "      <td>Borough</td>\n",
       "      <td>London</td>\n",
       "      <td>W1H</td>\n",
       "      <td>7TA</td>\n",
       "      <td>United</td>\n",
       "      <td>Kingdom</td>\n",
       "      <td>None</td>\n",
       "      <td>None</td>\n",
       "      <td>None</td>\n",
       "      <td>None</td>\n",
       "      <td>None</td>\n",
       "    </tr>\n",
       "    <tr>\n",
       "      <th>515430</th>\n",
       "      <td>25</td>\n",
       "      <td>Courtfield</td>\n",
       "      <td>Gardens</td>\n",
       "      <td>Kensington</td>\n",
       "      <td>and</td>\n",
       "      <td>Chelsea</td>\n",
       "      <td>London</td>\n",
       "      <td>SW5</td>\n",
       "      <td>0PG</td>\n",
       "      <td>United</td>\n",
       "      <td>Kingdom</td>\n",
       "      <td>None</td>\n",
       "      <td>None</td>\n",
       "      <td>None</td>\n",
       "      <td>None</td>\n",
       "      <td>None</td>\n",
       "    </tr>\n",
       "  </tbody>\n",
       "</table>\n",
       "<p>515431 rows × 16 columns</p>\n",
       "</div>"
      ],
      "text/plain": [
       "                0              1           2           3            4   \\\n",
       "0              Via     Senigallia           6       20161        Milan   \n",
       "1       Arlandaweg             10   Westpoort        1043           EW   \n",
       "2         Mallorca            251    Eixample       08008    Barcelona   \n",
       "3           Piazza          Della  Repubblica          17      Central   \n",
       "4           Singel            303         309   Amsterdam         City   \n",
       "...            ...            ...         ...         ...          ...   \n",
       "515426           9  Knaresborough       Place  Kensington          and   \n",
       "515427    Landstra             er   Hauptstra           e          155   \n",
       "515428          29             31       Gower      Street       Camden   \n",
       "515429          31          Great  Cumberland       Place  Westminster   \n",
       "515430          25     Courtfield     Gardens  Kensington          and   \n",
       "\n",
       "               5            6      7          8            9        10    11  \\\n",
       "0           Italy         None   None       None         None     None  None   \n",
       "1       Amsterdam  Netherlands   None       None         None     None  None   \n",
       "2           Spain         None   None       None         None     None  None   \n",
       "3         Station        20124  Milan      Italy         None     None  None   \n",
       "4          Center         1012     WJ  Amsterdam  Netherlands     None  None   \n",
       "...           ...          ...    ...        ...          ...      ...   ...   \n",
       "515426    Chelsea       London    SW5        0TP       United  Kingdom  None   \n",
       "515427         03     Landstra      e       1030       Vienna  Austria  None   \n",
       "515428     London         WC1E    6HG     United      Kingdom     None  None   \n",
       "515429    Borough       London    W1H        7TA       United  Kingdom  None   \n",
       "515430    Chelsea       London    SW5        0PG       United  Kingdom  None   \n",
       "\n",
       "          12    13    14    15  \n",
       "0       None  None  None  None  \n",
       "1       None  None  None  None  \n",
       "2       None  None  None  None  \n",
       "3       None  None  None  None  \n",
       "4       None  None  None  None  \n",
       "...      ...   ...   ...   ...  \n",
       "515426  None  None  None  None  \n",
       "515427  None  None  None  None  \n",
       "515428  None  None  None  None  \n",
       "515429  None  None  None  None  \n",
       "515430  None  None  None  None  \n",
       "\n",
       "[515431 rows x 16 columns]"
      ]
     },
     "execution_count": 69,
     "metadata": {},
     "output_type": "execute_result"
    }
   ],
   "source": [
    "# Детальный просмотр адреса\n",
    "df['hotel_address'].str.split(' ', expand=True)\n",
    "# или если слов много\n",
    "# df['hotel_address'].apply(lambda x: x.split(' ')[::-1]) # с реверсом"
   ]
  },
  {
   "cell_type": "code",
   "execution_count": 70,
   "metadata": {
    "execution": {
     "iopub.execute_input": "2023-08-28T17:20:31.068140Z",
     "iopub.status.busy": "2023-08-28T17:20:31.067269Z",
     "iopub.status.idle": "2023-08-28T17:20:32.064737Z",
     "shell.execute_reply": "2023-08-28T17:20:32.063481Z",
     "shell.execute_reply.started": "2023-08-28T17:20:31.068083Z"
    }
   },
   "outputs": [
    {
     "data": {
      "text/plain": [
       "['United', 'Kingdom']           262300\n",
       "['Barcelona', 'Spain']           60149\n",
       "['Paris', 'France']              59626\n",
       "['Amsterdam', 'Netherlands']     57212\n",
       "['Vienna', 'Austria']            38938\n",
       "['Milan', 'Italy']               37206\n",
       "Name: hotel_address, dtype: int64"
      ]
     },
     "execution_count": 70,
     "metadata": {},
     "output_type": "execute_result"
    }
   ],
   "source": [
    "# Уникальные города в адресе\n",
    "df['hotel_address'].apply(lambda x: str(x.split(' ')[-2:])).value_counts()\n"
   ]
  },
  {
   "cell_type": "code",
   "execution_count": 71,
   "metadata": {
    "execution": {
     "iopub.execute_input": "2023-08-28T17:20:32.066960Z",
     "iopub.status.busy": "2023-08-28T17:20:32.066552Z",
     "iopub.status.idle": "2023-08-28T17:20:34.067603Z",
     "shell.execute_reply": "2023-08-28T17:20:34.066368Z",
     "shell.execute_reply.started": "2023-08-28T17:20:32.066913Z"
    }
   },
   "outputs": [
    {
     "data": {
      "text/plain": [
       "[['London',]    262300\n",
       "Name: hotel_address, dtype: int64"
      ]
     },
     "execution_count": 71,
     "metadata": {},
     "output_type": "execute_result"
    }
   ],
   "source": [
    "# Убеждаемся, что за строкой 'United', 'Kingdom' скрывается Лондон\n",
    "df[df['hotel_address'].str.contains('United')]['hotel_address'].apply(\n",
    "    lambda x: str(x.split(' ')[-5:]).split(' ')[:1]).value_counts()"
   ]
  },
  {
   "cell_type": "code",
   "execution_count": 72,
   "metadata": {
    "execution": {
     "iopub.execute_input": "2023-08-28T17:20:34.069463Z",
     "iopub.status.busy": "2023-08-28T17:20:34.069167Z",
     "iopub.status.idle": "2023-08-28T17:20:35.433571Z",
     "shell.execute_reply": "2023-08-28T17:20:35.432788Z",
     "shell.execute_reply.started": "2023-08-28T17:20:34.069430Z"
    }
   },
   "outputs": [],
   "source": [
    "# Всего представлено 6 уникальных городов, закодируем их\n",
    "df['hotel_city'] = df['hotel_address'].apply(lambda x: ', '.join(\n",
    "    x.split(' ')[-1:]))  # В качестве кода выступает страна\n",
    "# указываем столбец для кодирования\n",
    "encoder = ce.OneHotEncoder(cols=['hotel_city'], use_cat_names=True)\n",
    "type_bin = encoder.fit_transform(df['hotel_city'])\n",
    "df = pd.concat([df, type_bin], axis=1)"
   ]
  },
  {
   "cell_type": "code",
   "execution_count": 73,
   "metadata": {
    "execution": {
     "iopub.execute_input": "2023-08-28T17:20:35.435971Z",
     "iopub.status.busy": "2023-08-28T17:20:35.435104Z",
     "iopub.status.idle": "2023-08-28T17:20:35.827431Z",
     "shell.execute_reply": "2023-08-28T17:20:35.826473Z",
     "shell.execute_reply.started": "2023-08-28T17:20:35.435928Z"
    }
   },
   "outputs": [
    {
     "data": {
      "text/plain": [
       "[Vienna, Austria]     11\n",
       "[Paris, France]        3\n",
       "[Barcelona, Spain]     3\n",
       "dtype: int64"
      ]
     },
     "execution_count": 73,
     "metadata": {},
     "output_type": "execute_result"
    }
   ],
   "source": [
    "# Просмотр количества  уникальных городов, нахождения отелей у которых отсутствуют координаты\n",
    "pd.Series(df[df['lat'].isnull()]['hotel_address'].unique()).apply(\n",
    "    lambda x: x.split(' ')[-2:]).value_counts()"
   ]
  },
  {
   "cell_type": "code",
   "execution_count": 74,
   "metadata": {
    "execution": {
     "iopub.execute_input": "2023-08-28T17:20:35.828962Z",
     "iopub.status.busy": "2023-08-28T17:20:35.828655Z",
     "iopub.status.idle": "2023-08-28T17:20:35.846882Z",
     "shell.execute_reply": "2023-08-28T17:20:35.845780Z",
     "shell.execute_reply.started": "2023-08-28T17:20:35.828928Z"
    }
   },
   "outputs": [
    {
     "data": {
      "text/html": [
       "<div>\n",
       "<style scoped>\n",
       "    .dataframe tbody tr th:only-of-type {\n",
       "        vertical-align: middle;\n",
       "    }\n",
       "\n",
       "    .dataframe tbody tr th {\n",
       "        vertical-align: top;\n",
       "    }\n",
       "\n",
       "    .dataframe thead th {\n",
       "        text-align: right;\n",
       "    }\n",
       "</style>\n",
       "<table border=\"1\" class=\"dataframe\">\n",
       "  <thead>\n",
       "    <tr style=\"text-align: right;\">\n",
       "      <th></th>\n",
       "      <th>Countries</th>\n",
       "      <th>Capital</th>\n",
       "      <th>LAT</th>\n",
       "      <th>LONG</th>\n",
       "    </tr>\n",
       "  </thead>\n",
       "  <tbody>\n",
       "    <tr>\n",
       "      <th>16</th>\n",
       "      <td>France</td>\n",
       "      <td>Paris</td>\n",
       "      <td>48.856614</td>\n",
       "      <td>2.352222</td>\n",
       "    </tr>\n",
       "    <tr>\n",
       "      <th>21</th>\n",
       "      <td>Spain</td>\n",
       "      <td>Madrid</td>\n",
       "      <td>40.416775</td>\n",
       "      <td>-3.703790</td>\n",
       "    </tr>\n",
       "    <tr>\n",
       "      <th>41</th>\n",
       "      <td>Austria</td>\n",
       "      <td>Vienna</td>\n",
       "      <td>48.208174</td>\n",
       "      <td>16.373819</td>\n",
       "    </tr>\n",
       "  </tbody>\n",
       "</table>\n",
       "</div>"
      ],
      "text/plain": [
       "   Countries Capital        LAT       LONG\n",
       "16    France   Paris  48.856614   2.352222\n",
       "21     Spain  Madrid  40.416775  -3.703790\n",
       "41   Austria  Vienna  48.208174  16.373819"
      ]
     },
     "execution_count": 74,
     "metadata": {},
     "output_type": "execute_result"
    }
   ],
   "source": [
    "# Формирование справочной таблицы из внешних данных\n",
    "s1_s2[(s1_s2['Countries'] == 'Austria') | (\n",
    "    s1_s2['Countries'] == 'France') | (s1_s2['Countries'] == 'Spain')]"
   ]
  },
  {
   "cell_type": "code",
   "execution_count": 75,
   "metadata": {
    "execution": {
     "iopub.execute_input": "2023-08-28T17:20:35.849055Z",
     "iopub.status.busy": "2023-08-28T17:20:35.848805Z",
     "iopub.status.idle": "2023-08-28T17:20:36.158123Z",
     "shell.execute_reply": "2023-08-28T17:20:36.156759Z",
     "shell.execute_reply.started": "2023-08-28T17:20:35.849024Z"
    }
   },
   "outputs": [],
   "source": [
    "# Заполнение долготы\n",
    "ter = df['lat'].fillna(df['hotel_city'])\n",
    "df['lat'] = ter.replace(\n",
    "    {'Austria': 48.208174,  'France': 48.856614, 'Spain': 40.416775})"
   ]
  },
  {
   "cell_type": "code",
   "execution_count": 76,
   "metadata": {
    "execution": {
     "iopub.execute_input": "2023-08-28T17:20:36.161171Z",
     "iopub.status.busy": "2023-08-28T17:20:36.160425Z",
     "iopub.status.idle": "2023-08-28T17:20:36.481376Z",
     "shell.execute_reply": "2023-08-28T17:20:36.480356Z",
     "shell.execute_reply.started": "2023-08-28T17:20:36.161128Z"
    }
   },
   "outputs": [],
   "source": [
    "# Заполнение широты\n",
    "ter = df['lng'].fillna(df['hotel_city'])\n",
    "df['lng'] = ter.replace(\n",
    "    {'Austria': 16.373819,  'France': 2.352222, 'Spain': -3.703790})"
   ]
  },
  {
   "cell_type": "code",
   "execution_count": 77,
   "metadata": {},
   "outputs": [],
   "source": [
    "df = df.drop(['hotel_address', 'Countries', 'Capital', 'hotel_city'], axis=1)  # удаление исходного столбца"
   ]
  },
  {
   "cell_type": "markdown",
   "metadata": {},
   "source": [
    "### 3.4 Изучение tag\n"
   ]
  },
  {
   "cell_type": "code",
   "execution_count": 78,
   "metadata": {},
   "outputs": [
    {
     "data": {
      "text/plain": [
       "\"[' Business trip ', ' Solo traveler ', ' Standard Double or Twin Room ', ' Stayed 1 night ']\""
      ]
     },
     "execution_count": 78,
     "metadata": {},
     "output_type": "execute_result"
    }
   ],
   "source": [
    "df['tags'].iloc[5]\n"
   ]
  },
  {
   "cell_type": "code",
   "execution_count": 79,
   "metadata": {},
   "outputs": [
    {
     "name": "stdout",
     "output_type": "stream",
     "text": [
      "2428\n"
     ]
    }
   ],
   "source": [
    "from collections import Counter\n",
    "# Количество уникальных тегов\n",
    "s_dict = Counter()\n",
    "for i in df[\"tags\"]:\n",
    "    list_i = i[3:-3].split(\" ', ' \")\n",
    "    for element in list_i:\n",
    "        s_dict[element] += 1\n",
    "print(len(s_dict))"
   ]
  },
  {
   "cell_type": "code",
   "execution_count": 80,
   "metadata": {},
   "outputs": [
    {
     "data": {
      "text/plain": [
       "[('Leisure trip', 417538),\n",
       " ('Submitted from a mobile device', 307470),\n",
       " ('Couple', 252128),\n",
       " ('Stayed 1 night', 193568),\n",
       " ('Stayed 2 nights', 133850),\n",
       " ('Solo traveler', 108476),\n",
       " ('Stayed 3 nights', 95761),\n",
       " ('Business trip', 82884),\n",
       " ('Group', 65361),\n",
       " ('Family with young children', 60989),\n",
       " ('Stayed 4 nights', 47777),\n",
       " ('Double Room', 35207),\n",
       " ('Standard Double Room', 32247),\n",
       " ('Superior Double Room', 31361),\n",
       " ('Family with older children', 26334),\n",
       " ('Deluxe Double Room', 24812),\n",
       " ('Double or Twin Room', 22393),\n",
       " ('Stayed 5 nights', 20826),\n",
       " ('Standard Double or Twin Room', 17479),\n",
       " ('Classic Double Room', 16877),\n",
       " ('Superior Double or Twin Room', 13570),\n",
       " ('2 rooms', 12384),\n",
       " ('Stayed 6 nights', 9765),\n",
       " ('Standard Twin Room', 9745),\n",
       " ('Single Room', 9668),\n",
       " ('Twin Room', 8320),\n",
       " ('Stayed 7 nights', 7391),\n",
       " ('Executive Double Room', 6425),\n",
       " ('Classic Double or Twin Room', 6100),\n",
       " ('Superior Twin Room', 6054)]"
      ]
     },
     "execution_count": 80,
     "metadata": {},
     "output_type": "execute_result"
    }
   ],
   "source": [
    "# 30 самых популярных тегов\n",
    "s_dict.most_common(30)\n"
   ]
  },
  {
   "cell_type": "code",
   "execution_count": 81,
   "metadata": {},
   "outputs": [
    {
     "data": {
      "text/plain": [
       "['Leisure trip',\n",
       " 'Submitted from a mobile device',\n",
       " 'Couple',\n",
       " 'Stayed 1 night',\n",
       " 'Stayed 2 nights',\n",
       " 'Solo traveler',\n",
       " 'Stayed 3 nights',\n",
       " 'Business trip',\n",
       " 'Group',\n",
       " 'Family with young children',\n",
       " 'Stayed 4 nights',\n",
       " 'Double Room',\n",
       " 'Standard Double Room',\n",
       " 'Superior Double Room',\n",
       " 'Family with older children',\n",
       " 'Deluxe Double Room',\n",
       " 'Double or Twin Room',\n",
       " 'Stayed 5 nights',\n",
       " 'Standard Double or Twin Room',\n",
       " 'Classic Double Room',\n",
       " 'Superior Double or Twin Room',\n",
       " '2 rooms',\n",
       " 'Stayed 6 nights',\n",
       " 'Standard Twin Room',\n",
       " 'Single Room']"
      ]
     },
     "execution_count": 81,
     "metadata": {},
     "output_type": "execute_result"
    }
   ],
   "source": [
    "# Список 25 самых популярных тегов\n",
    "list_tag = [word for word, cnt in s_dict.most_common(25)]\n",
    "list_tag"
   ]
  },
  {
   "cell_type": "code",
   "execution_count": 82,
   "metadata": {},
   "outputs": [],
   "source": [
    "# Формирование новых столбцов с наличием тегов в отзыве\n",
    "for tag in list_tag:\n",
    "    # print(tag)\n",
    "    df[tag] = df['tags'].apply(lambda x: 1 if tag in x else 0)"
   ]
  },
  {
   "cell_type": "code",
   "execution_count": 83,
   "metadata": {},
   "outputs": [],
   "source": [
    "df = df.drop(['tags'], axis=1)  # удаление исходного столбца"
   ]
  },
  {
   "cell_type": "markdown",
   "metadata": {},
   "source": [
    "# 4 Корреляция и нормализация признаков\n",
    "\n",
    "## 4.1 Корреляция\n"
   ]
  },
  {
   "cell_type": "code",
   "execution_count": 84,
   "metadata": {},
   "outputs": [
    {
     "data": {
      "text/plain": [
       "<Axes: >"
      ]
     },
     "execution_count": 84,
     "metadata": {},
     "output_type": "execute_result"
    },
    {
     "data": {
      "image/png": "[encoded data removed]",
      "text/plain": [
       "<Figure size 1000x1000 with 2 Axes>"
      ]
     },
     "metadata": {},
     "output_type": "display_data"
    }
   ],
   "source": [
    "# Посмотрим на признаки с корреляцией более 0.5\n",
    "pivot = df.drop(['sample'], axis=1)\n",
    "pivot = round(pivot.corr(numeric_only=True), 2)\n",
    "for col in pivot:\n",
    "    pivot[col] = pivot[col].apply(\n",
    "        lambda x: np.nan if (abs(x) < 0.5 or x == 1) else x)\n",
    "for col in pivot:\n",
    "    pivot = pivot.dropna(how='all')\n",
    "    pivot = pivot.dropna(how='all', axis='columns')\n",
    "\n",
    "plt.rcParams['figure.figsize'] = (10, 10)\n",
    "sns.heatmap(pivot, annot=True, linewidths=.9, cmap='coolwarm')"
   ]
  },
  {
   "cell_type": "code",
   "execution_count": 85,
   "metadata": {
    "execution": {
     "iopub.execute_input": "2023-08-28T17:21:04.614177Z",
     "iopub.status.busy": "2023-08-28T17:21:04.613644Z",
     "iopub.status.idle": "2023-08-28T17:21:04.867983Z",
     "shell.execute_reply": "2023-08-28T17:21:04.866825Z",
     "shell.execute_reply.started": "2023-08-28T17:21:04.614112Z"
    }
   },
   "outputs": [],
   "source": [
    "# Удаляем мультиколлинеарные признаки\n",
    "df = df.drop([\n",
    "    'total_number_of_reviews', 'additional_number_of_scoring',\n",
    "    'hotel_city_Spain', 'Leisure trip'], axis=1)"
   ]
  },
  {
   "cell_type": "code",
   "execution_count": 86,
   "metadata": {
    "execution": {
     "iopub.execute_input": "2023-08-28T17:21:27.605025Z",
     "iopub.status.busy": "2023-08-28T17:21:27.604777Z",
     "iopub.status.idle": "2023-08-28T17:21:27.757540Z",
     "shell.execute_reply": "2023-08-28T17:21:27.756316Z",
     "shell.execute_reply.started": "2023-08-28T17:21:27.604994Z"
    }
   },
   "outputs": [],
   "source": [
    "# Вспомогательный код\n",
    "\n",
    "# модель на признаках с dtypes \"object\" обучаться не будет, просто выберем их и удалим\n",
    "# object_columns = [s for s in df.columns if df[s].dtypes == 'object']\n",
    "# df.drop(object_columns, axis=1, inplace=True)"
   ]
  },
  {
   "cell_type": "markdown",
   "metadata": {},
   "source": [
    "## 4.2 Нормализация\n"
   ]
  },
  {
   "cell_type": "code",
   "execution_count": 87,
   "metadata": {},
   "outputs": [
    {
     "data": {
      "text/plain": [
       "['average_score',\n",
       " 'review_total_negative_word_counts',\n",
       " 'review_total_positive_word_counts',\n",
       " 'total_number_of_reviews_reviewer_has_given',\n",
       " 'days_since_review',\n",
       " 'lat',\n",
       " 'lng',\n",
       " 'reviewer_score',\n",
       " 'count_word_positive',\n",
       " 'total_number_of_scoring',\n",
       " 'LAT',\n",
       " 'LONG']"
      ]
     },
     "execution_count": 87,
     "metadata": {},
     "output_type": "execute_result"
    }
   ],
   "source": [
    "# Просмотр не бинарных признаков\n",
    "col_upward_2 = list(df.nunique()[df.nunique() > 2].index)\n",
    "col_upward_2"
   ]
  },
  {
   "cell_type": "code",
   "execution_count": 88,
   "metadata": {},
   "outputs": [
    {
     "data": {
      "text/plain": [
       "array([[<Axes: title={'center': 'average_score'}>,\n",
       "        <Axes: title={'center': 'review_total_negative_word_counts'}>,\n",
       "        <Axes: title={'center': 'review_total_positive_word_counts'}>],\n",
       "       [<Axes: title={'center': 'total_number_of_reviews_reviewer_has_given'}>,\n",
       "        <Axes: title={'center': 'days_since_review'}>,\n",
       "        <Axes: title={'center': 'lat'}>],\n",
       "       [<Axes: title={'center': 'lng'}>,\n",
       "        <Axes: title={'center': 'reviewer_score'}>,\n",
       "        <Axes: title={'center': 'count_word_positive'}>],\n",
       "       [<Axes: title={'center': 'total_number_of_scoring'}>,\n",
       "        <Axes: title={'center': 'LAT'}>,\n",
       "        <Axes: title={'center': 'LONG'}>]], dtype=object)"
      ]
     },
     "execution_count": 88,
     "metadata": {},
     "output_type": "execute_result"
    },
    {
     "data": {
      "image/png": "[encoded data removed]",
      "text/plain": [
       "<Figure size 1000x1000 with 12 Axes>"
      ]
     },
     "metadata": {},
     "output_type": "display_data"
    }
   ],
   "source": [
    "df.loc[:, col_upward_2].hist()\n"
   ]
  },
  {
   "cell_type": "code",
   "execution_count": 89,
   "metadata": {},
   "outputs": [],
   "source": [
    "# Преобразование обратного гиперболического синуса для скошенного вправо распределения\n",
    "log_df_list = ['review_total_negative_word_counts', 'review_total_positive_word_counts',\n",
    "               'total_number_of_reviews_reviewer_has_given']  # список столбцов для преобразования"
   ]
  },
  {
   "cell_type": "code",
   "execution_count": 90,
   "metadata": {},
   "outputs": [
    {
     "data": {
      "text/html": [
       "<div>\n",
       "<style scoped>\n",
       "    .dataframe tbody tr th:only-of-type {\n",
       "        vertical-align: middle;\n",
       "    }\n",
       "\n",
       "    .dataframe tbody tr th {\n",
       "        vertical-align: top;\n",
       "    }\n",
       "\n",
       "    .dataframe thead th {\n",
       "        text-align: right;\n",
       "    }\n",
       "</style>\n",
       "<table border=\"1\" class=\"dataframe\">\n",
       "  <thead>\n",
       "    <tr style=\"text-align: right;\">\n",
       "      <th></th>\n",
       "      <th>review_total_negative_word_counts</th>\n",
       "      <th>review_total_positive_word_counts</th>\n",
       "      <th>total_number_of_reviews_reviewer_has_given</th>\n",
       "    </tr>\n",
       "  </thead>\n",
       "  <tbody>\n",
       "    <tr>\n",
       "      <th>0</th>\n",
       "      <td>4.644483</td>\n",
       "      <td>4.820347</td>\n",
       "      <td>0.881374</td>\n",
       "    </tr>\n",
       "    <tr>\n",
       "      <th>1</th>\n",
       "      <td>2.998223</td>\n",
       "      <td>0.000000</td>\n",
       "      <td>2.644121</td>\n",
       "    </tr>\n",
       "    <tr>\n",
       "      <th>2</th>\n",
       "      <td>1.818446</td>\n",
       "      <td>2.312438</td>\n",
       "      <td>3.402307</td>\n",
       "    </tr>\n",
       "    <tr>\n",
       "      <th>3</th>\n",
       "      <td>0.000000</td>\n",
       "      <td>3.989327</td>\n",
       "      <td>2.893444</td>\n",
       "    </tr>\n",
       "    <tr>\n",
       "      <th>4</th>\n",
       "      <td>0.000000</td>\n",
       "      <td>2.644121</td>\n",
       "      <td>1.443635</td>\n",
       "    </tr>\n",
       "    <tr>\n",
       "      <th>...</th>\n",
       "      <td>...</td>\n",
       "      <td>...</td>\n",
       "      <td>...</td>\n",
       "    </tr>\n",
       "    <tr>\n",
       "      <th>515426</th>\n",
       "      <td>0.000000</td>\n",
       "      <td>2.998223</td>\n",
       "      <td>2.998223</td>\n",
       "    </tr>\n",
       "    <tr>\n",
       "      <th>515427</th>\n",
       "      <td>0.000000</td>\n",
       "      <td>5.225776</td>\n",
       "      <td>0.881374</td>\n",
       "    </tr>\n",
       "    <tr>\n",
       "      <th>515428</th>\n",
       "      <td>3.179785</td>\n",
       "      <td>2.893444</td>\n",
       "      <td>3.738236</td>\n",
       "    </tr>\n",
       "    <tr>\n",
       "      <th>515429</th>\n",
       "      <td>0.000000</td>\n",
       "      <td>2.491780</td>\n",
       "      <td>4.025670</td>\n",
       "    </tr>\n",
       "    <tr>\n",
       "      <th>515430</th>\n",
       "      <td>3.689504</td>\n",
       "      <td>3.689504</td>\n",
       "      <td>1.443635</td>\n",
       "    </tr>\n",
       "  </tbody>\n",
       "</table>\n",
       "<p>515431 rows × 3 columns</p>\n",
       "</div>"
      ],
      "text/plain": [
       "        review_total_negative_word_counts  review_total_positive_word_counts  \\\n",
       "0                                4.644483                           4.820347   \n",
       "1                                2.998223                           0.000000   \n",
       "2                                1.818446                           2.312438   \n",
       "3                                0.000000                           3.989327   \n",
       "4                                0.000000                           2.644121   \n",
       "...                                   ...                                ...   \n",
       "515426                           0.000000                           2.998223   \n",
       "515427                           0.000000                           5.225776   \n",
       "515428                           3.179785                           2.893444   \n",
       "515429                           0.000000                           2.491780   \n",
       "515430                           3.689504                           3.689504   \n",
       "\n",
       "        total_number_of_reviews_reviewer_has_given  \n",
       "0                                         0.881374  \n",
       "1                                         2.644121  \n",
       "2                                         3.402307  \n",
       "3                                         2.893444  \n",
       "4                                         1.443635  \n",
       "...                                            ...  \n",
       "515426                                    2.998223  \n",
       "515427                                    0.881374  \n",
       "515428                                    3.738236  \n",
       "515429                                    4.025670  \n",
       "515430                                    1.443635  \n",
       "\n",
       "[515431 rows x 3 columns]"
      ]
     },
     "execution_count": 90,
     "metadata": {},
     "output_type": "execute_result"
    }
   ],
   "source": [
    "log_df = df.loc[:, log_df_list]\n",
    "for i in log_df_list:\n",
    "    log_df[i] = np.log(df[i] + np.sqrt(df[i] ** 2 + 1))\n",
    "log_df"
   ]
  },
  {
   "cell_type": "code",
   "execution_count": 91,
   "metadata": {},
   "outputs": [
    {
     "data": {
      "text/plain": [
       "array([[<Axes: title={'center': 'review_total_negative_word_counts'}>,\n",
       "        <Axes: title={'center': 'review_total_positive_word_counts'}>],\n",
       "       [<Axes: title={'center': 'total_number_of_reviews_reviewer_has_given'}>,\n",
       "        <Axes: >]], dtype=object)"
      ]
     },
     "execution_count": 91,
     "metadata": {},
     "output_type": "execute_result"
    },
    {
     "data": {
      "image/png": "[encoded data removed]",
      "text/plain": [
       "<Figure size 1000x1000 with 4 Axes>"
      ]
     },
     "metadata": {},
     "output_type": "display_data"
    }
   ],
   "source": [
    "log_df.hist()\n"
   ]
  },
  {
   "cell_type": "code",
   "execution_count": 92,
   "metadata": {},
   "outputs": [],
   "source": [
    "# df.loc[:, log_df_list] = log_df # обратное присвоение значений в исходный df\n"
   ]
  },
  {
   "cell_type": "code",
   "execution_count": 93,
   "metadata": {},
   "outputs": [],
   "source": [
    "# Остальные столбцы приведем к нормальному распределению с помощью квантильного преобразования\n",
    "col_upward_2 = ['average_score',\n",
    "                'days_since_review',\n",
    "                'lat',\n",
    "                'lng',\n",
    "                'count_word_positive',\n",
    "                'total_number_of_scoring',\n",
    "                'LAT',\n",
    "                'LONG']"
   ]
  },
  {
   "cell_type": "code",
   "execution_count": 94,
   "metadata": {},
   "outputs": [],
   "source": [
    "norm_df = df.loc[:, col_upward_2]\n"
   ]
  },
  {
   "cell_type": "code",
   "execution_count": 95,
   "metadata": {},
   "outputs": [],
   "source": [
    "from sklearn.preprocessing import QuantileTransformer\n",
    "\n",
    "# приведем переменные с выбросами (!) к нормальному распределению\n",
    "# с помощью квантиль-функции\n",
    "qt = QuantileTransformer(n_quantiles=int(len(norm_df)/5),  # число квантилей подобрано максимально возможно для вычислительных возможностей машины\n",
    "                         output_distribution='normal',\n",
    "                         random_state=42,\n",
    "                         subsample=len(norm_df))\n",
    "\n",
    "# для каждого из столбцов вычислим квантили нормального распределения,\n",
    "# соответствующие заданному выше количеству квантилей (n_quantiles)\n",
    "# и преобразуем (map) данные к нормальному распределению\n",
    "norm_df = pd.DataFrame(qt.fit_transform(norm_df),\n",
    "                       columns=norm_df.columns)"
   ]
  },
  {
   "cell_type": "code",
   "execution_count": 96,
   "metadata": {},
   "outputs": [
    {
     "data": {
      "text/plain": [
       "array([[<Axes: title={'center': 'average_score'}>,\n",
       "        <Axes: title={'center': 'days_since_review'}>,\n",
       "        <Axes: title={'center': 'lat'}>],\n",
       "       [<Axes: title={'center': 'lng'}>,\n",
       "        <Axes: title={'center': 'count_word_positive'}>,\n",
       "        <Axes: title={'center': 'total_number_of_scoring'}>],\n",
       "       [<Axes: title={'center': 'LAT'}>,\n",
       "        <Axes: title={'center': 'LONG'}>, <Axes: >]], dtype=object)"
      ]
     },
     "execution_count": 96,
     "metadata": {},
     "output_type": "execute_result"
    },
    {
     "data": {
      "image/png": "[encoded data removed]",
      "text/plain": [
       "<Figure size 1000x1000 with 9 Axes>"
      ]
     },
     "metadata": {},
     "output_type": "display_data"
    }
   ],
   "source": [
    "norm_df.hist()"
   ]
  },
  {
   "cell_type": "code",
   "execution_count": 97,
   "metadata": {},
   "outputs": [],
   "source": [
    "# df.loc[:, norm_df.columns] = norm_df # обратное присвоение значений в исходный df\n"
   ]
  },
  {
   "cell_type": "markdown",
   "metadata": {},
   "source": [
    "Вывод приведение данных к нормальному распределению не привело к улучшению модели. RandomForestRegressor не требователен к распределению данных\n"
   ]
  },
  {
   "cell_type": "markdown",
   "metadata": {},
   "source": [
    "# 5 Создание модели\n"
   ]
  },
  {
   "cell_type": "code",
   "execution_count": 98,
   "metadata": {
    "execution": {
     "iopub.execute_input": "2023-08-28T17:21:27.759835Z",
     "iopub.status.busy": "2023-08-28T17:21:27.759544Z",
     "iopub.status.idle": "2023-08-28T17:21:27.825298Z",
     "shell.execute_reply": "2023-08-28T17:21:27.823755Z",
     "shell.execute_reply.started": "2023-08-28T17:21:27.759802Z"
    }
   },
   "outputs": [
    {
     "name": "stdout",
     "output_type": "stream",
     "text": [
      "<class 'pandas.core.frame.DataFrame'>\n",
      "Int64Index: 515431 entries, 0 to 515430\n",
      "Data columns (total 82 columns):\n",
      " #   Column                                      Non-Null Count   Dtype  \n",
      "---  ------                                      --------------   -----  \n",
      " 0   average_score                               515431 non-null  float64\n",
      " 1   review_total_negative_word_counts           515431 non-null  int64  \n",
      " 2   review_total_positive_word_counts           515431 non-null  int64  \n",
      " 3   total_number_of_reviews_reviewer_has_given  515431 non-null  int64  \n",
      " 4   days_since_review                           515431 non-null  int64  \n",
      " 5   lat                                         515431 non-null  float64\n",
      " 6   lng                                         515431 non-null  float64\n",
      " 7   sample                                      515431 non-null  int64  \n",
      " 8   reviewer_score                              515431 non-null  float64\n",
      " 9   negative_boole                              515431 non-null  int64  \n",
      " 10  positive_boole                              515431 non-null  int64  \n",
      " 11  count_word_positive                         515431 non-null  int64  \n",
      " 12  total_number_of_scoring                     515431 non-null  int64  \n",
      " 13  hotel_name_0                                515431 non-null  int64  \n",
      " 14  hotel_name_1                                515431 non-null  int64  \n",
      " 15  hotel_name_2                                515431 non-null  int64  \n",
      " 16  hotel_name_3                                515431 non-null  int64  \n",
      " 17  hotel_name_4                                515431 non-null  int64  \n",
      " 18  hotel_name_5                                515431 non-null  int64  \n",
      " 19  hotel_name_6                                515431 non-null  int64  \n",
      " 20  hotel_name_7                                515431 non-null  int64  \n",
      " 21  hotel_name_8                                515431 non-null  int64  \n",
      " 22  hotel_name_9                                515431 non-null  int64  \n",
      " 23  hotel_name_10                               515431 non-null  int64  \n",
      " 24  review_date_4.0                             515431 non-null  int64  \n",
      " 25  review_date_0.0                             515431 non-null  int64  \n",
      " 26  review_date_3.0                             515431 non-null  int64  \n",
      " 27  review_date_5.0                             515431 non-null  int64  \n",
      " 28  review_date_1.0                             515431 non-null  int64  \n",
      " 29  review_date_2.0                             515431 non-null  int64  \n",
      " 30  review_date_6.0                             515431 non-null  int64  \n",
      " 31  review_date_month_7.0                       515431 non-null  int64  \n",
      " 32  review_date_month_12.0                      515431 non-null  int64  \n",
      " 33  review_date_month_11.0                      515431 non-null  int64  \n",
      " 34  review_date_month_10.0                      515431 non-null  int64  \n",
      " 35  review_date_month_5.0                       515431 non-null  int64  \n",
      " 36  review_date_month_8.0                       515431 non-null  int64  \n",
      " 37  review_date_month_6.0                       515431 non-null  int64  \n",
      " 38  review_date_month_9.0                       515431 non-null  int64  \n",
      " 39  review_date_month_1.0                       515431 non-null  int64  \n",
      " 40  review_date_month_3.0                       515431 non-null  int64  \n",
      " 41  review_date_month_4.0                       515431 non-null  int64  \n",
      " 42  review_date_month_2.0                       515431 non-null  int64  \n",
      " 43  LAT                                         515431 non-null  float64\n",
      " 44  LONG                                        515431 non-null  float64\n",
      " 45  reviewer_nationality_0                      515431 non-null  int64  \n",
      " 46  reviewer_nationality_1                      515431 non-null  int64  \n",
      " 47  reviewer_nationality_2                      515431 non-null  int64  \n",
      " 48  reviewer_nationality_3                      515431 non-null  int64  \n",
      " 49  reviewer_nationality_4                      515431 non-null  int64  \n",
      " 50  reviewer_nationality_5                      515431 non-null  int64  \n",
      " 51  reviewer_nationality_6                      515431 non-null  int64  \n",
      " 52  reviewer_nationality_7                      515431 non-null  int64  \n",
      " 53  hotel_city_Italy                            515431 non-null  int64  \n",
      " 54  hotel_city_Netherlands                      515431 non-null  int64  \n",
      " 55  hotel_city_Kingdom                          515431 non-null  int64  \n",
      " 56  hotel_city_France                           515431 non-null  int64  \n",
      " 57  hotel_city_Austria                          515431 non-null  int64  \n",
      " 58  Submitted from a mobile device              515431 non-null  int64  \n",
      " 59  Couple                                      515431 non-null  int64  \n",
      " 60  Stayed 1 night                              515431 non-null  int64  \n",
      " 61  Stayed 2 nights                             515431 non-null  int64  \n",
      " 62  Solo traveler                               515431 non-null  int64  \n",
      " 63  Stayed 3 nights                             515431 non-null  int64  \n",
      " 64  Business trip                               515431 non-null  int64  \n",
      " 65  Group                                       515431 non-null  int64  \n",
      " 66  Family with young children                  515431 non-null  int64  \n",
      " 67  Stayed 4 nights                             515431 non-null  int64  \n",
      " 68  Double Room                                 515431 non-null  int64  \n",
      " 69  Standard Double Room                        515431 non-null  int64  \n",
      " 70  Superior Double Room                        515431 non-null  int64  \n",
      " 71  Family with older children                  515431 non-null  int64  \n",
      " 72  Deluxe Double Room                          515431 non-null  int64  \n",
      " 73  Double or Twin Room                         515431 non-null  int64  \n",
      " 74  Stayed 5 nights                             515431 non-null  int64  \n",
      " 75  Standard Double or Twin Room                515431 non-null  int64  \n",
      " 76  Classic Double Room                         515431 non-null  int64  \n",
      " 77  Superior Double or Twin Room                515431 non-null  int64  \n",
      " 78  2 rooms                                     515431 non-null  int64  \n",
      " 79  Stayed 6 nights                             515431 non-null  int64  \n",
      " 80  Standard Twin Room                          515431 non-null  int64  \n",
      " 81  Single Room                                 515431 non-null  int64  \n",
      "dtypes: float64(6), int64(76)\n",
      "memory usage: 326.4 MB\n"
     ]
    }
   ],
   "source": [
    "df.info()\n"
   ]
  },
  {
   "cell_type": "code",
   "execution_count": 99,
   "metadata": {
    "execution": {
     "iopub.execute_input": "2023-08-28T17:21:27.827190Z",
     "iopub.status.busy": "2023-08-28T17:21:27.826938Z",
     "iopub.status.idle": "2023-08-28T17:21:28.260827Z",
     "shell.execute_reply": "2023-08-28T17:21:28.259658Z",
     "shell.execute_reply.started": "2023-08-28T17:21:27.827160Z"
    }
   },
   "outputs": [],
   "source": [
    "# Теперь выделим тестовую часть\n",
    "train_data = df.query('sample == 1').drop(['sample'], axis=1)\n",
    "test_data = df.query('sample == 0').drop(['sample'], axis=1)\n",
    "\n",
    "y = train_data.reviewer_score.values            # наш таргет\n",
    "X = train_data.drop(['reviewer_score'], axis=1)\n"
   ]
  },
  {
   "cell_type": "code",
   "execution_count": 100,
   "metadata": {
    "execution": {
     "iopub.execute_input": "2023-08-28T17:21:28.263415Z",
     "iopub.status.busy": "2023-08-28T17:21:28.262479Z",
     "iopub.status.idle": "2023-08-28T17:21:28.562516Z",
     "shell.execute_reply": "2023-08-28T17:21:28.561285Z",
     "shell.execute_reply.started": "2023-08-28T17:21:28.263370Z"
    }
   },
   "outputs": [],
   "source": [
    "# Воспользуемся специальной функцией train_test_split для разбивки тестовых данных\n",
    "# выделим 20% данных на валидацию (параметр test_size)\n",
    "X_train, X_test, y_train, y_test = train_test_split(\n",
    "    X, y, test_size=0.2, random_state=RANDOM_SEED)"
   ]
  },
  {
   "cell_type": "code",
   "execution_count": 101,
   "metadata": {
    "execution": {
     "iopub.execute_input": "2023-08-28T17:21:28.564297Z",
     "iopub.status.busy": "2023-08-28T17:21:28.563961Z",
     "iopub.status.idle": "2023-08-28T17:21:28.572857Z",
     "shell.execute_reply": "2023-08-28T17:21:28.571629Z",
     "shell.execute_reply.started": "2023-08-28T17:21:28.564255Z"
    }
   },
   "outputs": [
    {
     "data": {
      "text/plain": [
       "((128935, 81), (386496, 81), (386496, 80), (309196, 80), (77300, 80))"
      ]
     },
     "execution_count": 101,
     "metadata": {},
     "output_type": "execute_result"
    }
   ],
   "source": [
    "# проверяем\n",
    "test_data.shape, train_data.shape, X.shape, X_train.shape, X_test.shape\n"
   ]
  },
  {
   "cell_type": "code",
   "execution_count": 102,
   "metadata": {
    "execution": {
     "iopub.execute_input": "2023-08-28T17:21:28.574836Z",
     "iopub.status.busy": "2023-08-28T17:21:28.574490Z",
     "iopub.status.idle": "2023-08-28T17:21:28.587572Z",
     "shell.execute_reply": "2023-08-28T17:21:28.586778Z",
     "shell.execute_reply.started": "2023-08-28T17:21:28.574785Z"
    }
   },
   "outputs": [],
   "source": [
    "# Импортируем необходимые библиотеки:\n",
    "# инструмент для создания и обучения модели\n",
    "from sklearn.ensemble import RandomForestRegressor\n",
    "from sklearn import metrics  # инструменты для оценки точности модели"
   ]
  },
  {
   "cell_type": "code",
   "execution_count": 103,
   "metadata": {
    "execution": {
     "iopub.execute_input": "2023-08-28T17:21:28.597569Z",
     "iopub.status.busy": "2023-08-28T17:21:28.597246Z",
     "iopub.status.idle": "2023-08-28T17:21:28.690657Z",
     "shell.execute_reply": "2023-08-28T17:21:28.689591Z",
     "shell.execute_reply.started": "2023-08-28T17:21:28.597533Z"
    }
   },
   "outputs": [],
   "source": [
    "# Создаём модель (НАСТРОЙКИ НЕ ТРОГАЕМ)\n",
    "model = RandomForestRegressor(\n",
    "    n_estimators=100, verbose=1, n_jobs=-1, random_state=RANDOM_SEED)"
   ]
  },
  {
   "cell_type": "code",
   "execution_count": 104,
   "metadata": {
    "execution": {
     "iopub.execute_input": "2023-08-28T17:21:28.693014Z",
     "iopub.status.busy": "2023-08-28T17:21:28.692117Z",
     "iopub.status.idle": "2023-08-28T17:25:22.562707Z",
     "shell.execute_reply": "2023-08-28T17:25:22.561646Z",
     "shell.execute_reply.started": "2023-08-28T17:21:28.692958Z"
    }
   },
   "outputs": [
    {
     "name": "stderr",
     "output_type": "stream",
     "text": [
      "[Parallel(n_jobs=-1)]: Using backend ThreadingBackend with 8 concurrent workers.\n",
      "[Parallel(n_jobs=-1)]: Done  34 tasks      | elapsed:  1.9min\n",
      "[Parallel(n_jobs=-1)]: Done 100 out of 100 | elapsed:  5.0min finished\n",
      "[Parallel(n_jobs=8)]: Using backend ThreadingBackend with 8 concurrent workers.\n",
      "[Parallel(n_jobs=8)]: Done  34 tasks      | elapsed:    0.6s\n",
      "[Parallel(n_jobs=8)]: Done 100 out of 100 | elapsed:    1.5s finished\n"
     ]
    }
   ],
   "source": [
    "# Обучаем модель на тестовом наборе данных\n",
    "model.fit(X_train, y_train)\n",
    "\n",
    "# Используем обученную модель для предсказания рейтинга ресторанов в тестовой выборке.\n",
    "# Предсказанные значения записываем в переменную y_pred\n",
    "y_pred = model.predict(X_test)\n"
   ]
  },
  {
   "cell_type": "code",
   "execution_count": 105,
   "metadata": {
    "execution": {
     "iopub.execute_input": "2023-08-28T17:25:22.564363Z",
     "iopub.status.busy": "2023-08-28T17:25:22.564091Z",
     "iopub.status.idle": "2023-08-28T17:25:22.570019Z",
     "shell.execute_reply": "2023-08-28T17:25:22.568944Z",
     "shell.execute_reply.started": "2023-08-28T17:25:22.564328Z"
    }
   },
   "outputs": [],
   "source": [
    "# Округляем предсказанные значения\n",
    "y_pred = np.round(y_pred, 1)\n"
   ]
  },
  {
   "cell_type": "code",
   "execution_count": 106,
   "metadata": {
    "execution": {
     "iopub.execute_input": "2023-08-28T17:25:22.571572Z",
     "iopub.status.busy": "2023-08-28T17:25:22.571317Z",
     "iopub.status.idle": "2023-08-28T17:25:22.588506Z",
     "shell.execute_reply": "2023-08-28T17:25:22.587776Z",
     "shell.execute_reply.started": "2023-08-28T17:25:22.571539Z"
    }
   },
   "outputs": [
    {
     "name": "stdout",
     "output_type": "stream",
     "text": [
      "MAE: 0.9092470892626132\n"
     ]
    }
   ],
   "source": [
    "# Сравниваем предсказанные значения (y_pred) с реальными (y_test), и смотрим насколько они в среднем отличаются\n",
    "# Метрика называется Mean Absolute Error (MAE) и показывает среднее отклонение предсказанных значений от фактических.\n",
    "print('MAE:', metrics.mean_absolute_error(y_test, y_pred))\n"
   ]
  },
  {
   "cell_type": "code",
   "execution_count": 107,
   "metadata": {
    "execution": {
     "iopub.execute_input": "2023-08-28T17:25:22.590430Z",
     "iopub.status.busy": "2023-08-28T17:25:22.589799Z",
     "iopub.status.idle": "2023-08-28T17:25:22.620643Z",
     "shell.execute_reply": "2023-08-28T17:25:22.619550Z",
     "shell.execute_reply.started": "2023-08-28T17:25:22.590394Z"
    }
   },
   "outputs": [
    {
     "name": "stdout",
     "output_type": "stream",
     "text": [
      "MAPE: 13.098382318506774\n"
     ]
    }
   ],
   "source": [
    "print('MAPE:', sum(abs((y_test-y_pred)/y_test))/len(y_test)*100)"
   ]
  },
  {
   "cell_type": "code",
   "execution_count": 108,
   "metadata": {
    "execution": {
     "iopub.execute_input": "2023-08-28T17:25:22.622961Z",
     "iopub.status.busy": "2023-08-28T17:25:22.622602Z",
     "iopub.status.idle": "2023-08-28T17:25:23.199740Z",
     "shell.execute_reply": "2023-08-28T17:25:23.198456Z",
     "shell.execute_reply.started": "2023-08-28T17:25:22.622915Z"
    }
   },
   "outputs": [
    {
     "data": {
      "text/plain": [
       "<Axes: >"
      ]
     },
     "execution_count": 108,
     "metadata": {},
     "output_type": "execute_result"
    },
    {
     "data": {
      "image/png": "[encoded data removed]",
      "text/plain": [
       "<Figure size 1000x1000 with 1 Axes>"
      ]
     },
     "metadata": {},
     "output_type": "display_data"
    }
   ],
   "source": [
    "# в RandomForestRegressor есть возможность вывести самые важные признаки для модели\n",
    "plt.rcParams['figure.figsize'] = (10, 10)\n",
    "feat_importances = pd.Series(model.feature_importances_, index=X.columns)\n",
    "feat_importances.nlargest(15).plot(kind='barh')"
   ]
  },
  {
   "cell_type": "code",
   "execution_count": 109,
   "metadata": {
    "execution": {
     "iopub.execute_input": "2023-08-28T17:25:23.202590Z",
     "iopub.status.busy": "2023-08-28T17:25:23.202007Z",
     "iopub.status.idle": "2023-08-28T17:25:23.238510Z",
     "shell.execute_reply": "2023-08-28T17:25:23.237403Z",
     "shell.execute_reply.started": "2023-08-28T17:25:23.202548Z"
    }
   },
   "outputs": [
    {
     "data": {
      "text/html": [
       "<div>\n",
       "<style scoped>\n",
       "    .dataframe tbody tr th:only-of-type {\n",
       "        vertical-align: middle;\n",
       "    }\n",
       "\n",
       "    .dataframe tbody tr th {\n",
       "        vertical-align: top;\n",
       "    }\n",
       "\n",
       "    .dataframe thead th {\n",
       "        text-align: right;\n",
       "    }\n",
       "</style>\n",
       "<table border=\"1\" class=\"dataframe\">\n",
       "  <thead>\n",
       "    <tr style=\"text-align: right;\">\n",
       "      <th></th>\n",
       "      <th>average_score</th>\n",
       "      <th>review_total_negative_word_counts</th>\n",
       "      <th>review_total_positive_word_counts</th>\n",
       "      <th>total_number_of_reviews_reviewer_has_given</th>\n",
       "      <th>days_since_review</th>\n",
       "      <th>lat</th>\n",
       "      <th>lng</th>\n",
       "      <th>reviewer_score</th>\n",
       "      <th>negative_boole</th>\n",
       "      <th>positive_boole</th>\n",
       "      <th>...</th>\n",
       "      <th>Deluxe Double Room</th>\n",
       "      <th>Double or Twin Room</th>\n",
       "      <th>Stayed 5 nights</th>\n",
       "      <th>Standard Double or Twin Room</th>\n",
       "      <th>Classic Double Room</th>\n",
       "      <th>Superior Double or Twin Room</th>\n",
       "      <th>2 rooms</th>\n",
       "      <th>Stayed 6 nights</th>\n",
       "      <th>Standard Twin Room</th>\n",
       "      <th>Single Room</th>\n",
       "    </tr>\n",
       "  </thead>\n",
       "  <tbody>\n",
       "    <tr>\n",
       "      <th>39925</th>\n",
       "      <td>9.1</td>\n",
       "      <td>0</td>\n",
       "      <td>35</td>\n",
       "      <td>1</td>\n",
       "      <td>7</td>\n",
       "      <td>51.510237</td>\n",
       "      <td>-0.076443</td>\n",
       "      <td>0.0</td>\n",
       "      <td>0</td>\n",
       "      <td>1</td>\n",
       "      <td>...</td>\n",
       "      <td>0</td>\n",
       "      <td>0</td>\n",
       "      <td>0</td>\n",
       "      <td>0</td>\n",
       "      <td>0</td>\n",
       "      <td>0</td>\n",
       "      <td>0</td>\n",
       "      <td>0</td>\n",
       "      <td>0</td>\n",
       "      <td>0</td>\n",
       "    </tr>\n",
       "    <tr>\n",
       "      <th>25705</th>\n",
       "      <td>8.1</td>\n",
       "      <td>6</td>\n",
       "      <td>10</td>\n",
       "      <td>1</td>\n",
       "      <td>280</td>\n",
       "      <td>51.499046</td>\n",
       "      <td>-0.191707</td>\n",
       "      <td>0.0</td>\n",
       "      <td>1</td>\n",
       "      <td>1</td>\n",
       "      <td>...</td>\n",
       "      <td>0</td>\n",
       "      <td>0</td>\n",
       "      <td>0</td>\n",
       "      <td>0</td>\n",
       "      <td>0</td>\n",
       "      <td>0</td>\n",
       "      <td>0</td>\n",
       "      <td>0</td>\n",
       "      <td>0</td>\n",
       "      <td>0</td>\n",
       "    </tr>\n",
       "    <tr>\n",
       "      <th>93017</th>\n",
       "      <td>7.7</td>\n",
       "      <td>2</td>\n",
       "      <td>17</td>\n",
       "      <td>6</td>\n",
       "      <td>14</td>\n",
       "      <td>48.870125</td>\n",
       "      <td>2.311141</td>\n",
       "      <td>0.0</td>\n",
       "      <td>0</td>\n",
       "      <td>1</td>\n",
       "      <td>...</td>\n",
       "      <td>0</td>\n",
       "      <td>0</td>\n",
       "      <td>0</td>\n",
       "      <td>0</td>\n",
       "      <td>0</td>\n",
       "      <td>0</td>\n",
       "      <td>0</td>\n",
       "      <td>0</td>\n",
       "      <td>0</td>\n",
       "      <td>0</td>\n",
       "    </tr>\n",
       "    <tr>\n",
       "      <th>22181</th>\n",
       "      <td>8.7</td>\n",
       "      <td>70</td>\n",
       "      <td>59</td>\n",
       "      <td>4</td>\n",
       "      <td>358</td>\n",
       "      <td>51.493616</td>\n",
       "      <td>-0.159235</td>\n",
       "      <td>0.0</td>\n",
       "      <td>1</td>\n",
       "      <td>1</td>\n",
       "      <td>...</td>\n",
       "      <td>0</td>\n",
       "      <td>0</td>\n",
       "      <td>0</td>\n",
       "      <td>0</td>\n",
       "      <td>0</td>\n",
       "      <td>0</td>\n",
       "      <td>0</td>\n",
       "      <td>0</td>\n",
       "      <td>0</td>\n",
       "      <td>0</td>\n",
       "    </tr>\n",
       "    <tr>\n",
       "      <th>28991</th>\n",
       "      <td>9.0</td>\n",
       "      <td>0</td>\n",
       "      <td>8</td>\n",
       "      <td>2</td>\n",
       "      <td>310</td>\n",
       "      <td>52.377743</td>\n",
       "      <td>4.897057</td>\n",
       "      <td>0.0</td>\n",
       "      <td>0</td>\n",
       "      <td>1</td>\n",
       "      <td>...</td>\n",
       "      <td>0</td>\n",
       "      <td>0</td>\n",
       "      <td>0</td>\n",
       "      <td>0</td>\n",
       "      <td>0</td>\n",
       "      <td>0</td>\n",
       "      <td>0</td>\n",
       "      <td>0</td>\n",
       "      <td>0</td>\n",
       "      <td>0</td>\n",
       "    </tr>\n",
       "    <tr>\n",
       "      <th>62295</th>\n",
       "      <td>8.9</td>\n",
       "      <td>0</td>\n",
       "      <td>70</td>\n",
       "      <td>2</td>\n",
       "      <td>290</td>\n",
       "      <td>51.520631</td>\n",
       "      <td>-0.091534</td>\n",
       "      <td>0.0</td>\n",
       "      <td>0</td>\n",
       "      <td>1</td>\n",
       "      <td>...</td>\n",
       "      <td>0</td>\n",
       "      <td>0</td>\n",
       "      <td>0</td>\n",
       "      <td>0</td>\n",
       "      <td>0</td>\n",
       "      <td>0</td>\n",
       "      <td>0</td>\n",
       "      <td>0</td>\n",
       "      <td>0</td>\n",
       "      <td>0</td>\n",
       "    </tr>\n",
       "    <tr>\n",
       "      <th>85759</th>\n",
       "      <td>8.7</td>\n",
       "      <td>0</td>\n",
       "      <td>21</td>\n",
       "      <td>12</td>\n",
       "      <td>534</td>\n",
       "      <td>41.393597</td>\n",
       "      <td>2.174272</td>\n",
       "      <td>0.0</td>\n",
       "      <td>0</td>\n",
       "      <td>1</td>\n",
       "      <td>...</td>\n",
       "      <td>0</td>\n",
       "      <td>0</td>\n",
       "      <td>0</td>\n",
       "      <td>0</td>\n",
       "      <td>0</td>\n",
       "      <td>0</td>\n",
       "      <td>0</td>\n",
       "      <td>0</td>\n",
       "      <td>0</td>\n",
       "      <td>0</td>\n",
       "    </tr>\n",
       "    <tr>\n",
       "      <th>18564</th>\n",
       "      <td>8.5</td>\n",
       "      <td>15</td>\n",
       "      <td>5</td>\n",
       "      <td>30</td>\n",
       "      <td>572</td>\n",
       "      <td>48.213305</td>\n",
       "      <td>16.356788</td>\n",
       "      <td>0.0</td>\n",
       "      <td>1</td>\n",
       "      <td>1</td>\n",
       "      <td>...</td>\n",
       "      <td>0</td>\n",
       "      <td>0</td>\n",
       "      <td>0</td>\n",
       "      <td>0</td>\n",
       "      <td>0</td>\n",
       "      <td>0</td>\n",
       "      <td>0</td>\n",
       "      <td>0</td>\n",
       "      <td>0</td>\n",
       "      <td>0</td>\n",
       "    </tr>\n",
       "    <tr>\n",
       "      <th>23365</th>\n",
       "      <td>8.5</td>\n",
       "      <td>53</td>\n",
       "      <td>3</td>\n",
       "      <td>7</td>\n",
       "      <td>604</td>\n",
       "      <td>52.363889</td>\n",
       "      <td>4.881302</td>\n",
       "      <td>0.0</td>\n",
       "      <td>1</td>\n",
       "      <td>1</td>\n",
       "      <td>...</td>\n",
       "      <td>0</td>\n",
       "      <td>0</td>\n",
       "      <td>0</td>\n",
       "      <td>0</td>\n",
       "      <td>1</td>\n",
       "      <td>0</td>\n",
       "      <td>0</td>\n",
       "      <td>0</td>\n",
       "      <td>0</td>\n",
       "      <td>0</td>\n",
       "    </tr>\n",
       "    <tr>\n",
       "      <th>90153</th>\n",
       "      <td>8.9</td>\n",
       "      <td>16</td>\n",
       "      <td>38</td>\n",
       "      <td>1</td>\n",
       "      <td>10</td>\n",
       "      <td>48.839662</td>\n",
       "      <td>2.330058</td>\n",
       "      <td>0.0</td>\n",
       "      <td>1</td>\n",
       "      <td>1</td>\n",
       "      <td>...</td>\n",
       "      <td>0</td>\n",
       "      <td>0</td>\n",
       "      <td>0</td>\n",
       "      <td>0</td>\n",
       "      <td>0</td>\n",
       "      <td>0</td>\n",
       "      <td>0</td>\n",
       "      <td>0</td>\n",
       "      <td>0</td>\n",
       "      <td>0</td>\n",
       "    </tr>\n",
       "  </tbody>\n",
       "</table>\n",
       "<p>10 rows × 81 columns</p>\n",
       "</div>"
      ],
      "text/plain": [
       "       average_score  review_total_negative_word_counts  \\\n",
       "39925            9.1                                  0   \n",
       "25705            8.1                                  6   \n",
       "93017            7.7                                  2   \n",
       "22181            8.7                                 70   \n",
       "28991            9.0                                  0   \n",
       "62295            8.9                                  0   \n",
       "85759            8.7                                  0   \n",
       "18564            8.5                                 15   \n",
       "23365            8.5                                 53   \n",
       "90153            8.9                                 16   \n",
       "\n",
       "       review_total_positive_word_counts  \\\n",
       "39925                                 35   \n",
       "25705                                 10   \n",
       "93017                                 17   \n",
       "22181                                 59   \n",
       "28991                                  8   \n",
       "62295                                 70   \n",
       "85759                                 21   \n",
       "18564                                  5   \n",
       "23365                                  3   \n",
       "90153                                 38   \n",
       "\n",
       "       total_number_of_reviews_reviewer_has_given  days_since_review  \\\n",
       "39925                                           1                  7   \n",
       "25705                                           1                280   \n",
       "93017                                           6                 14   \n",
       "22181                                           4                358   \n",
       "28991                                           2                310   \n",
       "62295                                           2                290   \n",
       "85759                                          12                534   \n",
       "18564                                          30                572   \n",
       "23365                                           7                604   \n",
       "90153                                           1                 10   \n",
       "\n",
       "             lat        lng  reviewer_score  negative_boole  positive_boole  \\\n",
       "39925  51.510237  -0.076443             0.0               0               1   \n",
       "25705  51.499046  -0.191707             0.0               1               1   \n",
       "93017  48.870125   2.311141             0.0               0               1   \n",
       "22181  51.493616  -0.159235             0.0               1               1   \n",
       "28991  52.377743   4.897057             0.0               0               1   \n",
       "62295  51.520631  -0.091534             0.0               0               1   \n",
       "85759  41.393597   2.174272             0.0               0               1   \n",
       "18564  48.213305  16.356788             0.0               1               1   \n",
       "23365  52.363889   4.881302             0.0               1               1   \n",
       "90153  48.839662   2.330058             0.0               1               1   \n",
       "\n",
       "       ...  Deluxe Double Room  Double or Twin Room  Stayed 5 nights  \\\n",
       "39925  ...                   0                    0                0   \n",
       "25705  ...                   0                    0                0   \n",
       "93017  ...                   0                    0                0   \n",
       "22181  ...                   0                    0                0   \n",
       "28991  ...                   0                    0                0   \n",
       "62295  ...                   0                    0                0   \n",
       "85759  ...                   0                    0                0   \n",
       "18564  ...                   0                    0                0   \n",
       "23365  ...                   0                    0                0   \n",
       "90153  ...                   0                    0                0   \n",
       "\n",
       "       Standard Double or Twin Room  Classic Double Room  \\\n",
       "39925                             0                    0   \n",
       "25705                             0                    0   \n",
       "93017                             0                    0   \n",
       "22181                             0                    0   \n",
       "28991                             0                    0   \n",
       "62295                             0                    0   \n",
       "85759                             0                    0   \n",
       "18564                             0                    0   \n",
       "23365                             0                    1   \n",
       "90153                             0                    0   \n",
       "\n",
       "       Superior Double or Twin Room  2 rooms  Stayed 6 nights  \\\n",
       "39925                             0        0                0   \n",
       "25705                             0        0                0   \n",
       "93017                             0        0                0   \n",
       "22181                             0        0                0   \n",
       "28991                             0        0                0   \n",
       "62295                             0        0                0   \n",
       "85759                             0        0                0   \n",
       "18564                             0        0                0   \n",
       "23365                             0        0                0   \n",
       "90153                             0        0                0   \n",
       "\n",
       "       Standard Twin Room  Single Room  \n",
       "39925                   0            0  \n",
       "25705                   0            0  \n",
       "93017                   0            0  \n",
       "22181                   0            0  \n",
       "28991                   0            0  \n",
       "62295                   0            0  \n",
       "85759                   0            0  \n",
       "18564                   0            0  \n",
       "23365                   0            0  \n",
       "90153                   0            0  \n",
       "\n",
       "[10 rows x 81 columns]"
      ]
     },
     "execution_count": 109,
     "metadata": {},
     "output_type": "execute_result"
    }
   ],
   "source": [
    "test_data.sample(10)\n"
   ]
  },
  {
   "cell_type": "code",
   "execution_count": 110,
   "metadata": {
    "execution": {
     "iopub.execute_input": "2023-08-28T17:25:23.240189Z",
     "iopub.status.busy": "2023-08-28T17:25:23.239936Z",
     "iopub.status.idle": "2023-08-28T17:25:23.265336Z",
     "shell.execute_reply": "2023-08-28T17:25:23.264322Z",
     "shell.execute_reply.started": "2023-08-28T17:25:23.240156Z"
    }
   },
   "outputs": [],
   "source": [
    "test_data = test_data.drop(['reviewer_score'], axis=1)\n"
   ]
  },
  {
   "cell_type": "code",
   "execution_count": 111,
   "metadata": {
    "execution": {
     "iopub.execute_input": "2023-08-28T17:25:23.268246Z",
     "iopub.status.busy": "2023-08-28T17:25:23.267465Z",
     "iopub.status.idle": "2023-08-28T17:25:23.290262Z",
     "shell.execute_reply": "2023-08-28T17:25:23.289019Z",
     "shell.execute_reply.started": "2023-08-28T17:25:23.268185Z"
    }
   },
   "outputs": [
    {
     "data": {
      "text/html": [
       "<div>\n",
       "<style scoped>\n",
       "    .dataframe tbody tr th:only-of-type {\n",
       "        vertical-align: middle;\n",
       "    }\n",
       "\n",
       "    .dataframe tbody tr th {\n",
       "        vertical-align: top;\n",
       "    }\n",
       "\n",
       "    .dataframe thead th {\n",
       "        text-align: right;\n",
       "    }\n",
       "</style>\n",
       "<table border=\"1\" class=\"dataframe\">\n",
       "  <thead>\n",
       "    <tr style=\"text-align: right;\">\n",
       "      <th></th>\n",
       "      <th>reviewer_score</th>\n",
       "      <th>id</th>\n",
       "    </tr>\n",
       "  </thead>\n",
       "  <tbody>\n",
       "    <tr>\n",
       "      <th>0</th>\n",
       "      <td>1</td>\n",
       "      <td>488440</td>\n",
       "    </tr>\n",
       "    <tr>\n",
       "      <th>1</th>\n",
       "      <td>10</td>\n",
       "      <td>274649</td>\n",
       "    </tr>\n",
       "    <tr>\n",
       "      <th>2</th>\n",
       "      <td>3</td>\n",
       "      <td>374688</td>\n",
       "    </tr>\n",
       "    <tr>\n",
       "      <th>3</th>\n",
       "      <td>10</td>\n",
       "      <td>404352</td>\n",
       "    </tr>\n",
       "    <tr>\n",
       "      <th>4</th>\n",
       "      <td>9</td>\n",
       "      <td>451596</td>\n",
       "    </tr>\n",
       "    <tr>\n",
       "      <th>...</th>\n",
       "      <td>...</td>\n",
       "      <td>...</td>\n",
       "    </tr>\n",
       "    <tr>\n",
       "      <th>128930</th>\n",
       "      <td>7</td>\n",
       "      <td>495812</td>\n",
       "    </tr>\n",
       "    <tr>\n",
       "      <th>128931</th>\n",
       "      <td>1</td>\n",
       "      <td>315577</td>\n",
       "    </tr>\n",
       "    <tr>\n",
       "      <th>128932</th>\n",
       "      <td>3</td>\n",
       "      <td>511968</td>\n",
       "    </tr>\n",
       "    <tr>\n",
       "      <th>128933</th>\n",
       "      <td>6</td>\n",
       "      <td>303386</td>\n",
       "    </tr>\n",
       "    <tr>\n",
       "      <th>128934</th>\n",
       "      <td>5</td>\n",
       "      <td>103157</td>\n",
       "    </tr>\n",
       "  </tbody>\n",
       "</table>\n",
       "<p>128935 rows × 2 columns</p>\n",
       "</div>"
      ],
      "text/plain": [
       "        reviewer_score      id\n",
       "0                    1  488440\n",
       "1                   10  274649\n",
       "2                    3  374688\n",
       "3                   10  404352\n",
       "4                    9  451596\n",
       "...                ...     ...\n",
       "128930               7  495812\n",
       "128931               1  315577\n",
       "128932               3  511968\n",
       "128933               6  303386\n",
       "128934               5  103157\n",
       "\n",
       "[128935 rows x 2 columns]"
      ]
     },
     "execution_count": 111,
     "metadata": {},
     "output_type": "execute_result"
    }
   ],
   "source": [
    "sample_submission\n"
   ]
  },
  {
   "cell_type": "code",
   "execution_count": 112,
   "metadata": {
    "execution": {
     "iopub.execute_input": "2023-08-28T17:25:23.293161Z",
     "iopub.status.busy": "2023-08-28T17:25:23.292231Z",
     "iopub.status.idle": "2023-08-28T17:25:26.379020Z",
     "shell.execute_reply": "2023-08-28T17:25:26.377955Z",
     "shell.execute_reply.started": "2023-08-28T17:25:23.293099Z"
    }
   },
   "outputs": [
    {
     "name": "stderr",
     "output_type": "stream",
     "text": [
      "[Parallel(n_jobs=8)]: Using backend ThreadingBackend with 8 concurrent workers.\n",
      "[Parallel(n_jobs=8)]: Done  34 tasks      | elapsed:    1.1s\n",
      "[Parallel(n_jobs=8)]: Done 100 out of 100 | elapsed:    2.8s finished\n"
     ]
    }
   ],
   "source": [
    "predict_submission = model.predict(test_data)\n"
   ]
  },
  {
   "cell_type": "code",
   "execution_count": 113,
   "metadata": {
    "execution": {
     "iopub.execute_input": "2023-08-28T17:25:26.380626Z",
     "iopub.status.busy": "2023-08-28T17:25:26.380354Z",
     "iopub.status.idle": "2023-08-28T17:25:26.388471Z",
     "shell.execute_reply": "2023-08-28T17:25:26.387335Z",
     "shell.execute_reply.started": "2023-08-28T17:25:26.380590Z"
    }
   },
   "outputs": [
    {
     "data": {
      "text/plain": [
       "array([8.025, 7.297, 7.905, ..., 8.361, 9.498, 7.559])"
      ]
     },
     "execution_count": 113,
     "metadata": {},
     "output_type": "execute_result"
    }
   ],
   "source": [
    "predict_submission\n"
   ]
  },
  {
   "cell_type": "code",
   "execution_count": 114,
   "metadata": {
    "execution": {
     "iopub.execute_input": "2023-08-28T17:25:26.390376Z",
     "iopub.status.busy": "2023-08-28T17:25:26.390030Z",
     "iopub.status.idle": "2023-08-28T17:25:26.404932Z",
     "shell.execute_reply": "2023-08-28T17:25:26.404103Z",
     "shell.execute_reply.started": "2023-08-28T17:25:26.390329Z"
    }
   },
   "outputs": [
    {
     "data": {
      "text/plain": [
       "['reviewer_score', 'id']"
      ]
     },
     "execution_count": 114,
     "metadata": {},
     "output_type": "execute_result"
    }
   ],
   "source": [
    "list(sample_submission)\n"
   ]
  },
  {
   "cell_type": "code",
   "execution_count": 115,
   "metadata": {
    "execution": {
     "iopub.execute_input": "2023-08-28T17:25:26.407114Z",
     "iopub.status.busy": "2023-08-28T17:25:26.406095Z",
     "iopub.status.idle": "2023-08-28T17:25:26.748267Z",
     "shell.execute_reply": "2023-08-28T17:25:26.747194Z",
     "shell.execute_reply.started": "2023-08-28T17:25:26.406909Z"
    }
   },
   "outputs": [
    {
     "data": {
      "text/html": [
       "<div>\n",
       "<style scoped>\n",
       "    .dataframe tbody tr th:only-of-type {\n",
       "        vertical-align: middle;\n",
       "    }\n",
       "\n",
       "    .dataframe tbody tr th {\n",
       "        vertical-align: top;\n",
       "    }\n",
       "\n",
       "    .dataframe thead th {\n",
       "        text-align: right;\n",
       "    }\n",
       "</style>\n",
       "<table border=\"1\" class=\"dataframe\">\n",
       "  <thead>\n",
       "    <tr style=\"text-align: right;\">\n",
       "      <th></th>\n",
       "      <th>reviewer_score</th>\n",
       "      <th>id</th>\n",
       "    </tr>\n",
       "  </thead>\n",
       "  <tbody>\n",
       "    <tr>\n",
       "      <th>0</th>\n",
       "      <td>8.0</td>\n",
       "      <td>488440</td>\n",
       "    </tr>\n",
       "    <tr>\n",
       "      <th>1</th>\n",
       "      <td>7.3</td>\n",
       "      <td>274649</td>\n",
       "    </tr>\n",
       "    <tr>\n",
       "      <th>2</th>\n",
       "      <td>7.9</td>\n",
       "      <td>374688</td>\n",
       "    </tr>\n",
       "    <tr>\n",
       "      <th>3</th>\n",
       "      <td>9.7</td>\n",
       "      <td>404352</td>\n",
       "    </tr>\n",
       "    <tr>\n",
       "      <th>4</th>\n",
       "      <td>9.5</td>\n",
       "      <td>451596</td>\n",
       "    </tr>\n",
       "    <tr>\n",
       "      <th>5</th>\n",
       "      <td>8.5</td>\n",
       "      <td>302161</td>\n",
       "    </tr>\n",
       "    <tr>\n",
       "      <th>6</th>\n",
       "      <td>8.2</td>\n",
       "      <td>317079</td>\n",
       "    </tr>\n",
       "    <tr>\n",
       "      <th>7</th>\n",
       "      <td>7.5</td>\n",
       "      <td>13963</td>\n",
       "    </tr>\n",
       "    <tr>\n",
       "      <th>8</th>\n",
       "      <td>8.9</td>\n",
       "      <td>159785</td>\n",
       "    </tr>\n",
       "    <tr>\n",
       "      <th>9</th>\n",
       "      <td>8.5</td>\n",
       "      <td>195089</td>\n",
       "    </tr>\n",
       "  </tbody>\n",
       "</table>\n",
       "</div>"
      ],
      "text/plain": [
       "   reviewer_score      id\n",
       "0             8.0  488440\n",
       "1             7.3  274649\n",
       "2             7.9  374688\n",
       "3             9.7  404352\n",
       "4             9.5  451596\n",
       "5             8.5  302161\n",
       "6             8.2  317079\n",
       "7             7.5   13963\n",
       "8             8.9  159785\n",
       "9             8.5  195089"
      ]
     },
     "execution_count": 115,
     "metadata": {},
     "output_type": "execute_result"
    }
   ],
   "source": [
    "sample_submission['reviewer_score'] = np.round(predict_submission, 1)\n",
    "sample_submission.to_csv('submission.csv', index=False)\n",
    "sample_submission.head(10)\n"
   ]
  },
  {
   "cell_type": "code",
   "execution_count": null,
   "metadata": {},
   "outputs": [],
   "source": []
  },
  {
   "cell_type": "code",
   "execution_count": null,
   "metadata": {},
   "outputs": [],
   "source": []
  },
  {
   "cell_type": "code",
   "execution_count": null,
   "metadata": {},
   "outputs": [],
   "source": []
  }
 ],
 "metadata": {
  "kernelspec": {
   "display_name": "Python 3 (ipykernel)",
   "language": "python",
   "name": "python3"
  },
  "language_info": {
   "codemirror_mode": {
    "name": "ipython",
    "version": 3
   },
   "file_extension": ".py",
   "mimetype": "text/x-python",
   "name": "python",
   "nbconvert_exporter": "python",
   "pygments_lexer": "ipython3",
   "version": "3.9.10"
  }
 },
 "nbformat": 4,
 "nbformat_minor": 4
}
